{
 "cells": [
  {
   "cell_type": "markdown",
   "id": "d30c747f",
   "metadata": {},
   "source": [
    "<div style=\"border:solid green 3px; padding: 20px\">\n",
    "<b>🥇 Ростислав, спасибо за доработки, проект принят, молодец!</b>\n",
    "    \n",
    "Ты провел отличную работу над ошибками! Уверен, ты обязательно достигнешь своей цели! Успехов в дальнейшем обучении! 🙂\n",
    "    "
   ]
  },
  {
   "cell_type": "markdown",
   "id": "7b140bcc",
   "metadata": {},
   "source": [
    "Ростислав, привет! Меня зовут Ефимов Денис и сегодня я буду делать ревью твоего проекта!\\\n",
    "В Практикуме принято общаться на \"ты\", однако если это неудобно - дай знать, и можем перейти на более официальное общение.\n",
    "\n",
    "Ниже ты найдешь мои комментарии - пожалуйста, не перемещай, не изменяй и не удаляй их. Я буду использовать цветовую разметку: \n",
    "\n",
    "<div class=\"alert alert-block alert-success\">\n",
    "<b>✅Комментарий ревьюера:</b> Если все сделано хорошо. </div>\n",
    "\n",
    "<div class=\"alert alert-block alert-warning\">\n",
    "<b>🔁Комментарий ревьюера:</b> Некритичное замечание; если таких замечаний меньше трех — проект может быть принят без их отработки.</div>\n",
    "\n",
    "<div class=\"alert alert-block alert-danger\">\n",
    "<b>❌Комментарий ревьюера:</b> Грубая ошибка, необходимо исправить, иначе проект не будет принят.\n",
    "</div>\n",
    "\n",
    "Давай работать над проектом в диалоге: если ты что-то меняешь в проекте или отвечаешь на мои комментарии — пиши об этом. Мне будет легче отследить изменения, если ты выделишь свои комментарии:\n",
    "Например так:\n",
    "<div class=\"alert alert-block alert-info\">\n",
    "<b>🔄Комментарий студента:</b> \n",
    "Hello World! ✔\n",
    "</div>\n",
    "\n",
    "Или можешь использовать эту галочку ✔ в моих комментариях, если писать особо нечего.\n",
    "\n",
    "<div class=\"alert alert-block alert-warning\">\n",
    "<b>Общее впечатление:</b> \n",
    "    \n",
    "- Ты проделал огромную работу:)\n",
    "- У меня есть несколько замечаний, исправив которые ты сделаешь проект еще лучше.\n",
    "- Пробегись по моим комментариям, исправь недочёты и всё будет отлично :)\n",
    "    \n",
    "</div>\n",
    "\n"
   ]
  },
  {
   "cell_type": "markdown",
   "metadata": {},
   "source": [
    "# Сборный проект №1"
   ]
  },
  {
   "cell_type": "markdown",
   "metadata": {},
   "source": [
    "### Цель исследования:\n",
    "1. Исследовать данные об успешности игр из доступных источников\n",
    "2. Выявить закономерности успешности\n",
    "3. Спрогнозировать дальнейшую деятельность компании на основе выявленных заканомерностей\n",
    "\n",
    "Данные доступны по этому пути: /datasets/games.csv. Далее будет произведена оценка данных на количество ошибок в датасете, так как данная информация не дана. Затем на этапе предобработки данных будут удалены все дефекты, которые можно будет устранить, для того, чтобы ошибки не искажали конечные результаты исследования. После этого можно будет приступать к исследовательскому анализу данных, составлению портретов и проверке гипотез.\n",
    "\n",
    "#### Следовательно, будут выделены такие этапы, как:\n",
    "- Обзор данных;\n",
    "- Предобработка данных;\n",
    "- Категоризация данных по требуемым периодам;\n",
    "- Выделение потенциально прибыльных платформ;\n",
    "- Поиск закономерностей;\n",
    "- Составление портрета пользователя по регионам;\n",
    "- Проверка гипотез;\n",
    "- Написание общего вывода по всему исследованию"
   ]
  },
  {
   "cell_type": "markdown",
   "id": "712da899",
   "metadata": {},
   "source": [
    "<div class=\"alert alert-block alert-success\">\n",
    "<b>✅Комментарий ревьюера:</b> Молодец, что написал введение! Но название проекту лучше давать более говорящее  </div>"
   ]
  },
  {
   "cell_type": "code",
   "execution_count": 1,
   "metadata": {},
   "outputs": [],
   "source": [
    "import pandas as pd\n",
    "import seaborn as sb\n",
    "import matplotlib.pyplot as plt\n",
    "from scipy import stats as st"
   ]
  },
  {
   "cell_type": "code",
   "execution_count": 2,
   "metadata": {},
   "outputs": [],
   "source": [
    "data = pd.read_csv('/datasets/games.csv')"
   ]
  },
  {
   "cell_type": "code",
   "execution_count": 3,
   "metadata": {},
   "outputs": [
    {
     "data": {
      "text/html": [
       "<div>\n",
       "<style scoped>\n",
       "    .dataframe tbody tr th:only-of-type {\n",
       "        vertical-align: middle;\n",
       "    }\n",
       "\n",
       "    .dataframe tbody tr th {\n",
       "        vertical-align: top;\n",
       "    }\n",
       "\n",
       "    .dataframe thead th {\n",
       "        text-align: right;\n",
       "    }\n",
       "</style>\n",
       "<table border=\"1\" class=\"dataframe\">\n",
       "  <thead>\n",
       "    <tr style=\"text-align: right;\">\n",
       "      <th></th>\n",
       "      <th>Name</th>\n",
       "      <th>Platform</th>\n",
       "      <th>Year_of_Release</th>\n",
       "      <th>Genre</th>\n",
       "      <th>NA_sales</th>\n",
       "      <th>EU_sales</th>\n",
       "      <th>JP_sales</th>\n",
       "      <th>Other_sales</th>\n",
       "      <th>Critic_Score</th>\n",
       "      <th>User_Score</th>\n",
       "      <th>Rating</th>\n",
       "    </tr>\n",
       "  </thead>\n",
       "  <tbody>\n",
       "    <tr>\n",
       "      <th>0</th>\n",
       "      <td>Wii Sports</td>\n",
       "      <td>Wii</td>\n",
       "      <td>2006.0</td>\n",
       "      <td>Sports</td>\n",
       "      <td>41.36</td>\n",
       "      <td>28.96</td>\n",
       "      <td>3.77</td>\n",
       "      <td>8.45</td>\n",
       "      <td>76.0</td>\n",
       "      <td>8</td>\n",
       "      <td>E</td>\n",
       "    </tr>\n",
       "    <tr>\n",
       "      <th>1</th>\n",
       "      <td>Super Mario Bros.</td>\n",
       "      <td>NES</td>\n",
       "      <td>1985.0</td>\n",
       "      <td>Platform</td>\n",
       "      <td>29.08</td>\n",
       "      <td>3.58</td>\n",
       "      <td>6.81</td>\n",
       "      <td>0.77</td>\n",
       "      <td>NaN</td>\n",
       "      <td>NaN</td>\n",
       "      <td>NaN</td>\n",
       "    </tr>\n",
       "    <tr>\n",
       "      <th>2</th>\n",
       "      <td>Mario Kart Wii</td>\n",
       "      <td>Wii</td>\n",
       "      <td>2008.0</td>\n",
       "      <td>Racing</td>\n",
       "      <td>15.68</td>\n",
       "      <td>12.76</td>\n",
       "      <td>3.79</td>\n",
       "      <td>3.29</td>\n",
       "      <td>82.0</td>\n",
       "      <td>8.3</td>\n",
       "      <td>E</td>\n",
       "    </tr>\n",
       "    <tr>\n",
       "      <th>3</th>\n",
       "      <td>Wii Sports Resort</td>\n",
       "      <td>Wii</td>\n",
       "      <td>2009.0</td>\n",
       "      <td>Sports</td>\n",
       "      <td>15.61</td>\n",
       "      <td>10.93</td>\n",
       "      <td>3.28</td>\n",
       "      <td>2.95</td>\n",
       "      <td>80.0</td>\n",
       "      <td>8</td>\n",
       "      <td>E</td>\n",
       "    </tr>\n",
       "    <tr>\n",
       "      <th>4</th>\n",
       "      <td>Pokemon Red/Pokemon Blue</td>\n",
       "      <td>GB</td>\n",
       "      <td>1996.0</td>\n",
       "      <td>Role-Playing</td>\n",
       "      <td>11.27</td>\n",
       "      <td>8.89</td>\n",
       "      <td>10.22</td>\n",
       "      <td>1.00</td>\n",
       "      <td>NaN</td>\n",
       "      <td>NaN</td>\n",
       "      <td>NaN</td>\n",
       "    </tr>\n",
       "  </tbody>\n",
       "</table>\n",
       "</div>"
      ],
      "text/plain": [
       "                       Name Platform  Year_of_Release         Genre  NA_sales  \\\n",
       "0                Wii Sports      Wii           2006.0        Sports     41.36   \n",
       "1         Super Mario Bros.      NES           1985.0      Platform     29.08   \n",
       "2            Mario Kart Wii      Wii           2008.0        Racing     15.68   \n",
       "3         Wii Sports Resort      Wii           2009.0        Sports     15.61   \n",
       "4  Pokemon Red/Pokemon Blue       GB           1996.0  Role-Playing     11.27   \n",
       "\n",
       "   EU_sales  JP_sales  Other_sales  Critic_Score User_Score Rating  \n",
       "0     28.96      3.77         8.45          76.0          8      E  \n",
       "1      3.58      6.81         0.77           NaN        NaN    NaN  \n",
       "2     12.76      3.79         3.29          82.0        8.3      E  \n",
       "3     10.93      3.28         2.95          80.0          8      E  \n",
       "4      8.89     10.22         1.00           NaN        NaN    NaN  "
      ]
     },
     "execution_count": 3,
     "metadata": {},
     "output_type": "execute_result"
    }
   ],
   "source": [
    "data.head()"
   ]
  },
  {
   "cell_type": "code",
   "execution_count": 4,
   "metadata": {},
   "outputs": [
    {
     "name": "stdout",
     "output_type": "stream",
     "text": [
      "<class 'pandas.core.frame.DataFrame'>\n",
      "RangeIndex: 16715 entries, 0 to 16714\n",
      "Data columns (total 11 columns):\n",
      " #   Column           Non-Null Count  Dtype  \n",
      "---  ------           --------------  -----  \n",
      " 0   Name             16713 non-null  object \n",
      " 1   Platform         16715 non-null  object \n",
      " 2   Year_of_Release  16446 non-null  float64\n",
      " 3   Genre            16713 non-null  object \n",
      " 4   NA_sales         16715 non-null  float64\n",
      " 5   EU_sales         16715 non-null  float64\n",
      " 6   JP_sales         16715 non-null  float64\n",
      " 7   Other_sales      16715 non-null  float64\n",
      " 8   Critic_Score     8137 non-null   float64\n",
      " 9   User_Score       10014 non-null  object \n",
      " 10  Rating           9949 non-null   object \n",
      "dtypes: float64(6), object(5)\n",
      "memory usage: 1.4+ MB\n"
     ]
    }
   ],
   "source": [
    "data.info()"
   ]
  },
  {
   "cell_type": "markdown",
   "metadata": {},
   "source": [
    "Отсюда сразу видны следующие проблемы:\n",
    "- Неккоректное название столбцов\n",
    "- Значительное количество пропусков в 3 столбцах: Critic_Score, User_Score, Rating\n",
    "- Неверные типы данных в столбцах: Year_of_Release, Critic_Score, User_Score"
   ]
  },
  {
   "cell_type": "markdown",
   "id": "ec9ed47f",
   "metadata": {},
   "source": [
    "<div class=\"alert alert-block alert-success\">\n",
    "<b>✅Комментарий ревьюера:</b> Отлично, с данными познакомились!  </div>"
   ]
  },
  {
   "cell_type": "markdown",
   "metadata": {},
   "source": [
    "### Обработка данных"
   ]
  },
  {
   "cell_type": "markdown",
   "metadata": {},
   "source": [
    "#### Замена названий столбцов"
   ]
  },
  {
   "cell_type": "code",
   "execution_count": 5,
   "metadata": {},
   "outputs": [],
   "source": [
    "new_columns = []\n",
    "for column in data.columns:\n",
    "    new_columns.append(column.lower())\n",
    "data.columns = new_columns"
   ]
  },
  {
   "cell_type": "markdown",
   "id": "9635a3dd",
   "metadata": {},
   "source": [
    "<div class=\"alert alert-block alert-success\">\n",
    "<b>✅Комментарий ревьюера:</b> \n",
    "\n",
    "Также названия столбцов можно привести в нижнему регистру, если к `df.columns` применить метод `str.lower`</div>\n",
    "\n",
    "```python\n",
    "\n",
    "                                    df.columns = df.columns.str.lower()\n",
    "    \n",
    "```"
   ]
  },
  {
   "cell_type": "markdown",
   "metadata": {},
   "source": [
    "<div class=\"alert alert-block alert-info\">\n",
    "<b>🔄Комментарий студента:</b> \n",
    "Спасибо)\n",
    "</div>"
   ]
  },
  {
   "cell_type": "markdown",
   "id": "c3c24969",
   "metadata": {},
   "source": [
    "<div class=\"alert alert-block alert-success\">\n",
    "<b>✅Комментарий ревьюера 2:</b> Пожалуйста)  </div>"
   ]
  },
  {
   "cell_type": "markdown",
   "metadata": {},
   "source": [
    "#### Преобразование типов данных и обработка пропусков"
   ]
  },
  {
   "cell_type": "code",
   "execution_count": 6,
   "metadata": {},
   "outputs": [
    {
     "data": {
      "text/plain": [
       "[1980.0,\n",
       " 1981.0,\n",
       " 1982.0,\n",
       " 1983.0,\n",
       " 1984.0,\n",
       " 1985.0,\n",
       " 1986.0,\n",
       " 1987.0,\n",
       " 1988.0,\n",
       " 1989.0,\n",
       " 1990.0,\n",
       " 1991.0,\n",
       " 1992.0,\n",
       " 1993.0,\n",
       " 1994.0,\n",
       " 1995.0,\n",
       " 1996.0,\n",
       " 1997.0,\n",
       " 1998.0,\n",
       " 1999.0,\n",
       " 2000.0,\n",
       " 2001.0,\n",
       " 2002.0,\n",
       " 2003.0,\n",
       " 2004.0,\n",
       " 2005.0,\n",
       " 2006.0,\n",
       " 2007.0,\n",
       " 2008.0,\n",
       " 2009.0,\n",
       " 2010.0,\n",
       " 2011.0,\n",
       " 2012.0,\n",
       " 2013.0,\n",
       " 2014.0,\n",
       " 2015.0,\n",
       " 2016.0,\n",
       " nan]"
      ]
     },
     "execution_count": 6,
     "metadata": {},
     "output_type": "execute_result"
    }
   ],
   "source": [
    "sorted(data['year_of_release'].unique())"
   ]
  },
  {
   "cell_type": "markdown",
   "metadata": {},
   "source": [
    "Проверили, что пропущенные значения в стобце не являются пропущенным годом и так как этих значений не так много, то можем просто удалить"
   ]
  },
  {
   "cell_type": "code",
   "execution_count": 7,
   "metadata": {},
   "outputs": [],
   "source": [
    "data.dropna(subset=['year_of_release'], inplace=True)"
   ]
  },
  {
   "cell_type": "code",
   "execution_count": 8,
   "metadata": {},
   "outputs": [],
   "source": [
    "data['year_of_release'] = data['year_of_release'].astype(int)"
   ]
  },
  {
   "cell_type": "markdown",
   "metadata": {},
   "source": [
    "Проверим, из каких значений состоят дефектные столбцы:"
   ]
  },
  {
   "cell_type": "code",
   "execution_count": 9,
   "metadata": {},
   "outputs": [
    {
     "data": {
      "text/plain": [
       "array(['8', nan, '8.3', '8.5', '6.6', '8.4', '8.6', '7.7', '6.3', '7.4',\n",
       "       '8.2', '9', '7.9', '8.1', '8.7', '7.1', '3.4', '5.3', '4.8', '3.2',\n",
       "       '8.9', '6.4', '7.8', '7.5', '2.6', '7.2', '9.2', '7', '7.3', '4.3',\n",
       "       '7.6', '5.7', '5', '9.1', '6.5', 'tbd', '8.8', '6.9', '9.4', '6.8',\n",
       "       '6.1', '6.7', '5.4', '4', '4.9', '4.5', '9.3', '6.2', '4.2', '6',\n",
       "       '3.7', '4.1', '5.8', '5.6', '5.5', '4.4', '4.6', '5.9', '3.9',\n",
       "       '3.1', '2.9', '5.2', '3.3', '4.7', '5.1', '3.5', '2.5', '1.9', '3',\n",
       "       '2.7', '2.2', '2', '9.5', '2.1', '3.6', '2.8', '1.8', '3.8', '0',\n",
       "       '1.6', '9.6', '2.4', '1.7', '1.1', '0.3', '1.5', '0.7', '1.2',\n",
       "       '2.3', '0.5', '1.3', '0.2', '0.6', '1.4', '0.9', '1', '9.7'],\n",
       "      dtype=object)"
      ]
     },
     "execution_count": 9,
     "metadata": {},
     "output_type": "execute_result"
    }
   ],
   "source": [
    "data['user_score'].unique()"
   ]
  },
  {
   "cell_type": "markdown",
   "metadata": {},
   "source": [
    "Странное значение tbd. Английская аббревиатура TBD — сокращение от To Be Determined. То есть значение пока не определено."
   ]
  },
  {
   "cell_type": "code",
   "execution_count": 10,
   "metadata": {},
   "outputs": [
    {
     "data": {
      "text/plain": [
       "tbd    2376\n",
       "7.8     322\n",
       "8       285\n",
       "8.2     276\n",
       "8.3     252\n",
       "       ... \n",
       "0.2       2\n",
       "1         2\n",
       "0.3       2\n",
       "9.7       1\n",
       "0         1\n",
       "Name: user_score, Length: 96, dtype: int64"
      ]
     },
     "execution_count": 10,
     "metadata": {},
     "output_type": "execute_result"
    }
   ],
   "source": [
    "data['user_score'].value_counts()"
   ]
  },
  {
   "cell_type": "markdown",
   "metadata": {},
   "source": [
    "Неопределенных значений большое количество, скорее всего на месте пропусков тоже значения tbd. Возможно, это связано с небольшим количеством игроков, поставивших оценку. И следовательно не набралось достаточной выборки для окончательной средней оценки игры. Значения tbd преобразуем в Nan."
   ]
  },
  {
   "cell_type": "markdown",
   "id": "889906a0",
   "metadata": {},
   "source": [
    "<div class=\"alert alert-block alert-warning\">\n",
    "<b>🔁Комментарий ревьюера:</b> \n",
    "\n",
    "Тут стоит пояснить читателю, что же мы все-таки делаем со значениями 'tbd'?</div>"
   ]
  },
  {
   "cell_type": "markdown",
   "metadata": {},
   "source": [
    "<div class=\"alert alert-block alert-info\">\n",
    "<b>🔄Комментарий студента:</b> \n",
    "Сделано\n",
    "</div>"
   ]
  },
  {
   "cell_type": "markdown",
   "id": "c3c24969",
   "metadata": {},
   "source": [
    "<div class=\"alert alert-block alert-success\">\n",
    "<b>✅Комментарий ревьюера 2:</b> Отлично, исправлено!👍  </div>"
   ]
  },
  {
   "cell_type": "code",
   "execution_count": 11,
   "metadata": {},
   "outputs": [],
   "source": [
    "data['user_score'] = pd.to_numeric(data['user_score'], errors='coerce')"
   ]
  },
  {
   "cell_type": "code",
   "execution_count": 12,
   "metadata": {},
   "outputs": [
    {
     "data": {
      "text/plain": [
       "array([76., nan, 82., 80., 89., 58., 87., 91., 61., 97., 95., 77., 88.,\n",
       "       83., 94., 93., 85., 86., 98., 96., 90., 84., 73., 74., 78., 92.,\n",
       "       71., 72., 68., 62., 49., 67., 81., 66., 56., 79., 70., 59., 64.,\n",
       "       75., 60., 63., 69., 50., 25., 42., 44., 55., 48., 57., 29., 47.,\n",
       "       65., 54., 20., 53., 37., 38., 33., 52., 30., 32., 43., 45., 51.,\n",
       "       40., 46., 39., 34., 41., 36., 31., 27., 35., 26., 19., 28., 23.,\n",
       "       24., 21., 17., 13.])"
      ]
     },
     "execution_count": 12,
     "metadata": {},
     "output_type": "execute_result"
    }
   ],
   "source": [
    "data['critic_score'].unique()"
   ]
  },
  {
   "cell_type": "markdown",
   "metadata": {},
   "source": [
    "Здесь все значения целочисленные, поэтому изменим тип на int, когда решим что делать с пропусками"
   ]
  },
  {
   "cell_type": "code",
   "execution_count": 13,
   "metadata": {},
   "outputs": [
    {
     "data": {
      "text/plain": [
       "array(['E', nan, 'M', 'T', 'E10+', 'K-A', 'AO', 'EC', 'RP'], dtype=object)"
      ]
     },
     "execution_count": 13,
     "metadata": {},
     "output_type": "execute_result"
    }
   ],
   "source": [
    "data['rating'].unique()"
   ]
  },
  {
   "cell_type": "markdown",
   "metadata": {},
   "source": [
    "Рейтинги означают:\n",
    "- «EC» («Early childhood») — «Для детей младшего возраста»\n",
    "- «E» («Everyone») — «Для всех»\n",
    "- «E10+» («Everyone 10 and older») — «Для всех от 10 лет и старше»\n",
    "- «T» («Teen») — «Подросткам»\n",
    "- «M» («Mature») — «Для взрослых»\n",
    "- «AO» («Adults Only 18+») — «Только для взрослых»\n",
    "- «RP» («Rating Pending») — «Рейтинг ожидается»"
   ]
  },
  {
   "cell_type": "code",
   "execution_count": 14,
   "metadata": {},
   "outputs": [
    {
     "data": {
      "text/plain": [
       "E       3921\n",
       "T       2905\n",
       "M       1536\n",
       "E10+    1393\n",
       "EC         8\n",
       "K-A        3\n",
       "RP         1\n",
       "AO         1\n",
       "Name: rating, dtype: int64"
      ]
     },
     "execution_count": 14,
     "metadata": {},
     "output_type": "execute_result"
    }
   ],
   "source": [
    "data['rating'].value_counts()"
   ]
  },
  {
   "cell_type": "markdown",
   "metadata": {},
   "source": [
    "В последних 4 категориях очень мало данных, поэтому можем их просто удалить"
   ]
  },
  {
   "cell_type": "code",
   "execution_count": 15,
   "metadata": {},
   "outputs": [],
   "source": [
    "data = data.query('rating != \"EC\" and rating != \"K-A\" and rating != \"RP\" and rating != \"AO\"')"
   ]
  },
  {
   "cell_type": "code",
   "execution_count": 16,
   "metadata": {},
   "outputs": [
    {
     "data": {
      "text/plain": [
       "PS      986\n",
       "DS      866\n",
       "PS2     671\n",
       "PSP     657\n",
       "PS3     371\n",
       "N64     316\n",
       "Wii     309\n",
       "GBA     297\n",
       "3DS     289\n",
       "PSV     279\n",
       "SNES    239\n",
       "X360    202\n",
       "PC      200\n",
       "SAT     173\n",
       "PS4     137\n",
       "2600    116\n",
       "NES      98\n",
       "GB       97\n",
       "XB       89\n",
       "GC       85\n",
       "XOne     61\n",
       "WiiU     42\n",
       "DC       38\n",
       "GEN      29\n",
       "NG       12\n",
       "WS        6\n",
       "SCD       6\n",
       "3DO       3\n",
       "TG16      2\n",
       "GG        1\n",
       "PCFX      1\n",
       "Name: platform, dtype: int64"
      ]
     },
     "execution_count": 16,
     "metadata": {},
     "output_type": "execute_result"
    }
   ],
   "source": [
    "data[data['rating'].isna()]['platform'].value_counts()"
   ]
  },
  {
   "cell_type": "markdown",
   "metadata": {},
   "source": [
    "Пропуски в колонке в рейтинге скорее всего связано с тем, что позициям еще не успели присвоить возрастное ограничение, следовательно присвоим рейтинг RP"
   ]
  },
  {
   "cell_type": "code",
   "execution_count": 17,
   "metadata": {},
   "outputs": [],
   "source": [
    "data['rating'].fillna('RP', inplace=True)"
   ]
  },
  {
   "cell_type": "code",
   "execution_count": 18,
   "metadata": {},
   "outputs": [
    {
     "data": {
      "text/plain": [
       "8976"
      ]
     },
     "execution_count": 18,
     "metadata": {},
     "output_type": "execute_result"
    }
   ],
   "source": [
    "data['user_score'].isna().sum()"
   ]
  },
  {
   "cell_type": "code",
   "execution_count": 19,
   "metadata": {},
   "outputs": [
    {
     "data": {
      "text/plain": [
       "8453"
      ]
     },
     "execution_count": 19,
     "metadata": {},
     "output_type": "execute_result"
    }
   ],
   "source": [
    "data['critic_score'].isna().sum()"
   ]
  },
  {
   "cell_type": "code",
   "execution_count": 20,
   "metadata": {},
   "outputs": [
    {
     "data": {
      "text/plain": [
       "7887"
      ]
     },
     "execution_count": 20,
     "metadata": {},
     "output_type": "execute_result"
    }
   ],
   "source": [
    "data[data['user_score'].isna()]['critic_score'].isna().sum()"
   ]
  },
  {
   "cell_type": "markdown",
   "metadata": {},
   "source": [
    "Большинство пропусков в обоих колонках совпадают, следовательно причина их возникновения в данных может быть одна"
   ]
  },
  {
   "cell_type": "code",
   "execution_count": 21,
   "metadata": {},
   "outputs": [
    {
     "data": {
      "image/png": "[encoded data removed]",
      "text/plain": [
       "<Figure size 432x288 with 1 Axes>"
      ]
     },
     "metadata": {
      "needs_background": "light"
     },
     "output_type": "display_data"
    }
   ],
   "source": [
    "data['user_score'].hist(bins=50);"
   ]
  },
  {
   "cell_type": "code",
   "execution_count": 22,
   "metadata": {},
   "outputs": [
    {
     "data": {
      "image/png": "[encoded data removed]",
      "text/plain": [
       "<Figure size 432x288 with 1 Axes>"
      ]
     },
     "metadata": {
      "needs_background": "light"
     },
     "output_type": "display_data"
    }
   ],
   "source": [
    "data['critic_score'].hist(bins=30);"
   ]
  },
  {
   "cell_type": "markdown",
   "metadata": {},
   "source": [
    "Прослеживается нормальное распределение со скошенностью вправо в обоих колонках. Если мы присвоим пропускам медианное значение, то картина распределения сильно исказится, так как пропущенных данных половина от всех."
   ]
  },
  {
   "cell_type": "code",
   "execution_count": 23,
   "metadata": {},
   "outputs": [
    {
     "name": "stderr",
     "output_type": "stream",
     "text": [
      "/tmp/ipykernel_300/2809597509.py:1: SettingWithCopyWarning: \n",
      "A value is trying to be set on a copy of a slice from a DataFrame.\n",
      "Try using .loc[row_indexer,col_indexer] = value instead\n",
      "\n",
      "See the caveats in the documentation: https://pandas.pydata.org/pandas-docs/stable/user_guide/indexing.html#returning-a-view-versus-a-copy\n",
      "  data.query('~critic_score.isna()')['critic_score'] = data.query('~critic_score.isna()')['critic_score'].astype(int)\n"
     ]
    }
   ],
   "source": [
    "data.query('~critic_score.isna()')['critic_score'] = data.query('~critic_score.isna()')['critic_score'].astype(int)"
   ]
  },
  {
   "cell_type": "markdown",
   "metadata": {},
   "source": [
    "В принципе можем не переводить тип данных в int, так как это не помешает в дальнейшем анализе, но а есть какая то функция или метод для более простого перевода в int?\n"
   ]
  },
  {
   "cell_type": "markdown",
   "id": "9e65f65b",
   "metadata": {},
   "source": [
    "<div class=\"alert alert-block alert-success\">\n",
    "<b>✅Комментарий ревьюера:</b> \n",
    "\n",
    "Чтобы привести к целочисленному типу данных столбец с пропусками, можно использовать тип `Int64` (с заглавной буквы)</div>"
   ]
  },
  {
   "cell_type": "markdown",
   "metadata": {},
   "source": [
    "<div class=\"alert alert-block alert-info\">\n",
    "<b>🔄Комментарий студента:</b> \n",
    "Спасибо)\n",
    "</div>"
   ]
  },
  {
   "cell_type": "markdown",
   "id": "c3c24969",
   "metadata": {},
   "source": [
    "<div class=\"alert alert-block alert-success\">\n",
    "<b>✅Комментарий ревьюера 2:</b>👍  </div>"
   ]
  },
  {
   "cell_type": "code",
   "execution_count": 24,
   "metadata": {},
   "outputs": [
    {
     "data": {
      "text/plain": [
       "0"
      ]
     },
     "execution_count": 24,
     "metadata": {},
     "output_type": "execute_result"
    }
   ],
   "source": [
    "data.duplicated().sum()"
   ]
  },
  {
   "cell_type": "markdown",
   "metadata": {},
   "source": [
    "#### Расчет суммарных продаж"
   ]
  },
  {
   "cell_type": "code",
   "execution_count": 25,
   "metadata": {},
   "outputs": [],
   "source": [
    "data['all_sales'] = data['na_sales'] + data['jp_sales'] + data['eu_sales'] + data['other_sales']"
   ]
  },
  {
   "cell_type": "markdown",
   "id": "75cfc0a7",
   "metadata": {},
   "source": [
    "<div class=\"alert alert-block alert-success\">\n",
    "<b>✅Комментарий ревьюера:</b> \n",
    "    \n",
    "Еще тут можно использовать метод `DataFrame.sum` с аргументом `axis=1`</div>\n",
    "\n",
    "```python\n",
    "\n",
    "        df['total_sum'] = df[['value_1', 'value_2', 'value_3', 'value_4']].sum(axis=1)\n",
    "    \n",
    "```"
   ]
  },
  {
   "cell_type": "markdown",
   "metadata": {},
   "source": [
    "#### Вывод по обработке данных\n",
    "\n",
    "Были устранены ошибки в данных, такие как:\n",
    "- Регистр в названии колонок;\n",
    "- Типы данных;\n",
    "- Пропуски в данных.\n",
    "\n",
    "Также в колонках с оценками было принято решение не заполнять пропуски медианными значениями, так как они могут сильно повлиять на картину распределения."
   ]
  },
  {
   "cell_type": "markdown",
   "id": "5f02a423",
   "metadata": {},
   "source": [
    "<div class=\"alert alert-block alert-success\">\n",
    "<b>✅Комментарий ревьюера:</b> Пропуски и типы данных обработаны, дополнительный столбец рассчитан и добавлен, можно приступать к исследованию! </div>"
   ]
  },
  {
   "cell_type": "markdown",
   "metadata": {},
   "source": [
    "### Исследовательский анализ данных"
   ]
  },
  {
   "cell_type": "markdown",
   "metadata": {},
   "source": [
    "#### Определение актуального периода продаж"
   ]
  },
  {
   "cell_type": "code",
   "execution_count": 26,
   "metadata": {},
   "outputs": [
    {
     "data": {
      "text/plain": [
       "37"
      ]
     },
     "execution_count": 26,
     "metadata": {},
     "output_type": "execute_result"
    }
   ],
   "source": [
    "len(data['year_of_release'].unique())"
   ]
  },
  {
   "cell_type": "code",
   "execution_count": 27,
   "metadata": {},
   "outputs": [
    {
     "data": {
      "image/png": "[encoded data removed]",
      "text/plain": [
       "<Figure size 720x360 with 1 Axes>"
      ]
     },
     "metadata": {
      "needs_background": "light"
     },
     "output_type": "display_data"
    }
   ],
   "source": [
    "data['year_of_release'].hist(bins=37, figsize=(10,5));\n"
   ]
  },
  {
   "cell_type": "code",
   "execution_count": 28,
   "metadata": {},
   "outputs": [
    {
     "data": {
      "image/png": "[encoded data removed]",
      "text/plain": [
       "<Figure size 720x360 with 1 Axes>"
      ]
     },
     "metadata": {
      "needs_background": "light"
     },
     "output_type": "display_data"
    }
   ],
   "source": [
    "(\n",
    "    data\n",
    "    .pivot_table(index='year_of_release',values='all_sales', aggfunc='sum')\n",
    "    .plot(grid=True, figsize=(10,5))\n",
    ");"
   ]
  },
  {
   "cell_type": "markdown",
   "metadata": {},
   "source": [
    "Видно, что количество выпущенных игр и продажи росли из года в год до 2008 года, после этого заметен характерный спад. Скорее всего, это связано с переходом продаж игр с дисковых носителей на цифровую дистрибуцию, тем самым, как следствие, рост пиратства."
   ]
  },
  {
   "cell_type": "code",
   "execution_count": 29,
   "metadata": {
    "scrolled": false
   },
   "outputs": [
    {
     "data": {
      "text/html": [
       "<div>\n",
       "<style scoped>\n",
       "    .dataframe tbody tr th:only-of-type {\n",
       "        vertical-align: middle;\n",
       "    }\n",
       "\n",
       "    .dataframe tbody tr th {\n",
       "        vertical-align: top;\n",
       "    }\n",
       "\n",
       "    .dataframe thead th {\n",
       "        text-align: right;\n",
       "    }\n",
       "</style>\n",
       "<table border=\"1\" class=\"dataframe\">\n",
       "  <thead>\n",
       "    <tr style=\"text-align: right;\">\n",
       "      <th></th>\n",
       "      <th></th>\n",
       "      <th>all_sales</th>\n",
       "    </tr>\n",
       "    <tr>\n",
       "      <th>platform</th>\n",
       "      <th>year_of_release</th>\n",
       "      <th></th>\n",
       "    </tr>\n",
       "  </thead>\n",
       "  <tbody>\n",
       "    <tr>\n",
       "      <th rowspan=\"5\" valign=\"top\">2600</th>\n",
       "      <th>1980</th>\n",
       "      <td>11.38</td>\n",
       "    </tr>\n",
       "    <tr>\n",
       "      <th>1981</th>\n",
       "      <td>35.68</td>\n",
       "    </tr>\n",
       "    <tr>\n",
       "      <th>1982</th>\n",
       "      <td>28.88</td>\n",
       "    </tr>\n",
       "    <tr>\n",
       "      <th>1983</th>\n",
       "      <td>5.84</td>\n",
       "    </tr>\n",
       "    <tr>\n",
       "      <th>1984</th>\n",
       "      <td>0.27</td>\n",
       "    </tr>\n",
       "  </tbody>\n",
       "</table>\n",
       "</div>"
      ],
      "text/plain": [
       "                          all_sales\n",
       "platform year_of_release           \n",
       "2600     1980                 11.38\n",
       "         1981                 35.68\n",
       "         1982                 28.88\n",
       "         1983                  5.84\n",
       "         1984                  0.27"
      ]
     },
     "execution_count": 29,
     "metadata": {},
     "output_type": "execute_result"
    }
   ],
   "source": [
    "(\n",
    "    data\n",
    "    .pivot_table(index=['platform','year_of_release'], \n",
    "                 values='all_sales', \n",
    "                 aggfunc='sum'\n",
    "                )\n",
    "    .head()\n",
    ")"
   ]
  },
  {
   "cell_type": "code",
   "execution_count": 30,
   "metadata": {},
   "outputs": [
    {
     "data": {
      "text/plain": [
       "Index(['PS2', 'X360', 'PS3', 'Wii', 'DS', 'PS', 'PS4', 'GBA', 'PSP', '3DS'], dtype='object', name='platform')"
      ]
     },
     "execution_count": 30,
     "metadata": {},
     "output_type": "execute_result"
    }
   ],
   "source": [
    "top10_sales_platform = (data\n",
    "                       .pivot_table(index='platform',\n",
    "                                    values='all_sales', \n",
    "                                    aggfunc='sum'\n",
    "                                   )['all_sales']\n",
    "                       .sort_values(ascending=False)\n",
    "                       .index[:10]\n",
    "                      )\n",
    "top10_sales_platform"
   ]
  },
  {
   "cell_type": "markdown",
   "id": "240e31f5",
   "metadata": {},
   "source": [
    "<div class=\"alert alert-block alert-warning\">\n",
    "<b>🔁Комментарий ревьюера:</b>\n",
    "\n",
    "Все библиотеки лучше импортировать в самом начале проекта, в отдельной ячейке. Если в процессе работы появилась необходимость добавить библиотеку, то ее можно дописать в эту ячейку и исполнить.</div>"
   ]
  },
  {
   "cell_type": "markdown",
   "metadata": {},
   "source": [
    "<div class=\"alert alert-block alert-info\">\n",
    "<b>🔄Комментарий студента:</b> \n",
    "Принял\n",
    "</div>"
   ]
  },
  {
   "cell_type": "markdown",
   "id": "c3c24969",
   "metadata": {},
   "source": [
    "<div class=\"alert alert-block alert-success\">\n",
    "<b>✅Комментарий ревьюера 2:</b> Отлично, исправлено!👍  </div>"
   ]
  },
  {
   "cell_type": "code",
   "execution_count": 31,
   "metadata": {},
   "outputs": [
    {
     "data": {
      "image/png": "[encoded data removed]",
      "text/plain": [
       "<Figure size 432x288 with 1 Axes>"
      ]
     },
     "metadata": {
      "needs_background": "light"
     },
     "output_type": "display_data"
    }
   ],
   "source": [
    "top = (\n",
    "    data\n",
    "    .pivot_table(index=['platform', 'year_of_release'],\n",
    "                 values='all_sales', \n",
    "                 aggfunc='sum'\n",
    "                )\n",
    "    .query('platform in @top10_sales_platform')\n",
    ")\n",
    "top.reset_index(inplace=True)\n",
    "sb.lineplot(data=top, x='year_of_release', y='all_sales', hue='platform');# не смог построить график, используя метод plot, поэтому использую seaborn"
   ]
  },
  {
   "cell_type": "markdown",
   "id": "60300fa1",
   "metadata": {},
   "source": [
    "<div class=\"alert alert-block alert-warning\">\n",
    "<b>🔁Комментарий ревьюера:</b>\n",
    "    \n",
    " - Кстати, в будущем тебе нужно будет подписывать каждый график и оси на нем для удобства восприятия. Есть [хорошая статья](https://devpractice.ru/matplotlib-lesson-3-3-text-elements/), которая подскажет как это правильно сделать)\n",
    "\n",
    " - Не заметил ли ты на графике некоторую странность (возможно ошибку)?</div>"
   ]
  },
  {
   "cell_type": "markdown",
   "metadata": {},
   "source": [
    "<div class=\"alert alert-block alert-info\">\n",
    "<b>🔄Комментарий студента:</b> \n",
    "Спасибо за статью.\n",
    "Ошибку теперь заметил, исправил\n",
    "</div>"
   ]
  },
  {
   "cell_type": "markdown",
   "id": "c3c24969",
   "metadata": {},
   "source": [
    "<div class=\"alert alert-block alert-success\">\n",
    "<b>✅Комментарий ревьюера 2:</b> Отлично, исправлено!👍  </div>"
   ]
  },
  {
   "cell_type": "markdown",
   "metadata": {},
   "source": [
    "Видим на графике, что у всех платформ характерный срок популярности варьируется от 5 до 10 лет. Поэтому в прогнозировании примем за актуальный период 7 лет (среднее), то есть период с 2010 по 2016 года."
   ]
  },
  {
   "cell_type": "code",
   "execution_count": 32,
   "metadata": {},
   "outputs": [],
   "source": [
    "data = data.query('~(year_of_release == 1985 and platform == \"DS\")')"
   ]
  },
  {
   "cell_type": "markdown",
   "metadata": {},
   "source": [
    "#### Оценка наиболее прибыльных платформ за актуальный период"
   ]
  },
  {
   "cell_type": "markdown",
   "id": "70cf96dd",
   "metadata": {},
   "source": [
    "<div class=\"alert alert-block alert-danger\">\n",
    "<b>❌Комментарий ревьюера:</b> \n",
    "    \n",
    "Актуальный период выбрал немного больше чем нужно. В этот срез могут попасть уже неактуальные платформы.    \n",
    "\n",
    "Учитывая высокую динамичность рынка, мы можем сделать вывод, что для дальнейшего анализа нам потребуются данные по платформам, возникшим не ранее 3 лет назад по отношению к 2017 году, на который нам нужно сделать прогноз и запланировать рекламные кампании. Так мы сможем выделить успешные платформы, которые на 2017 год будут находиться в периоде финального роста или выйдут на плато. </div>"
   ]
  },
  {
   "cell_type": "markdown",
   "metadata": {},
   "source": [
    "<div class=\"alert alert-block alert-info\">\n",
    "<b>🔄Комментарий студента:</b> \n",
    "Понял, исправил\n",
    "</div>"
   ]
  },
  {
   "cell_type": "markdown",
   "id": "c3c24969",
   "metadata": {},
   "source": [
    "<div class=\"alert alert-block alert-success\">\n",
    "<b>✅Комментарий ревьюера 2:</b> Отлично, исправлено!👍  </div>"
   ]
  },
  {
   "cell_type": "code",
   "execution_count": 33,
   "metadata": {},
   "outputs": [],
   "source": [
    "data_actual = data.query('year_of_release > 2013')"
   ]
  },
  {
   "cell_type": "code",
   "execution_count": 34,
   "metadata": {},
   "outputs": [
    {
     "data": {
      "text/plain": [
       "Index(['PS4', 'XOne', '3DS', 'PS3', 'X360', 'WiiU', 'PC', 'PSV', 'Wii', 'PSP'], dtype='object', name='platform')"
      ]
     },
     "execution_count": 34,
     "metadata": {},
     "output_type": "execute_result"
    }
   ],
   "source": [
    "top10_sales_platform_actual = (data_actual\n",
    "                       .pivot_table(index='platform',\n",
    "                                    values='all_sales', \n",
    "                                    aggfunc='sum'\n",
    "                                   )['all_sales']\n",
    "                       .sort_values(ascending=False)\n",
    "                       .index[:10]\n",
    "                      )\n",
    "top10_sales_platform_actual"
   ]
  },
  {
   "cell_type": "code",
   "execution_count": 35,
   "metadata": {},
   "outputs": [
    {
     "data": {
      "image/png": "[encoded data removed]",
      "text/plain": [
       "<Figure size 432x288 with 1 Axes>"
      ]
     },
     "metadata": {
      "needs_background": "light"
     },
     "output_type": "display_data"
    }
   ],
   "source": [
    "top_actual = (\n",
    "    data_actual\n",
    "    .pivot_table(index=['platform', 'year_of_release'],\n",
    "                 values='all_sales', \n",
    "                 aggfunc='sum'\n",
    "                )\n",
    "    .query('platform in @top10_sales_platform_actual')\n",
    ")\n",
    "top_actual.reset_index(inplace=True)\n",
    "sb.lineplot(data=top_actual, x='year_of_release', y='all_sales', hue='platform');"
   ]
  },
  {
   "cell_type": "markdown",
   "metadata": {},
   "source": [
    "По сравнению с 2015 годом, все платформы падают по продажам. Причина этого может быть связяна с тем, что не все данные еще доступны по 2016 году. Тем не менее самыми популярными платформами в 2016 году являются PS4, XOne, 3DS.\n",
    "Рост показывают такие платформы как PS4 и XOne, а остальные платформы постепенный спад или стагнацию.\n"
   ]
  },
  {
   "cell_type": "markdown",
   "id": "871fd744",
   "metadata": {},
   "source": [
    "<div class=\"alert alert-block alert-success\">\n",
    "<b>✅Комментарий ревьюера:</b> Потенциально прибыльные платформы ты выделил верно! </div>"
   ]
  },
  {
   "cell_type": "markdown",
   "id": "5dd15404",
   "metadata": {},
   "source": [
    "<div class=\"alert alert-block alert-warning\">\n",
    "<b>🔁Комментарий ревьюера:</b>\n",
    "\n",
    "- Библиотеку достаточно импортировать один раз и делать это стоит в отдельной ячейке в самом начале, о чем я уже писал выше.\n",
    "\n",
    "- Каждый раз фильтровать данные по году не очень удобно, это усложняет код и повышает вероятность совершения ошибки. Актуальный период лучше выделить в отдельный датафрейм и работать с ним.</div>"
   ]
  },
  {
   "cell_type": "markdown",
   "metadata": {},
   "source": [
    "<div class=\"alert alert-block alert-info\">\n",
    "<b>🔄Комментарий студента:</b> \n",
    "Понял, исправил\n",
    "</div>"
   ]
  },
  {
   "cell_type": "code",
   "execution_count": 36,
   "metadata": {},
   "outputs": [
    {
     "data": {
      "image/png": "[encoded data removed]",
      "text/plain": [
       "<Figure size 864x432 with 1 Axes>"
      ]
     },
     "metadata": {
      "needs_background": "light"
     },
     "output_type": "display_data"
    }
   ],
   "source": [
    "import matplotlib.pyplot as plt\n",
    "(\n",
    "    data_actual\n",
    "    .query('platform in @top10_sales_platform_actual')\n",
    "    .boxplot(column='all_sales', \n",
    "             by='platform', \n",
    "             figsize=(12,6)\n",
    "            )\n",
    ")\n",
    "plt.ylim(0, 2)\n",
    "plt.show()"
   ]
  },
  {
   "cell_type": "markdown",
   "metadata": {},
   "source": [
    "Медианное значение выше у таких платформ, как Wii, WiiU, XOne, PS4 и X360, следовательно можно считать данные платформы наиболее успешными за последние 3 года. Но учитывая рост продаж таких платформ, как XOne и PS4, то можно ожидать, что по показателям они будут выше"
   ]
  },
  {
   "cell_type": "markdown",
   "metadata": {},
   "source": [
    "#### Исследование влияния отзывов пользователей и критиков на продажи трех популярных платформ "
   ]
  },
  {
   "cell_type": "code",
   "execution_count": 37,
   "metadata": {},
   "outputs": [
    {
     "data": {
      "image/png": "[encoded data removed]",
      "text/plain": [
       "<Figure size 432x288 with 1 Axes>"
      ]
     },
     "metadata": {
      "needs_background": "light"
     },
     "output_type": "display_data"
    }
   ],
   "source": [
    "data_actual['all_sales'].hist(bins=50,range=(0,4));"
   ]
  },
  {
   "cell_type": "markdown",
   "id": "4b6d7dc9",
   "metadata": {
    "id": "5766e785"
   },
   "source": [
    "<div class=\"alert alert-block alert-danger\">\n",
    "<b>❌Комментарий ревьюера:</b> \n",
    "    \n",
    " - Анализировать зависимость продаж от оценок необходимо также по актуальному периоду.\n",
    " - А для чего мы ограничиваем продажи? Это может исказить результаты.\n",
    "</div>"
   ]
  },
  {
   "cell_type": "markdown",
   "metadata": {},
   "source": [
    "<div class=\"alert alert-block alert-info\">\n",
    "<b>🔄Комментарий студента:</b> \n",
    "Понял, исправил\n",
    "</div>"
   ]
  },
  {
   "cell_type": "markdown",
   "id": "c3c24969",
   "metadata": {},
   "source": [
    "<div class=\"alert alert-block alert-success\">\n",
    "<b>✅Комментарий ревьюера 2:</b> Отлично, исправлено!👍  </div>"
   ]
  },
  {
   "cell_type": "code",
   "execution_count": 38,
   "metadata": {},
   "outputs": [
    {
     "data": {
      "text/html": [
       "<div>\n",
       "<style scoped>\n",
       "    .dataframe tbody tr th:only-of-type {\n",
       "        vertical-align: middle;\n",
       "    }\n",
       "\n",
       "    .dataframe tbody tr th {\n",
       "        vertical-align: top;\n",
       "    }\n",
       "\n",
       "    .dataframe thead th {\n",
       "        text-align: right;\n",
       "    }\n",
       "</style>\n",
       "<table border=\"1\" class=\"dataframe\">\n",
       "  <thead>\n",
       "    <tr style=\"text-align: right;\">\n",
       "      <th></th>\n",
       "      <th>all_sales</th>\n",
       "      <th>critic_score</th>\n",
       "      <th>user_score</th>\n",
       "    </tr>\n",
       "  </thead>\n",
       "  <tbody>\n",
       "    <tr>\n",
       "      <th>all_sales</th>\n",
       "      <td>1.000000</td>\n",
       "      <td>0.402661</td>\n",
       "      <td>-0.040132</td>\n",
       "    </tr>\n",
       "    <tr>\n",
       "      <th>critic_score</th>\n",
       "      <td>0.402661</td>\n",
       "      <td>1.000000</td>\n",
       "      <td>0.546434</td>\n",
       "    </tr>\n",
       "    <tr>\n",
       "      <th>user_score</th>\n",
       "      <td>-0.040132</td>\n",
       "      <td>0.546434</td>\n",
       "      <td>1.000000</td>\n",
       "    </tr>\n",
       "  </tbody>\n",
       "</table>\n",
       "</div>"
      ],
      "text/plain": [
       "              all_sales  critic_score  user_score\n",
       "all_sales      1.000000      0.402661   -0.040132\n",
       "critic_score   0.402661      1.000000    0.546434\n",
       "user_score    -0.040132      0.546434    1.000000"
      ]
     },
     "execution_count": 38,
     "metadata": {},
     "output_type": "execute_result"
    }
   ],
   "source": [
    "(\n",
    "    data_actual\n",
    "    .query('platform==\"PS4\"')\n",
    "    [['all_sales','critic_score','user_score']]\n",
    "    .corr()\n",
    ")"
   ]
  },
  {
   "cell_type": "code",
   "execution_count": 39,
   "metadata": {},
   "outputs": [
    {
     "data": {
      "image/png": "[encoded data removed]",
      "text/plain": [
       "<Figure size 936x648 with 9 Axes>"
      ]
     },
     "metadata": {
      "needs_background": "light"
     },
     "output_type": "display_data"
    }
   ],
   "source": [
    "pd.plotting.scatter_matrix(data_actual\n",
    "                           .query('platform==\"PS4\"')\n",
    "                           [['all_sales','critic_score','user_score']], \n",
    "                           figsize=(13,9)\n",
    "                          );"
   ]
  },
  {
   "cell_type": "markdown",
   "id": "5dd15404",
   "metadata": {},
   "source": [
    "<div class=\"alert alert-block alert-warning\">\n",
    "<b>🔁Комментарий ревьюера:</b>\n",
    "\n",
    "Тут нагляднее будет построить отдельные распределения для оценок пользователей и критиков</div>"
   ]
  },
  {
   "cell_type": "markdown",
   "id": "c3c24969",
   "metadata": {},
   "source": [
    "<div class=\"alert alert-block alert-success\">\n",
    "<b>✅Комментарий ревьюера 2:</b> Отлично, исправлено!👍  </div>"
   ]
  },
  {
   "cell_type": "code",
   "execution_count": 40,
   "metadata": {},
   "outputs": [
    {
     "data": {
      "image/png": "[encoded data removed]",
      "text/plain": [
       "<Figure size 432x288 with 1 Axes>"
      ]
     },
     "metadata": {
      "needs_background": "light"
     },
     "output_type": "display_data"
    }
   ],
   "source": [
    "data_actual.query('platform==\"PS4\"').plot(x='user_score' , y='all_sales', kind='scatter');"
   ]
  },
  {
   "cell_type": "code",
   "execution_count": 41,
   "metadata": {},
   "outputs": [
    {
     "data": {
      "image/png": "[encoded data removed]",
      "text/plain": [
       "<Figure size 432x288 with 1 Axes>"
      ]
     },
     "metadata": {
      "needs_background": "light"
     },
     "output_type": "display_data"
    }
   ],
   "source": [
    "data_actual.query('platform==\"PS4\"').plot(x='critic_score' , y='all_sales', kind='scatter');"
   ]
  },
  {
   "cell_type": "code",
   "execution_count": 42,
   "metadata": {},
   "outputs": [
    {
     "data": {
      "text/html": [
       "<div>\n",
       "<style scoped>\n",
       "    .dataframe tbody tr th:only-of-type {\n",
       "        vertical-align: middle;\n",
       "    }\n",
       "\n",
       "    .dataframe tbody tr th {\n",
       "        vertical-align: top;\n",
       "    }\n",
       "\n",
       "    .dataframe thead th {\n",
       "        text-align: right;\n",
       "    }\n",
       "</style>\n",
       "<table border=\"1\" class=\"dataframe\">\n",
       "  <thead>\n",
       "    <tr style=\"text-align: right;\">\n",
       "      <th></th>\n",
       "      <th>all_sales</th>\n",
       "      <th>critic_score</th>\n",
       "      <th>user_score</th>\n",
       "    </tr>\n",
       "  </thead>\n",
       "  <tbody>\n",
       "    <tr>\n",
       "      <th>all_sales</th>\n",
       "      <td>1.000000</td>\n",
       "      <td>0.446575</td>\n",
       "      <td>-0.166761</td>\n",
       "    </tr>\n",
       "    <tr>\n",
       "      <th>critic_score</th>\n",
       "      <td>0.446575</td>\n",
       "      <td>1.000000</td>\n",
       "      <td>0.693445</td>\n",
       "    </tr>\n",
       "    <tr>\n",
       "      <th>user_score</th>\n",
       "      <td>-0.166761</td>\n",
       "      <td>0.693445</td>\n",
       "      <td>1.000000</td>\n",
       "    </tr>\n",
       "  </tbody>\n",
       "</table>\n",
       "</div>"
      ],
      "text/plain": [
       "              all_sales  critic_score  user_score\n",
       "all_sales      1.000000      0.446575   -0.166761\n",
       "critic_score   0.446575      1.000000    0.693445\n",
       "user_score    -0.166761      0.693445    1.000000"
      ]
     },
     "execution_count": 42,
     "metadata": {},
     "output_type": "execute_result"
    }
   ],
   "source": [
    "(\n",
    "    data_actual\n",
    "    .query('platform==\"PS3\"')\n",
    "    [['all_sales','critic_score','user_score']]\n",
    "    .corr()\n",
    ")"
   ]
  },
  {
   "cell_type": "code",
   "execution_count": 43,
   "metadata": {},
   "outputs": [
    {
     "data": {
      "image/png": "[encoded data removed]",
      "text/plain": [
       "<Figure size 432x288 with 1 Axes>"
      ]
     },
     "metadata": {
      "needs_background": "light"
     },
     "output_type": "display_data"
    }
   ],
   "source": [
    "data_actual.query('platform==\"PS3\"').plot(x='critic_score' , y='all_sales', kind='scatter');"
   ]
  },
  {
   "cell_type": "code",
   "execution_count": 44,
   "metadata": {},
   "outputs": [
    {
     "data": {
      "text/html": [
       "<div>\n",
       "<style scoped>\n",
       "    .dataframe tbody tr th:only-of-type {\n",
       "        vertical-align: middle;\n",
       "    }\n",
       "\n",
       "    .dataframe tbody tr th {\n",
       "        vertical-align: top;\n",
       "    }\n",
       "\n",
       "    .dataframe thead th {\n",
       "        text-align: right;\n",
       "    }\n",
       "</style>\n",
       "<table border=\"1\" class=\"dataframe\">\n",
       "  <thead>\n",
       "    <tr style=\"text-align: right;\">\n",
       "      <th></th>\n",
       "      <th>all_sales</th>\n",
       "      <th>critic_score</th>\n",
       "      <th>user_score</th>\n",
       "    </tr>\n",
       "  </thead>\n",
       "  <tbody>\n",
       "    <tr>\n",
       "      <th>all_sales</th>\n",
       "      <td>1.000000</td>\n",
       "      <td>0.428677</td>\n",
       "      <td>-0.070384</td>\n",
       "    </tr>\n",
       "    <tr>\n",
       "      <th>critic_score</th>\n",
       "      <td>0.428677</td>\n",
       "      <td>1.000000</td>\n",
       "      <td>0.440977</td>\n",
       "    </tr>\n",
       "    <tr>\n",
       "      <th>user_score</th>\n",
       "      <td>-0.070384</td>\n",
       "      <td>0.440977</td>\n",
       "      <td>1.000000</td>\n",
       "    </tr>\n",
       "  </tbody>\n",
       "</table>\n",
       "</div>"
      ],
      "text/plain": [
       "              all_sales  critic_score  user_score\n",
       "all_sales      1.000000      0.428677   -0.070384\n",
       "critic_score   0.428677      1.000000    0.440977\n",
       "user_score    -0.070384      0.440977    1.000000"
      ]
     },
     "execution_count": 44,
     "metadata": {},
     "output_type": "execute_result"
    }
   ],
   "source": [
    "(\n",
    "    data_actual\n",
    "    .query('platform==\"XOne\"')\n",
    "    [['all_sales','critic_score','user_score']]\n",
    "    .corr()\n",
    ")"
   ]
  },
  {
   "cell_type": "code",
   "execution_count": 45,
   "metadata": {},
   "outputs": [
    {
     "data": {
      "image/png": "[encoded data removed]",
      "text/plain": [
       "<Figure size 432x288 with 1 Axes>"
      ]
     },
     "metadata": {
      "needs_background": "light"
     },
     "output_type": "display_data"
    }
   ],
   "source": [
    "data_actual.query('platform==\"XOne\"').plot(x='critic_score' , y='all_sales', kind='scatter');"
   ]
  },
  {
   "cell_type": "code",
   "execution_count": 46,
   "metadata": {},
   "outputs": [
    {
     "data": {
      "text/html": [
       "<div>\n",
       "<style scoped>\n",
       "    .dataframe tbody tr th:only-of-type {\n",
       "        vertical-align: middle;\n",
       "    }\n",
       "\n",
       "    .dataframe tbody tr th {\n",
       "        vertical-align: top;\n",
       "    }\n",
       "\n",
       "    .dataframe thead th {\n",
       "        text-align: right;\n",
       "    }\n",
       "</style>\n",
       "<table border=\"1\" class=\"dataframe\">\n",
       "  <thead>\n",
       "    <tr style=\"text-align: right;\">\n",
       "      <th></th>\n",
       "      <th>all_sales</th>\n",
       "      <th>critic_score</th>\n",
       "      <th>user_score</th>\n",
       "    </tr>\n",
       "  </thead>\n",
       "  <tbody>\n",
       "    <tr>\n",
       "      <th>all_sales</th>\n",
       "      <td>1.000000</td>\n",
       "      <td>0.314117</td>\n",
       "      <td>0.215193</td>\n",
       "    </tr>\n",
       "    <tr>\n",
       "      <th>critic_score</th>\n",
       "      <td>0.314117</td>\n",
       "      <td>1.000000</td>\n",
       "      <td>0.862485</td>\n",
       "    </tr>\n",
       "    <tr>\n",
       "      <th>user_score</th>\n",
       "      <td>0.215193</td>\n",
       "      <td>0.862485</td>\n",
       "      <td>1.000000</td>\n",
       "    </tr>\n",
       "  </tbody>\n",
       "</table>\n",
       "</div>"
      ],
      "text/plain": [
       "              all_sales  critic_score  user_score\n",
       "all_sales      1.000000      0.314117    0.215193\n",
       "critic_score   0.314117      1.000000    0.862485\n",
       "user_score     0.215193      0.862485    1.000000"
      ]
     },
     "execution_count": 46,
     "metadata": {},
     "output_type": "execute_result"
    }
   ],
   "source": [
    "(\n",
    "    data_actual\n",
    "    .query('platform==\"3DS\"')\n",
    "    [['all_sales','critic_score','user_score']]\n",
    "    .corr()\n",
    ")"
   ]
  },
  {
   "cell_type": "markdown",
   "id": "5dd15404",
   "metadata": {},
   "source": [
    "<div class=\"alert alert-block alert-warning\">\n",
    "<b>🔁Комментарий ревьюера 2:</b>\n",
    "\n",
    "Заметил ли ты, что код для построения распределений и расчета коэффициентов корреляций повторяется? Его лучше обернуть в функцию.</div>"
   ]
  },
  {
   "cell_type": "code",
   "execution_count": 47,
   "metadata": {},
   "outputs": [
    {
     "data": {
      "image/png": "[encoded data removed]",
      "text/plain": [
       "<Figure size 432x288 with 1 Axes>"
      ]
     },
     "metadata": {
      "needs_background": "light"
     },
     "output_type": "display_data"
    }
   ],
   "source": [
    "data_actual.query('platform==\"3DS\"').plot(x='critic_score' , y='all_sales', kind='scatter');"
   ]
  },
  {
   "cell_type": "markdown",
   "metadata": {},
   "source": [
    "Просмотрели зависимость количества продаж игр на платформе PS4 от оценок за актуальный период и выяснили, что прослеживается невысокие значения корреляции зависимости продаж от оценок критиков. Также измеряя зависимости на других платформах (XOne, PS3, 3DS) выявили невысокие значения корреляции."
   ]
  },
  {
   "cell_type": "markdown",
   "id": "5dd15404",
   "metadata": {},
   "source": [
    "<div class=\"alert alert-block alert-warning\">\n",
    "<b>🔁Комментарий ревьюера:</b>\n",
    "\n",
    "А невысокие значения корреляции есть? Или совсем нет никакой зависимости?</div>"
   ]
  },
  {
   "cell_type": "markdown",
   "metadata": {},
   "source": [
    "<div class=\"alert alert-block alert-info\">\n",
    "<b>🔄Комментарий студента:</b> \n",
    "Есть, описал выше\n",
    "</div>"
   ]
  },
  {
   "cell_type": "markdown",
   "id": "c3c24969",
   "metadata": {},
   "source": [
    "<div class=\"alert alert-block alert-success\">\n",
    "<b>✅Комментарий ревьюера 2:</b> Отлично, исправлено!👍  </div>"
   ]
  },
  {
   "cell_type": "markdown",
   "metadata": {},
   "source": [
    "#### Оценка наиболее прибыльных жанров за актуальный период"
   ]
  },
  {
   "cell_type": "code",
   "execution_count": 48,
   "metadata": {
    "scrolled": true
   },
   "outputs": [
    {
     "data": {
      "image/png": "[encoded data removed]",
      "text/plain": [
       "<Figure size 432x288 with 1 Axes>"
      ]
     },
     "metadata": {
      "needs_background": "light"
     },
     "output_type": "display_data"
    }
   ],
   "source": [
    "data['genre'].value_counts().plot(kind='bar', title='Общее количество игр по жанрам за все время', grid=True);"
   ]
  },
  {
   "cell_type": "markdown",
   "metadata": {},
   "source": [
    "Распределение по жанрам за все время"
   ]
  },
  {
   "cell_type": "code",
   "execution_count": 49,
   "metadata": {
    "scrolled": true
   },
   "outputs": [
    {
     "data": {
      "image/png": "[encoded data removed]",
      "text/plain": [
       "<Figure size 432x288 with 1 Axes>"
      ]
     },
     "metadata": {
      "needs_background": "light"
     },
     "output_type": "display_data"
    }
   ],
   "source": [
    "(\n",
    "    data_actual\n",
    "    ['genre']\n",
    "    .value_counts()\n",
    "    .plot(kind='bar', title='Общее количество игр по жанрам за актуальный срок', grid=True)\n",
    ");"
   ]
  },
  {
   "cell_type": "markdown",
   "metadata": {},
   "source": [
    "Распределение по жанрам за актуальный срок. Видно существенное преимущество в количестве игр жанра Action относительно других жанров."
   ]
  },
  {
   "cell_type": "code",
   "execution_count": 50,
   "metadata": {},
   "outputs": [
    {
     "data": {
      "image/png": "[encoded data removed]",
      "text/plain": [
       "<Figure size 432x288 with 1 Axes>"
      ]
     },
     "metadata": {
      "needs_background": "light"
     },
     "output_type": "display_data"
    }
   ],
   "source": [
    "(\n",
    "    data_actual\n",
    "    .pivot_table(index='genre', \n",
    "                 values='all_sales', \n",
    "                 aggfunc='sum'\n",
    "                )\n",
    "    .sort_values('all_sales', ascending=False)\n",
    "    .plot(kind='bar', title='Общее количество продаж по жанрам за актуальный срок', grid=True)\n",
    ");"
   ]
  },
  {
   "cell_type": "code",
   "execution_count": 51,
   "metadata": {},
   "outputs": [
    {
     "data": {
      "image/png": "[encoded data removed]",
      "text/plain": [
       "<Figure size 864x432 with 1 Axes>"
      ]
     },
     "metadata": {
      "needs_background": "light"
     },
     "output_type": "display_data"
    }
   ],
   "source": [
    "(\n",
    "    data_actual\n",
    "    .boxplot(column='all_sales', \n",
    "             by='genre', \n",
    "             figsize=(12,6)\n",
    "            )\n",
    ")\n",
    "plt.ylim(0, 2)\n",
    "plt.show()"
   ]
  },
  {
   "cell_type": "markdown",
   "metadata": {},
   "source": [
    "Среднее значение количества продаж по жанрам самое высокое у жанра Shooter, не смотря на общее количество продаж за все время.\n",
    "То есть, в среднем любая взятая игра из жанра Shooter будет больше продаваться, чем любая взятая игра из Action. Самые низкие показатели продаж среди жанров, как по общему количеству, так и по среднему - это Adventure, Puzzle, Strategy."
   ]
  },
  {
   "cell_type": "markdown",
   "id": "abc6ab9a",
   "metadata": {},
   "source": [
    "<div class=\"alert alert-block alert-success\">\n",
    "<b>✅Комментарий ревьюера:</b> \n",
    "    \n",
    "Молодец, что рассматривал именно медианные продажи (именно они указаны зеленой горизонтальной чертой в боксплотах, это не средние значения), это наиболее объективный показатель прибыльности, так как они не подвержены влиянию выбросов (которых в игровой индустрии достаточно много за счет продаж хитовых и популярных игр). \n",
    "</div>"
   ]
  },
  {
   "cell_type": "markdown",
   "metadata": {},
   "source": [
    "#### Вывод\n",
    "\n",
    "Из всего датафрейма был выбран актуальный период в 3 года, так как нам требовалось произвести анализ игровой индустрии для предсказания поведения индустрии в дальнейшем. Предыдущие года не акутальны, так как средняя продолжительность популярности различных платформ варьируется от 5 до 10 лет. Следовательно, чтобы отследить перспективные платформы, нужно брать половину срока, то есть когда они растут, либо выходят на плато.\n",
    "\n",
    "Также при исследовании было выявлено, что рост продаж наблюдаются у таких платформ как PS4 и XOne, у остальных либо падение, либо стагнация.\n",
    "\n",
    "При анализе влияния отзывов пользователей и критиков на продажи были выявлены невысокие значения корреляций продаж от оценок критиков.\n",
    "\n",
    "Оценивая наиболее прибыльные жанры, было выявлено, что в среднем  любая взятая игра из жанра Shooter будет больше продаваться, чем любая взятая игра из любого жанра. По общему количеству продаж лидирует жанр Action. Самые низкие показатели продаж среди жанров, как по общему количеству, так и по среднему - это Adventure, Puzzle, Strategy."
   ]
  },
  {
   "cell_type": "markdown",
   "id": "871fd744",
   "metadata": {},
   "source": [
    "<div class=\"alert alert-block alert-success\">\n",
    "<b>✅Комментарий ревьюера:</b> Здорово, что написал промежуточный вывод! </div>"
   ]
  },
  {
   "cell_type": "markdown",
   "metadata": {},
   "source": [
    "### Составление портрета пользователя"
   ]
  },
  {
   "cell_type": "markdown",
   "metadata": {},
   "source": [
    "#### Анализ популярности платформ по регионам"
   ]
  },
  {
   "cell_type": "code",
   "execution_count": 52,
   "metadata": {},
   "outputs": [],
   "source": [
    "def top5par_reg(par, reg_sales):\n",
    "    result = (\n",
    "    data_actual\n",
    "    .pivot_table(index=par,\n",
    "                 values=reg_sales,\n",
    "                 aggfunc='sum'\n",
    "                )\n",
    "    .sort_values(reg_sales, ascending=False)\n",
    "    .index[:5]\n",
    "    )\n",
    "    return list(result)"
   ]
  },
  {
   "cell_type": "code",
   "execution_count": 53,
   "metadata": {},
   "outputs": [
    {
     "name": "stdout",
     "output_type": "stream",
     "text": [
      "Топ 5 платформ в Северной Америке за актуальный период: ['PS4', 'XOne', 'X360', '3DS', 'PS3']\n",
      "Топ 5 платформ в Европе за актуальный период: ['PS4', 'XOne', 'PS3', 'PC', '3DS']\n",
      "Топ 5 платформ в Японии за актуальный период: ['3DS', 'PS4', 'PSV', 'PS3', 'WiiU']\n"
     ]
    }
   ],
   "source": [
    "print('Топ 5 платформ в Северной Америке за актуальный период:', top5par_reg('platform' ,'na_sales'))\n",
    "print('Топ 5 платформ в Европе за актуальный период:', top5par_reg('platform' ,'eu_sales'))\n",
    "print('Топ 5 платформ в Японии за актуальный период:', top5par_reg('platform' ,'jp_sales'))"
   ]
  },
  {
   "cell_type": "markdown",
   "id": "871fd744",
   "metadata": {},
   "source": [
    "<div class=\"alert alert-block alert-success\">\n",
    "<b>✅Комментарий ревьюера:</b> Круто ,что пишешь функции! </div>"
   ]
  },
  {
   "cell_type": "code",
   "execution_count": 54,
   "metadata": {},
   "outputs": [],
   "source": [
    "def plot_pie(par,reg):\n",
    "    data_plot = data_actual.pivot_table(index=par, values=reg, aggfunc='sum')\n",
    "    data_plot1 = data_plot[reg].sort_values(ascending=False)[:5]\n",
    "    data_plot['new'] = data_plot.index.where(data_plot.index.isin(data_plot1.index), 'other')\n",
    "    return data_plot.pivot_table(index='new', values=reg, aggfunc='sum')"
   ]
  },
  {
   "cell_type": "code",
   "execution_count": 55,
   "metadata": {},
   "outputs": [
    {
     "data": {
      "image/png": "[encoded data removed]",
      "text/plain": [
       "<Figure size 432x288 with 1 Axes>"
      ]
     },
     "metadata": {},
     "output_type": "display_data"
    },
    {
     "data": {
      "image/png": "[encoded data removed]",
      "text/plain": [
       "<Figure size 432x288 with 1 Axes>"
      ]
     },
     "metadata": {},
     "output_type": "display_data"
    },
    {
     "data": {
      "image/png": "[encoded data removed]",
      "text/plain": [
       "<Figure size 432x288 with 1 Axes>"
      ]
     },
     "metadata": {},
     "output_type": "display_data"
    }
   ],
   "source": [
    "plot_pie('platform','na_sales').plot(kind='pie',subplots=True, legend=False, title=['Америка'])\n",
    "plot_pie('platform','eu_sales').plot(kind='pie',subplots=True, legend=False, title=['Европа'])\n",
    "plot_pie('platform','jp_sales').plot(kind='pie',subplots=True, legend=False, title=['Япония']);"
   ]
  },
  {
   "cell_type": "markdown",
   "id": "2a286639",
   "metadata": {},
   "source": [
    "<div class=\"alert alert-block alert-warning\">\n",
    "<b>🔁Комментарий ревьюера:</b>\n",
    "\n",
    "Нужно стараться, чтобы цвета на диаграмме не повторялись, это может ввести в заблуждение.\n",
    "\n",
    "Для подбора цветов я использую [этот отличный сайт](https://colorhunt.co/palettes/pastel)\n",
    "\n",
    "\n",
    "\n",
    "На диаграмме лучше оставить именно интересующие нас топ-5 платформ, а остальные объединить в отдельную категорию</div>"
   ]
  },
  {
   "cell_type": "markdown",
   "metadata": {},
   "source": [
    "<div class=\"alert alert-block alert-info\">\n",
    "<b>🔄Комментарий студента:</b> \n",
    "Выделил отдельную категорию функцией\n",
    "</div>"
   ]
  },
  {
   "cell_type": "markdown",
   "id": "c3c24969",
   "metadata": {},
   "source": [
    "<div class=\"alert alert-block alert-success\">\n",
    "<b>✅Комментарий ревьюера 2:</b> Отлично, исправлено!👍  </div>"
   ]
  },
  {
   "cell_type": "markdown",
   "metadata": {},
   "source": [
    "Видно, что по популярности платформ Европа и Америка почти не отличаются, но Япония имеет очень сильные различия, по сравнению с другими регионами. Платформа PS3 одинаково популярна в этих трех регионах, но по остальным доли рынка различаются."
   ]
  },
  {
   "cell_type": "markdown",
   "metadata": {},
   "source": [
    "#### Анализ популярности жанров по регионам"
   ]
  },
  {
   "cell_type": "code",
   "execution_count": 56,
   "metadata": {},
   "outputs": [
    {
     "name": "stdout",
     "output_type": "stream",
     "text": [
      "Топ 5 жанров в Северной Америке за актуальный период: ['Shooter', 'Action', 'Sports', 'Role-Playing', 'Misc']\n",
      "Топ 5 жанров в Европе за актуальный период: ['Action', 'Shooter', 'Sports', 'Role-Playing', 'Racing']\n",
      "Топ 5 жанров в Японии за актуальный период: ['Role-Playing', 'Action', 'Fighting', 'Misc', 'Shooter']\n"
     ]
    }
   ],
   "source": [
    "print('Топ 5 жанров в Северной Америке за актуальный период:', top5par_reg('genre', 'na_sales'))\n",
    "print('Топ 5 жанров в Европе за актуальный период:', top5par_reg('genre', 'eu_sales'))\n",
    "print('Топ 5 жанров в Японии за актуальный период:', top5par_reg('genre', 'jp_sales'))"
   ]
  },
  {
   "cell_type": "markdown",
   "id": "2a286639",
   "metadata": {},
   "source": [
    "<div class=\"alert alert-block alert-warning\">\n",
    "<b>🔁Комментарий ревьюера:</b>\n",
    "\n",
    "Заметил ли ты, что эта функция аналогична функции выше? Она различаются лишь одним параметром, который можно вынести в аргументы функции. Тогда эту функцию можно будет использовать и для рейтингов.</div>"
   ]
  },
  {
   "cell_type": "markdown",
   "id": "c3c24969",
   "metadata": {},
   "source": [
    "<div class=\"alert alert-block alert-success\">\n",
    "<b>✅Комментарий ревьюера 2:</b> Отлично, исправлено!👍  </div>"
   ]
  },
  {
   "cell_type": "code",
   "execution_count": 57,
   "metadata": {},
   "outputs": [
    {
     "data": {
      "image/png": "[encoded data removed]",
      "text/plain": [
       "<Figure size 432x288 with 1 Axes>"
      ]
     },
     "metadata": {},
     "output_type": "display_data"
    },
    {
     "data": {
      "image/png": "[encoded data removed]",
      "text/plain": [
       "<Figure size 432x288 with 1 Axes>"
      ]
     },
     "metadata": {},
     "output_type": "display_data"
    },
    {
     "data": {
      "image/png": "[encoded data removed]",
      "text/plain": [
       "<Figure size 432x288 with 1 Axes>"
      ]
     },
     "metadata": {},
     "output_type": "display_data"
    }
   ],
   "source": [
    "plot_pie('genre','na_sales').plot(kind='pie',subplots=True, legend=False, title=['Америка'])\n",
    "plot_pie('genre','eu_sales').plot(kind='pie',subplots=True, legend=False, title=['Европа'])\n",
    "plot_pie('genre','jp_sales').plot(kind='pie',subplots=True, legend=False, title=['Япония']);"
   ]
  },
  {
   "cell_type": "markdown",
   "metadata": {},
   "source": [
    "Та же самая картина и по жанрам: портреты европейского пользователя и американского очень схожи. Японский пользователь наравне с остальными интересуется жанром Action, но по остальным жанрам имеет существенные различия. К примеру жанр Role-Playing занимает существенную долю на рынке по сравнению с другими."
   ]
  },
  {
   "cell_type": "markdown",
   "metadata": {},
   "source": [
    "#### Анализ влияния рейтинга ESRB на продажи по регионам"
   ]
  },
  {
   "cell_type": "code",
   "execution_count": 58,
   "metadata": {},
   "outputs": [
    {
     "data": {
      "text/html": [
       "<div>\n",
       "<style scoped>\n",
       "    .dataframe tbody tr th:only-of-type {\n",
       "        vertical-align: middle;\n",
       "    }\n",
       "\n",
       "    .dataframe tbody tr th {\n",
       "        vertical-align: top;\n",
       "    }\n",
       "\n",
       "    .dataframe thead th {\n",
       "        text-align: right;\n",
       "    }\n",
       "</style>\n",
       "<table border=\"1\" class=\"dataframe\">\n",
       "  <thead>\n",
       "    <tr style=\"text-align: right;\">\n",
       "      <th></th>\n",
       "      <th>eu_sales</th>\n",
       "      <th>jp_sales</th>\n",
       "      <th>na_sales</th>\n",
       "    </tr>\n",
       "    <tr>\n",
       "      <th>rating</th>\n",
       "      <th></th>\n",
       "      <th></th>\n",
       "      <th></th>\n",
       "    </tr>\n",
       "  </thead>\n",
       "  <tbody>\n",
       "    <tr>\n",
       "      <th>E</th>\n",
       "      <td>58.06</td>\n",
       "      <td>8.94</td>\n",
       "      <td>50.74</td>\n",
       "    </tr>\n",
       "    <tr>\n",
       "      <th>E10+</th>\n",
       "      <td>26.16</td>\n",
       "      <td>4.46</td>\n",
       "      <td>33.23</td>\n",
       "    </tr>\n",
       "    <tr>\n",
       "      <th>M</th>\n",
       "      <td>93.44</td>\n",
       "      <td>8.01</td>\n",
       "      <td>96.42</td>\n",
       "    </tr>\n",
       "    <tr>\n",
       "      <th>RP</th>\n",
       "      <td>58.95</td>\n",
       "      <td>56.90</td>\n",
       "      <td>64.72</td>\n",
       "    </tr>\n",
       "    <tr>\n",
       "      <th>T</th>\n",
       "      <td>34.07</td>\n",
       "      <td>14.78</td>\n",
       "      <td>38.95</td>\n",
       "    </tr>\n",
       "  </tbody>\n",
       "</table>\n",
       "</div>"
      ],
      "text/plain": [
       "        eu_sales  jp_sales  na_sales\n",
       "rating                              \n",
       "E          58.06      8.94     50.74\n",
       "E10+       26.16      4.46     33.23\n",
       "M          93.44      8.01     96.42\n",
       "RP         58.95     56.90     64.72\n",
       "T          34.07     14.78     38.95"
      ]
     },
     "execution_count": 58,
     "metadata": {},
     "output_type": "execute_result"
    }
   ],
   "source": [
    "(\n",
    "    data_actual\n",
    "    .pivot_table(index='rating',\n",
    "                 values=['eu_sales', 'na_sales', 'jp_sales'],\n",
    "                 aggfunc='sum'\n",
    "                )\n",
    ")"
   ]
  },
  {
   "cell_type": "code",
   "execution_count": 59,
   "metadata": {
    "scrolled": true
   },
   "outputs": [
    {
     "data": {
      "image/png": "[encoded data removed]",
      "text/plain": [
       "<Figure size 1440x720 with 3 Axes>"
      ]
     },
     "metadata": {},
     "output_type": "display_data"
    }
   ],
   "source": [
    "(\n",
    "    data_actual\n",
    "    .pivot_table(index='rating',\n",
    "                 values=['na_sales', 'eu_sales', 'jp_sales'],\n",
    "                 aggfunc='sum',\n",
    "                )\n",
    "    .plot(kind='pie',subplots=True, legend=False, figsize=(20,10), title=['Европа', 'Япония', 'Америка'])\n",
    ");"
   ]
  },
  {
   "cell_type": "markdown",
   "metadata": {},
   "source": [
    "Поведение пользователей в Америке и Европе также схожи и по возрастному рейтингу: самые популярные игры с возрастным рейтингом \"для взрослых\" и \"для всех\". В Японии большую долю занимают игры с неопределенным рейтингом (скорее всего это игры для внутреннего рынка). Игры с назначенным рейтингом, которые пользуются популярностью: \"для всех\" и \"для подростков\"."
   ]
  },
  {
   "cell_type": "markdown",
   "id": "3d49e012",
   "metadata": {},
   "source": [
    "<div class=\"alert alert-block alert-warning\">\n",
    "<b>🔁Комментарий ревьюера:</b>\n",
    "\n",
    "Как ты думаешь, почему в Японии большинство игр не имеют рейтинга ESRB?</div>"
   ]
  },
  {
   "cell_type": "markdown",
   "metadata": {},
   "source": [
    "<div class=\"alert alert-block alert-info\">\n",
    "<b>🔄Комментарий студента:</b> \n",
    "Было написано выше\n",
    "</div>"
   ]
  },
  {
   "cell_type": "markdown",
   "id": "c3c24969",
   "metadata": {},
   "source": [
    "<div class=\"alert alert-block alert-success\">\n",
    "<b>✅Комментарий ревьюера 2:</b> Я надеялся на более развернутый ответ) В Японии есть своя рейтинговая система CERO  </div>"
   ]
  },
  {
   "cell_type": "markdown",
   "metadata": {},
   "source": [
    "#### Вывод\n",
    "\n",
    "При анализе портетов пользователей из разных регионов были выявлены следующие закономерности:\n",
    "1. Среднестатистический пользователь Америки почти не отличается от Европейского;\n",
    "2. Японский игровой рынок сильно отличается по предпочтениям в платформах, жанрах и возрастном рейтинге игр от остального мира\n",
    "3.  В Японии большую долю занимают игры с неопределенным рейтингом (скорее всего это игры для внутреннего рынка)\n",
    "4. Плафторма PS3 и жанр Action одинаково популярен во всем мире"
   ]
  },
  {
   "cell_type": "markdown",
   "metadata": {},
   "source": [
    "### Проверка гипотез"
   ]
  },
  {
   "cell_type": "markdown",
   "metadata": {},
   "source": [
    "#### Первая гипотеза: Средние пользовательские рейтинги платформ Xbox One и PC одинаковые"
   ]
  },
  {
   "cell_type": "markdown",
   "id": "6720d621",
   "metadata": {
    "id": "5766e785"
   },
   "source": [
    "<div class=\"alert alert-block alert-danger\">\n",
    "<b>❌Комментарий ревьюера:</b> \n",
    "    \n",
    "Проверку гипотез нужно проводить также по данным из актуального периода.</div>"
   ]
  },
  {
   "cell_type": "markdown",
   "metadata": {},
   "source": [
    "<div class=\"alert alert-block alert-info\">\n",
    "<b>🔄Комментарий студента:</b> \n",
    "Понял, исправил\n",
    "</div>"
   ]
  },
  {
   "cell_type": "markdown",
   "id": "c3c24969",
   "metadata": {},
   "source": [
    "<div class=\"alert alert-block alert-success\">\n",
    "<b>✅Комментарий ревьюера 2:</b> Отлично, исправлено!👍  </div>"
   ]
  },
  {
   "cell_type": "code",
   "execution_count": 60,
   "metadata": {},
   "outputs": [],
   "source": [
    "scores_xone = data_actual.query('platform == \"XOne\"')['user_score']\n",
    "scores_pc = data_actual.query('platform == \"PC\"')['user_score']"
   ]
  },
  {
   "cell_type": "markdown",
   "id": "e6ad2530",
   "metadata": {},
   "source": [
    "<div class=\"alert alert-block alert-success\">\n",
    "<b>✅Комментарий ревьюера:</b> \n",
    "    \n",
    "Кстати, можно не отфильтровывать пропуски из сравниваемых выборок, а передать в ttest_ind аргумент nan_policy с нужным значением, тогда они будут игнорироваться. Подробнее можно почитать [здесь](https://docs.scipy.org/doc/scipy/reference/generated/scipy.stats.ttest_ind.html) </div>"
   ]
  },
  {
   "cell_type": "markdown",
   "metadata": {},
   "source": [
    "<div class=\"alert alert-block alert-info\">\n",
    "<b>🔄Комментарий студента:</b> \n",
    "Спасибо)\n",
    "</div>"
   ]
  },
  {
   "cell_type": "markdown",
   "id": "c3c24969",
   "metadata": {},
   "source": [
    "<div class=\"alert alert-block alert-success\">\n",
    "<b>✅Комментарий ревьюера 2:</b> Пожалуйста) </div>"
   ]
  },
  {
   "cell_type": "markdown",
   "id": "26825af4",
   "metadata": {
    "id": "5766e785"
   },
   "source": [
    "<div class=\"alert alert-block alert-danger\">\n",
    "<b>❌Комментарий ревьюера:</b> \n",
    "    \n",
    "Перед проверкой нужно обязательно формулировать как нулевую, так и альтернативную гипотезы.</div>"
   ]
  },
  {
   "cell_type": "markdown",
   "metadata": {},
   "source": [
    "<div class=\"alert alert-block alert-info\">\n",
    "<b>🔄Комментарий студента:</b> \n",
    "Понял, исправил\n",
    "</div>"
   ]
  },
  {
   "cell_type": "markdown",
   "id": "c3c24969",
   "metadata": {},
   "source": [
    "<div class=\"alert alert-block alert-success\">\n",
    "<b>✅Комментарий ревьюера 2:</b> Отлично, исправлено!👍  </div>"
   ]
  },
  {
   "cell_type": "markdown",
   "metadata": {},
   "source": [
    "Нулевая гипотеза: Средние пользовательские рейтинги платформ Xbox One и PC равны\n",
    "\n",
    "Альтернативная гипотеза: Средние пользовательские рейтинги платформ Xbox One и PC не равны"
   ]
  },
  {
   "cell_type": "code",
   "execution_count": 61,
   "metadata": {},
   "outputs": [
    {
     "name": "stdout",
     "output_type": "stream",
     "text": [
      "0.11601398086668943\n",
      "Не получилось отвергнуть нулевую гипотезу\n"
     ]
    }
   ],
   "source": [
    "alpha = 0.01\n",
    "results = st.ttest_ind(scores_xone, scores_pc, equal_var=False, nan_policy='omit')\n",
    "\n",
    "print(results.pvalue)\n",
    "\n",
    "if results.pvalue < alpha:\n",
    "    print('Отвергаем нулевую гипотезу')\n",
    "else:\n",
    "    print('Не получилось отвергнуть нулевую гипотезу')\n"
   ]
  },
  {
   "cell_type": "markdown",
   "metadata": {},
   "source": [
    "Нулевая гипотеза прошла бы даже по пороговому значению alpha = 0.05, следовательно, изначальная гипотеза наиболее вероятна"
   ]
  },
  {
   "cell_type": "markdown",
   "id": "28402f82",
   "metadata": {
    "id": "5766e785"
   },
   "source": [
    "<div class=\"alert alert-block alert-danger\">\n",
    "<b>❌Комментарий ревьюера:</b> \n",
    "    \n",
    "После проверки каждой из гипотез нужно формулировать вывод по полученным результатам</div>"
   ]
  },
  {
   "cell_type": "markdown",
   "metadata": {},
   "source": [
    "<div class=\"alert alert-block alert-info\">\n",
    "<b>🔄Комментарий студента:</b> \n",
    "Понял, исправил\n",
    "</div>"
   ]
  },
  {
   "cell_type": "markdown",
   "id": "60378622",
   "metadata": {},
   "source": [
    "<div class=\"alert alert-block alert-success\">\n",
    "<b>✅Комментарий ревьюера 2:</b> \n",
    "    \n",
    "Вывод корректнее сформулировать так:\n",
    "\n",
    "    С большой долей вероятности средние пользовательские рейтинги платформ XOne и PC не имеют статистически значимых отличий\n",
    "\n",
    "\n",
    "\n",
    "P.S. А в гипотезе ниже наоборот)</div>"
   ]
  },
  {
   "cell_type": "markdown",
   "metadata": {},
   "source": [
    "#### Вторая гипотеза: Средние пользовательские рейтинги жанров Action и Sports разные"
   ]
  },
  {
   "cell_type": "markdown",
   "id": "06276972",
   "metadata": {
    "id": "5766e785"
   },
   "source": [
    "<div class=\"alert alert-block alert-danger\">\n",
    "<b>❌Комментарий ревьюера:</b> \n",
    "    \n",
    "Нулевая гипотеза всегда формулируется исходя из равенства проверяемых метрик (как в первой гипотезе)</div>"
   ]
  },
  {
   "cell_type": "markdown",
   "metadata": {},
   "source": [
    "<div class=\"alert alert-block alert-info\">\n",
    "<b>🔄Комментарий студента:</b> \n",
    "Понял, исправил\n",
    "</div>"
   ]
  },
  {
   "cell_type": "markdown",
   "id": "c3c24969",
   "metadata": {},
   "source": [
    "<div class=\"alert alert-block alert-success\">\n",
    "<b>✅Комментарий ревьюера 2:</b> Отлично, исправлено!👍  </div>"
   ]
  },
  {
   "cell_type": "markdown",
   "metadata": {},
   "source": [
    "Нулевая гипотеза: Средние пользовательские рейтинги жанров Action и Sports равны\n",
    "\n",
    "Альтернативная гипотеза: Средние пользовательские рейтинги жанров Action и Sports не равны"
   ]
  },
  {
   "cell_type": "code",
   "execution_count": 62,
   "metadata": {},
   "outputs": [
    {
     "name": "stdout",
     "output_type": "stream",
     "text": [
      "0.07607291840585198\n",
      "Не получилось отвергнуть нулевую гипотезу\n"
     ]
    }
   ],
   "source": [
    "scores_action = data.query('genre == \"Action\"')['user_score']\n",
    "scores_sports = data.query('genre == \"Sports\"')['user_score']\n",
    "\n",
    "alpha = 0.01\n",
    "\n",
    "results = st.ttest_ind(scores_action, scores_sports, equal_var=False, nan_policy='omit')\n",
    "\n",
    "\n",
    "print(results.pvalue)\n",
    "\n",
    "if results.pvalue < alpha:\n",
    "    print('Отвергаем нулевую гипотезу')\n",
    "else:\n",
    "    print('Не получилось отвергнуть нулевую гипотезу')\n"
   ]
  },
  {
   "cell_type": "markdown",
   "metadata": {},
   "source": [
    "Нулевая гипотеза прошла бы даже по пороговому значению alpha = 0.05, следовательно, изначальная гипотеза наименее вероятна"
   ]
  },
  {
   "cell_type": "markdown",
   "metadata": {},
   "source": [
    "####  Вывод по гипотезам\n",
    "Первая гипотеза подтвердилась, а вторая нет. То есть вероятнее всего можно сказать по первой гипотезе, что средние пользовательские рейтинги платформ Xbox One и PC равны и по второй - средние пользовательские рейтинги жанров Action и Sports равны.\n",
    "Нулевые гипотезы формулировались равенством средних двух генеральных совокупностей, альтернативные НЕравенством. Пороговое значение было задано 0.01, но нулевые гипотезы проходили даже по 0.05\n",
    "Гипотеза была использована для двух средних независимых генеральных совокупностей, так как данные не зависимы друг от друга. Также был применен параметр для не равных дисперсий, так как размер выборок не равный."
   ]
  },
  {
   "cell_type": "markdown",
   "metadata": {},
   "source": [
    "### Общий вывод"
   ]
  },
  {
   "cell_type": "markdown",
   "metadata": {},
   "source": [
    "#### При изучении общей информации о данных были выявлены и устранены такие проблемы как:\n",
    "1. Пропуски во многих колонках, причем от некоторых избавились путем удаления строк (небольшой процент), а от некоторых, заполнением логичными данными (в некоторых колонках не избавились от пропусков, так как они занимали существенный процент данных, для того чтобы просто удалить и к тому же нельзя было заполнить пропуски логическими значениями;\n",
    "2. Аномальные значения тоже были удалены, так как их было малое количество;\n",
    "3. Подправлены типы данных в зависимости от критериев;\n",
    "4. Явные дубликаты не были найдены.\n",
    "5. Был добавлен дополнительный столбец с суммой продаж \"all_sales\".\n",
    "\n",
    "#### В исправленном датафрейме были исследованы данные и найдены интересные закономерности, такие как:\n",
    "- Cредняя продолжительность популярности различных платформ варьируется от 5 до 10 лет;\n",
    "- Рост продаж наблюдаются у таких платформ как PS4 и XOne, у остальных либо падение, либо стагнация;\n",
    "- При анализе влияния отзывов пользователей и критиков на продажи  прослеживается невысокие значения корреляции зависимости продаж от оценок критиков;\n",
    "- В среднем  любая взятая игра из жанра Shooter будет больше продаваться, чем любая взятая игра из любого жанра;\n",
    "- По общему количеству продаж лидирует жанр Action;\n",
    "- Среднестатистический пользователь Америки почти не отличается от Европейского;\n",
    "- Японский игровой рынок сильно отличается по предпочтениям в платформах, жанрах и возрастном рейтинге игр от остального мира;\n",
    "- В Японии большую долю занимают игры с неопределенным рейтингом (скорее всего это игры для внутреннего рынка);\n",
    "- Плафторма PS3 и жанр Action одинаково популярен во всем мире;\n",
    "- Вероятнее всего, что средние пользовательские рейтинги платформ Xbox One и PC равны;\n",
    "- Вероятнее всего, что средние пользовательские рейтинги жанров Action и Sports равны.\n",
    "\n",
    "#### Рекомендации отделу маркетинга:\n",
    "- Сосредоточиться на играх на платформах PS4 и XOne;\n",
    "- Обращать небольшое внимание на отзывы критиков;\n",
    "- Жанр Shooter показывает наибольшие медианные продажи;\n",
    "- Японская игровая индустрия отличается от мировой;\n",
    "- Наибольшую долю рынка занимает жанр Action;\n",
    "- Плафторма PS3 и жанр Action одинаково популярен во всем мире;\n",
    "\n",
    "Топ 5 платформ в Северной Америке за актуальный период: PS4, XOne, X360, 3DS, PS3 \\\n",
    "в Европе: PS4, XOne, PS3, PC, 3DS \\\n",
    "в Японии: 3DS, PS4, PSV, PS3, WiiU \n",
    "\n",
    "Топ 5 жанров в Северной Америке за актуальный период: 'Shooter', 'Action', 'Sports', 'Role-Playing', 'Misc'\\\n",
    "в Европе: 'Action', 'Shooter', 'Sports', 'Role-Playing', 'Racing'\\\n",
    "в Японии: 'Role-Playing', 'Action', 'Fighting', 'Misc', 'Shooter'"
   ]
  },
  {
   "cell_type": "markdown",
   "id": "e32ec9e6",
   "metadata": {},
   "source": [
    "<div class=\"alert alert-block alert-warning\">\n",
    "<b>🔁Комментарий ревьюера:</b> \n",
    "    \n",
    "Хороший резюмирующий вывод, но еще нужно дать рекомендации отделу маркетинга для проведения рекламной кампании в 2017 году. \n",
    "\n",
    "\n",
    "Хочу обратить твое внимание на то, что после исправления замечаний в некоторых пунктах исследования могут измениться результаты, поэтому нужно будет подкорректировать выводы.</div>"
   ]
  },
  {
   "cell_type": "markdown",
   "metadata": {},
   "source": [
    "<div class=\"alert alert-block alert-info\">\n",
    "<b>🔄Комментарий студента:</b> \n",
    "Вроде все исправил\n",
    "</div>"
   ]
  },
  {
   "cell_type": "markdown",
   "id": "c3c24969",
   "metadata": {},
   "source": [
    "<div class=\"alert alert-block alert-success\">\n",
    "<b>✅Комментарий ревьюера 2:</b> Отлично, исправлено!👍  </div>"
   ]
  }
 ],
 "metadata": {
  "ExecuteTimeLog": [
   {
    "duration": 365,
    "start_time": "2023-01-16T13:51:28.053Z"
   },
   {
    "duration": 105,
    "start_time": "2023-01-16T13:53:16.861Z"
   },
   {
    "duration": 92,
    "start_time": "2023-01-16T13:53:43.762Z"
   },
   {
    "duration": 22,
    "start_time": "2023-01-16T13:53:53.864Z"
   },
   {
    "duration": 15,
    "start_time": "2023-01-16T13:54:23.798Z"
   },
   {
    "duration": 4,
    "start_time": "2023-01-16T14:00:53.419Z"
   },
   {
    "duration": 8,
    "start_time": "2023-01-16T14:01:29.946Z"
   },
   {
    "duration": 6,
    "start_time": "2023-01-16T14:02:54.091Z"
   },
   {
    "duration": 7,
    "start_time": "2023-01-16T14:03:24.202Z"
   },
   {
    "duration": 7,
    "start_time": "2023-01-16T14:04:45.624Z"
   },
   {
    "duration": 7,
    "start_time": "2023-01-16T14:06:57.740Z"
   },
   {
    "duration": 3,
    "start_time": "2023-01-16T14:09:24.366Z"
   },
   {
    "duration": 9,
    "start_time": "2023-01-16T14:10:34.073Z"
   },
   {
    "duration": 4,
    "start_time": "2023-01-16T14:10:55.817Z"
   },
   {
    "duration": 9,
    "start_time": "2023-01-16T14:11:55.630Z"
   },
   {
    "duration": 4,
    "start_time": "2023-01-16T14:12:20.598Z"
   },
   {
    "duration": 3,
    "start_time": "2023-01-16T14:14:05.965Z"
   },
   {
    "duration": 5,
    "start_time": "2023-01-16T14:14:27.299Z"
   },
   {
    "duration": 4,
    "start_time": "2023-01-16T14:15:30.050Z"
   },
   {
    "duration": 5,
    "start_time": "2023-01-16T14:15:31.326Z"
   },
   {
    "duration": 4,
    "start_time": "2023-01-16T14:17:28.914Z"
   },
   {
    "duration": 4,
    "start_time": "2023-01-16T14:17:49.763Z"
   },
   {
    "duration": 4,
    "start_time": "2023-01-16T14:18:07.233Z"
   },
   {
    "duration": 5,
    "start_time": "2023-01-16T14:19:31.181Z"
   },
   {
    "duration": 7,
    "start_time": "2023-01-16T14:20:19.931Z"
   },
   {
    "duration": 13,
    "start_time": "2023-01-16T14:20:39.480Z"
   },
   {
    "duration": 12,
    "start_time": "2023-01-16T14:20:50.021Z"
   },
   {
    "duration": 11,
    "start_time": "2023-01-16T14:23:06.523Z"
   },
   {
    "duration": 8,
    "start_time": "2023-01-16T14:23:34.607Z"
   },
   {
    "duration": 7,
    "start_time": "2023-01-16T14:23:56.376Z"
   },
   {
    "duration": 5,
    "start_time": "2023-01-16T14:24:15.707Z"
   },
   {
    "duration": 3,
    "start_time": "2023-01-16T14:26:36.029Z"
   },
   {
    "duration": 14,
    "start_time": "2023-01-16T14:26:47.846Z"
   },
   {
    "duration": 7,
    "start_time": "2023-01-16T14:29:54.734Z"
   },
   {
    "duration": 14,
    "start_time": "2023-01-16T14:29:57.580Z"
   },
   {
    "duration": 5,
    "start_time": "2023-01-16T14:30:38.825Z"
   },
   {
    "duration": 12,
    "start_time": "2023-01-16T14:30:42.391Z"
   },
   {
    "duration": 5,
    "start_time": "2023-01-16T14:31:56.086Z"
   },
   {
    "duration": 834,
    "start_time": "2023-01-16T14:34:24.890Z"
   },
   {
    "duration": 7,
    "start_time": "2023-01-16T14:34:50.975Z"
   },
   {
    "duration": 13,
    "start_time": "2023-01-16T14:34:55.674Z"
   },
   {
    "duration": 5,
    "start_time": "2023-01-16T14:35:14.387Z"
   },
   {
    "duration": 5,
    "start_time": "2023-01-16T14:35:34.881Z"
   },
   {
    "duration": 5,
    "start_time": "2023-01-16T14:35:38.054Z"
   },
   {
    "duration": 13,
    "start_time": "2023-01-16T14:35:41.450Z"
   },
   {
    "duration": 280,
    "start_time": "2023-01-16T14:36:43.622Z"
   },
   {
    "duration": 7,
    "start_time": "2023-01-16T14:38:15.041Z"
   },
   {
    "duration": 544,
    "start_time": "2023-01-16T14:38:23.346Z"
   },
   {
    "duration": 8,
    "start_time": "2023-01-16T14:38:57.800Z"
   },
   {
    "duration": 13,
    "start_time": "2023-01-16T14:39:02.978Z"
   },
   {
    "duration": 6,
    "start_time": "2023-01-16T15:12:43.454Z"
   },
   {
    "duration": 570,
    "start_time": "2023-01-16T15:13:21.633Z"
   },
   {
    "duration": 7,
    "start_time": "2023-01-16T15:13:40.428Z"
   },
   {
    "duration": 6,
    "start_time": "2023-01-16T15:13:53.071Z"
   },
   {
    "duration": 10,
    "start_time": "2023-01-16T15:15:09.949Z"
   },
   {
    "duration": 8,
    "start_time": "2023-01-16T15:15:40.230Z"
   },
   {
    "duration": 14,
    "start_time": "2023-01-16T15:16:03.043Z"
   },
   {
    "duration": 6,
    "start_time": "2023-01-16T15:16:08.305Z"
   },
   {
    "duration": 7,
    "start_time": "2023-01-16T15:16:22.842Z"
   },
   {
    "duration": 6,
    "start_time": "2023-01-16T15:16:26.852Z"
   },
   {
    "duration": 17,
    "start_time": "2023-01-16T15:16:30.045Z"
   },
   {
    "duration": 6,
    "start_time": "2023-01-16T15:17:11.984Z"
   },
   {
    "duration": 6,
    "start_time": "2023-01-16T15:17:44.905Z"
   },
   {
    "duration": 6,
    "start_time": "2023-01-16T15:18:02.869Z"
   },
   {
    "duration": 6,
    "start_time": "2023-01-16T15:18:11.029Z"
   },
   {
    "duration": 22,
    "start_time": "2023-01-16T15:18:57.350Z"
   },
   {
    "duration": 18,
    "start_time": "2023-01-16T15:19:16.098Z"
   },
   {
    "duration": 13,
    "start_time": "2023-01-16T15:19:36.496Z"
   },
   {
    "duration": 31,
    "start_time": "2023-01-16T15:20:20.287Z"
   },
   {
    "duration": 9,
    "start_time": "2023-01-16T15:21:08.654Z"
   },
   {
    "duration": 8,
    "start_time": "2023-01-16T15:21:33.256Z"
   },
   {
    "duration": 6,
    "start_time": "2023-01-16T15:21:34.289Z"
   },
   {
    "duration": 8,
    "start_time": "2023-01-16T15:21:35.688Z"
   },
   {
    "duration": 11,
    "start_time": "2023-01-16T15:21:38.560Z"
   },
   {
    "duration": 6,
    "start_time": "2023-01-16T15:21:54.932Z"
   },
   {
    "duration": 6,
    "start_time": "2023-01-16T15:21:55.686Z"
   },
   {
    "duration": 9,
    "start_time": "2023-01-16T15:21:56.140Z"
   },
   {
    "duration": 7,
    "start_time": "2023-01-16T15:22:08.041Z"
   },
   {
    "duration": 8,
    "start_time": "2023-01-16T15:23:30.872Z"
   },
   {
    "duration": 3,
    "start_time": "2023-01-16T15:23:57.682Z"
   },
   {
    "duration": 23,
    "start_time": "2023-01-16T15:26:46.672Z"
   },
   {
    "duration": 8,
    "start_time": "2023-01-16T15:27:40.002Z"
   },
   {
    "duration": 7,
    "start_time": "2023-01-16T15:27:47.565Z"
   },
   {
    "duration": 5,
    "start_time": "2023-01-16T15:29:10.004Z"
   },
   {
    "duration": 149,
    "start_time": "2023-01-16T15:31:39.265Z"
   },
   {
    "duration": 217,
    "start_time": "2023-01-16T15:32:09.185Z"
   },
   {
    "duration": 181,
    "start_time": "2023-01-16T15:32:21.407Z"
   },
   {
    "duration": 199,
    "start_time": "2023-01-16T15:32:32.426Z"
   },
   {
    "duration": 5,
    "start_time": "2023-01-16T15:35:06.533Z"
   },
   {
    "duration": 17,
    "start_time": "2023-01-16T15:35:23.633Z"
   },
   {
    "duration": 8,
    "start_time": "2023-01-16T15:35:29.066Z"
   },
   {
    "duration": 6,
    "start_time": "2023-01-16T15:35:39.265Z"
   },
   {
    "duration": 275,
    "start_time": "2023-01-16T15:36:12.570Z"
   },
   {
    "duration": 13,
    "start_time": "2023-01-16T15:37:09.160Z"
   },
   {
    "duration": 8,
    "start_time": "2023-01-16T15:37:39.906Z"
   },
   {
    "duration": 9,
    "start_time": "2023-01-16T15:38:22.116Z"
   },
   {
    "duration": 5,
    "start_time": "2023-01-16T15:39:37.357Z"
   },
   {
    "duration": 194,
    "start_time": "2023-01-16T15:39:45.786Z"
   },
   {
    "duration": 176,
    "start_time": "2023-01-16T15:39:53.770Z"
   },
   {
    "duration": 9,
    "start_time": "2023-01-16T15:40:07.198Z"
   },
   {
    "duration": 5,
    "start_time": "2023-01-16T15:42:55.930Z"
   },
   {
    "duration": 3,
    "start_time": "2023-01-16T15:43:05.534Z"
   },
   {
    "duration": 48,
    "start_time": "2023-01-16T15:43:05.876Z"
   },
   {
    "duration": 15,
    "start_time": "2023-01-16T15:43:06.067Z"
   },
   {
    "duration": 14,
    "start_time": "2023-01-16T15:43:06.226Z"
   },
   {
    "duration": 4,
    "start_time": "2023-01-16T15:43:06.893Z"
   },
   {
    "duration": 5,
    "start_time": "2023-01-16T15:43:07.989Z"
   },
   {
    "duration": 6,
    "start_time": "2023-01-16T15:43:13.034Z"
   },
   {
    "duration": 15,
    "start_time": "2023-01-16T15:43:13.747Z"
   },
   {
    "duration": 3,
    "start_time": "2023-01-16T15:43:15.491Z"
   },
   {
    "duration": 5,
    "start_time": "2023-01-16T15:43:16.541Z"
   },
   {
    "duration": 6,
    "start_time": "2023-01-16T15:46:54.762Z"
   },
   {
    "duration": 1146,
    "start_time": "2023-01-16T15:47:08.555Z"
   },
   {
    "duration": 6,
    "start_time": "2023-01-16T15:47:17.756Z"
   },
   {
    "duration": 7,
    "start_time": "2023-01-16T16:04:04.131Z"
   },
   {
    "duration": 8,
    "start_time": "2023-01-16T16:05:50.059Z"
   },
   {
    "duration": 18,
    "start_time": "2023-01-16T16:15:34.547Z"
   },
   {
    "duration": 26,
    "start_time": "2023-01-16T16:16:15.366Z"
   },
   {
    "duration": 9,
    "start_time": "2023-01-16T16:18:17.406Z"
   },
   {
    "duration": 8,
    "start_time": "2023-01-16T16:18:27.868Z"
   },
   {
    "duration": 9,
    "start_time": "2023-01-16T16:18:36.102Z"
   },
   {
    "duration": 5,
    "start_time": "2023-01-16T16:18:47.477Z"
   },
   {
    "duration": 7,
    "start_time": "2023-01-16T16:19:02.879Z"
   },
   {
    "duration": 12,
    "start_time": "2023-01-16T16:28:26.009Z"
   },
   {
    "duration": 22,
    "start_time": "2023-01-16T16:28:31.400Z"
   },
   {
    "duration": 12,
    "start_time": "2023-01-16T16:28:54.200Z"
   },
   {
    "duration": 21,
    "start_time": "2023-01-16T16:29:01.756Z"
   },
   {
    "duration": 10,
    "start_time": "2023-01-16T17:06:27.682Z"
   },
   {
    "duration": 7,
    "start_time": "2023-01-16T17:06:31.674Z"
   },
   {
    "duration": 12,
    "start_time": "2023-01-16T17:06:41.043Z"
   },
   {
    "duration": 3,
    "start_time": "2023-01-16T17:07:00.980Z"
   },
   {
    "duration": 46,
    "start_time": "2023-01-16T17:07:01.643Z"
   },
   {
    "duration": 14,
    "start_time": "2023-01-16T17:07:02.002Z"
   },
   {
    "duration": 14,
    "start_time": "2023-01-16T17:07:03.245Z"
   },
   {
    "duration": 4,
    "start_time": "2023-01-16T17:07:07.825Z"
   },
   {
    "duration": 5,
    "start_time": "2023-01-16T17:07:12.764Z"
   },
   {
    "duration": 6,
    "start_time": "2023-01-16T17:07:17.093Z"
   },
   {
    "duration": 7,
    "start_time": "2023-01-16T17:07:27.064Z"
   },
   {
    "duration": 4,
    "start_time": "2023-01-16T17:07:28.562Z"
   },
   {
    "duration": 5,
    "start_time": "2023-01-16T17:07:37.035Z"
   },
   {
    "duration": 7,
    "start_time": "2023-01-16T17:07:41.590Z"
   },
   {
    "duration": 5,
    "start_time": "2023-01-16T17:07:45.272Z"
   },
   {
    "duration": 5,
    "start_time": "2023-01-16T17:07:48.749Z"
   },
   {
    "duration": 7,
    "start_time": "2023-01-16T17:07:51.415Z"
   },
   {
    "duration": 11,
    "start_time": "2023-01-16T17:08:57.596Z"
   },
   {
    "duration": 21,
    "start_time": "2023-01-16T17:09:02.936Z"
   },
   {
    "duration": 6,
    "start_time": "2023-01-16T17:09:24.181Z"
   },
   {
    "duration": 9,
    "start_time": "2023-01-16T17:09:55.975Z"
   },
   {
    "duration": 7,
    "start_time": "2023-01-16T17:09:58.210Z"
   },
   {
    "duration": 13,
    "start_time": "2023-01-16T17:10:05.527Z"
   },
   {
    "duration": 5,
    "start_time": "2023-01-16T17:11:28.534Z"
   },
   {
    "duration": 22,
    "start_time": "2023-01-16T17:11:49.177Z"
   },
   {
    "duration": 155,
    "start_time": "2023-01-16T17:12:17.728Z"
   },
   {
    "duration": 237,
    "start_time": "2023-01-16T17:12:57.512Z"
   },
   {
    "duration": 231,
    "start_time": "2023-01-16T17:13:29.421Z"
   },
   {
    "duration": 4,
    "start_time": "2023-01-16T17:14:49.673Z"
   },
   {
    "duration": 4,
    "start_time": "2023-01-16T17:14:59.076Z"
   },
   {
    "duration": 264,
    "start_time": "2023-01-16T17:15:07.008Z"
   },
   {
    "duration": 10,
    "start_time": "2023-01-16T17:15:31.503Z"
   },
   {
    "duration": 8,
    "start_time": "2023-01-16T17:16:49.192Z"
   },
   {
    "duration": 11,
    "start_time": "2023-01-16T17:16:52.619Z"
   },
   {
    "duration": 6,
    "start_time": "2023-01-16T17:16:55.182Z"
   },
   {
    "duration": 13,
    "start_time": "2023-01-16T17:17:18.971Z"
   },
   {
    "duration": 4,
    "start_time": "2023-01-16T17:23:28.753Z"
   },
   {
    "duration": 7,
    "start_time": "2023-01-16T17:23:34.570Z"
   },
   {
    "duration": 14,
    "start_time": "2023-01-16T17:23:39.426Z"
   },
   {
    "duration": 8,
    "start_time": "2023-01-16T17:25:38.030Z"
   },
   {
    "duration": 8,
    "start_time": "2023-01-16T17:25:49.823Z"
   },
   {
    "duration": 7,
    "start_time": "2023-01-16T17:25:55.903Z"
   },
   {
    "duration": 4,
    "start_time": "2023-01-16T17:28:50.456Z"
   },
   {
    "duration": 4,
    "start_time": "2023-01-16T17:29:16.205Z"
   },
   {
    "duration": 7,
    "start_time": "2023-01-16T17:29:44.750Z"
   },
   {
    "duration": 126,
    "start_time": "2023-01-16T17:30:40.158Z"
   },
   {
    "duration": 138,
    "start_time": "2023-01-16T17:30:51.827Z"
   },
   {
    "duration": 168,
    "start_time": "2023-01-16T17:30:58.246Z"
   },
   {
    "duration": 156,
    "start_time": "2023-01-16T17:31:09.588Z"
   },
   {
    "duration": 188,
    "start_time": "2023-01-16T17:31:17.972Z"
   },
   {
    "duration": 289,
    "start_time": "2023-01-16T17:31:22.637Z"
   },
   {
    "duration": 207,
    "start_time": "2023-01-16T17:31:28.190Z"
   },
   {
    "duration": 216,
    "start_time": "2023-01-16T17:31:36.128Z"
   },
   {
    "duration": 231,
    "start_time": "2023-01-16T17:31:43.928Z"
   },
   {
    "duration": 172,
    "start_time": "2023-01-16T17:31:58.919Z"
   },
   {
    "duration": 185,
    "start_time": "2023-01-16T17:32:06.293Z"
   },
   {
    "duration": 152,
    "start_time": "2023-01-16T17:32:21.980Z"
   },
   {
    "duration": 303,
    "start_time": "2023-01-16T17:32:26.960Z"
   },
   {
    "duration": 172,
    "start_time": "2023-01-16T17:32:34.822Z"
   },
   {
    "duration": 161,
    "start_time": "2023-01-16T17:32:53.687Z"
   },
   {
    "duration": 230,
    "start_time": "2023-01-16T17:34:03.159Z"
   },
   {
    "duration": 239,
    "start_time": "2023-01-16T17:37:54.695Z"
   },
   {
    "duration": 121,
    "start_time": "2023-01-16T17:38:15.023Z"
   },
   {
    "duration": 160,
    "start_time": "2023-01-16T17:38:20.335Z"
   },
   {
    "duration": 224,
    "start_time": "2023-01-16T17:38:39.989Z"
   },
   {
    "duration": 220,
    "start_time": "2023-01-16T17:38:49.192Z"
   },
   {
    "duration": 354,
    "start_time": "2023-01-16T17:38:59.898Z"
   },
   {
    "duration": 183,
    "start_time": "2023-01-16T17:39:13.987Z"
   },
   {
    "duration": 171,
    "start_time": "2023-01-16T17:39:32.860Z"
   },
   {
    "duration": 153,
    "start_time": "2023-01-16T17:39:42.506Z"
   },
   {
    "duration": 159,
    "start_time": "2023-01-16T17:39:51.344Z"
   },
   {
    "duration": 162,
    "start_time": "2023-01-16T17:39:57.801Z"
   },
   {
    "duration": 6,
    "start_time": "2023-01-16T17:47:13.406Z"
   },
   {
    "duration": 24,
    "start_time": "2023-01-16T17:47:17.405Z"
   },
   {
    "duration": 25,
    "start_time": "2023-01-16T18:10:48.063Z"
   },
   {
    "duration": 27,
    "start_time": "2023-01-16T18:11:03.630Z"
   },
   {
    "duration": 17,
    "start_time": "2023-01-16T18:11:21.790Z"
   },
   {
    "duration": 11,
    "start_time": "2023-01-16T18:14:28.569Z"
   },
   {
    "duration": 15,
    "start_time": "2023-01-16T18:14:50.474Z"
   },
   {
    "duration": 13,
    "start_time": "2023-01-16T18:14:58.905Z"
   },
   {
    "duration": 5,
    "start_time": "2023-01-16T18:15:12.836Z"
   },
   {
    "duration": 5,
    "start_time": "2023-01-16T18:19:19.244Z"
   },
   {
    "duration": 12,
    "start_time": "2023-01-16T18:19:43.112Z"
   },
   {
    "duration": 47,
    "start_time": "2023-01-18T10:26:00.665Z"
   },
   {
    "duration": 409,
    "start_time": "2023-01-18T10:26:08.347Z"
   },
   {
    "duration": 186,
    "start_time": "2023-01-18T10:26:08.758Z"
   },
   {
    "duration": 19,
    "start_time": "2023-01-18T10:26:08.945Z"
   },
   {
    "duration": 16,
    "start_time": "2023-01-18T10:26:08.966Z"
   },
   {
    "duration": 2,
    "start_time": "2023-01-18T10:26:08.984Z"
   },
   {
    "duration": 9,
    "start_time": "2023-01-18T10:26:08.988Z"
   },
   {
    "duration": 8,
    "start_time": "2023-01-18T10:26:08.999Z"
   },
   {
    "duration": 3,
    "start_time": "2023-01-18T10:26:09.008Z"
   },
   {
    "duration": 25,
    "start_time": "2023-01-18T10:26:09.013Z"
   },
   {
    "duration": 7,
    "start_time": "2023-01-18T10:26:09.040Z"
   },
   {
    "duration": 11,
    "start_time": "2023-01-18T10:26:09.048Z"
   },
   {
    "duration": 13,
    "start_time": "2023-01-18T10:26:09.060Z"
   },
   {
    "duration": 6,
    "start_time": "2023-01-18T10:26:09.075Z"
   },
   {
    "duration": 6,
    "start_time": "2023-01-18T10:26:09.097Z"
   },
   {
    "duration": 12,
    "start_time": "2023-01-18T10:26:09.209Z"
   },
   {
    "duration": 8,
    "start_time": "2023-01-18T10:26:09.222Z"
   },
   {
    "duration": 4,
    "start_time": "2023-01-18T10:26:09.275Z"
   },
   {
    "duration": 5,
    "start_time": "2023-01-18T10:26:09.309Z"
   },
   {
    "duration": 4,
    "start_time": "2023-01-18T10:26:09.365Z"
   },
   {
    "duration": 7,
    "start_time": "2023-01-18T10:26:09.387Z"
   },
   {
    "duration": 573,
    "start_time": "2023-01-18T10:26:09.474Z"
   },
   {
    "duration": 154,
    "start_time": "2023-01-18T10:26:10.049Z"
   },
   {
    "duration": 15,
    "start_time": "2023-01-18T10:26:10.205Z"
   },
   {
    "duration": 18,
    "start_time": "2023-01-18T10:26:10.222Z"
   },
   {
    "duration": 133,
    "start_time": "2023-01-18T10:26:10.242Z"
   },
   {
    "duration": 248,
    "start_time": "2023-01-18T10:26:24.029Z"
   },
   {
    "duration": 185,
    "start_time": "2023-01-18T10:26:33.000Z"
   },
   {
    "duration": 180,
    "start_time": "2023-01-18T10:26:35.947Z"
   },
   {
    "duration": 5,
    "start_time": "2023-01-18T10:26:59.241Z"
   },
   {
    "duration": 4,
    "start_time": "2023-01-18T10:27:06.273Z"
   },
   {
    "duration": 68,
    "start_time": "2023-01-18T10:27:12.836Z"
   },
   {
    "duration": 190,
    "start_time": "2023-01-18T10:27:16.169Z"
   },
   {
    "duration": 192,
    "start_time": "2023-01-18T10:27:21.086Z"
   },
   {
    "duration": 5,
    "start_time": "2023-01-18T10:28:09.313Z"
   },
   {
    "duration": 6,
    "start_time": "2023-01-18T10:28:12.872Z"
   },
   {
    "duration": 22,
    "start_time": "2023-01-18T11:46:55.673Z"
   },
   {
    "duration": 19,
    "start_time": "2023-01-18T11:47:22.359Z"
   },
   {
    "duration": 18,
    "start_time": "2023-01-18T11:48:26.101Z"
   },
   {
    "duration": 23,
    "start_time": "2023-01-18T11:49:09.048Z"
   },
   {
    "duration": 20,
    "start_time": "2023-01-18T11:49:24.811Z"
   },
   {
    "duration": 20,
    "start_time": "2023-01-18T11:52:29.713Z"
   },
   {
    "duration": 21,
    "start_time": "2023-01-18T11:52:48.880Z"
   },
   {
    "duration": 20,
    "start_time": "2023-01-18T11:53:07.644Z"
   },
   {
    "duration": 54,
    "start_time": "2023-01-18T11:53:24.464Z"
   },
   {
    "duration": 17,
    "start_time": "2023-01-18T11:53:35.217Z"
   },
   {
    "duration": 15,
    "start_time": "2023-01-18T11:56:11.290Z"
   },
   {
    "duration": 13,
    "start_time": "2023-01-18T11:56:31.882Z"
   },
   {
    "duration": 14,
    "start_time": "2023-01-18T11:56:49.961Z"
   },
   {
    "duration": 12,
    "start_time": "2023-01-18T11:59:28.519Z"
   },
   {
    "duration": 13,
    "start_time": "2023-01-18T11:59:42.176Z"
   },
   {
    "duration": 15,
    "start_time": "2023-01-18T12:00:00.891Z"
   },
   {
    "duration": 15,
    "start_time": "2023-01-18T12:00:17.935Z"
   },
   {
    "duration": 10,
    "start_time": "2023-01-18T12:03:27.705Z"
   },
   {
    "duration": 174,
    "start_time": "2023-01-18T12:09:56.882Z"
   },
   {
    "duration": 143,
    "start_time": "2023-01-18T12:10:23.295Z"
   },
   {
    "duration": 128,
    "start_time": "2023-01-18T12:10:53.812Z"
   },
   {
    "duration": 150,
    "start_time": "2023-01-18T12:10:58.941Z"
   },
   {
    "duration": 169,
    "start_time": "2023-01-18T12:11:20.184Z"
   },
   {
    "duration": 9,
    "start_time": "2023-01-18T12:11:31.016Z"
   },
   {
    "duration": 383,
    "start_time": "2023-01-18T12:13:38.984Z"
   },
   {
    "duration": 52,
    "start_time": "2023-01-18T12:13:39.369Z"
   },
   {
    "duration": 35,
    "start_time": "2023-01-18T12:13:39.423Z"
   },
   {
    "duration": 28,
    "start_time": "2023-01-18T12:13:39.462Z"
   },
   {
    "duration": 5,
    "start_time": "2023-01-18T12:13:39.493Z"
   },
   {
    "duration": 12,
    "start_time": "2023-01-18T12:13:39.500Z"
   },
   {
    "duration": 19,
    "start_time": "2023-01-18T12:13:39.513Z"
   },
   {
    "duration": 27,
    "start_time": "2023-01-18T12:13:39.534Z"
   },
   {
    "duration": 23,
    "start_time": "2023-01-18T12:13:39.562Z"
   },
   {
    "duration": 24,
    "start_time": "2023-01-18T12:13:39.587Z"
   },
   {
    "duration": 49,
    "start_time": "2023-01-18T12:13:39.613Z"
   },
   {
    "duration": 13,
    "start_time": "2023-01-18T12:13:39.664Z"
   },
   {
    "duration": 15,
    "start_time": "2023-01-18T12:13:39.679Z"
   },
   {
    "duration": 12,
    "start_time": "2023-01-18T12:13:39.698Z"
   },
   {
    "duration": 17,
    "start_time": "2023-01-18T12:13:39.712Z"
   },
   {
    "duration": 26,
    "start_time": "2023-01-18T12:13:39.730Z"
   },
   {
    "duration": 13,
    "start_time": "2023-01-18T12:13:39.758Z"
   },
   {
    "duration": 9,
    "start_time": "2023-01-18T12:13:39.772Z"
   },
   {
    "duration": 15,
    "start_time": "2023-01-18T12:13:39.782Z"
   },
   {
    "duration": 13,
    "start_time": "2023-01-18T12:13:39.799Z"
   },
   {
    "duration": 417,
    "start_time": "2023-01-18T12:13:39.813Z"
   },
   {
    "duration": 178,
    "start_time": "2023-01-18T12:13:40.232Z"
   },
   {
    "duration": 12,
    "start_time": "2023-01-18T12:13:40.412Z"
   },
   {
    "duration": 18,
    "start_time": "2023-01-18T12:13:40.426Z"
   },
   {
    "duration": 15,
    "start_time": "2023-01-18T12:13:40.448Z"
   },
   {
    "duration": 192,
    "start_time": "2023-01-18T12:13:40.464Z"
   },
   {
    "duration": 26,
    "start_time": "2023-01-18T12:13:40.660Z"
   },
   {
    "duration": 13,
    "start_time": "2023-01-18T12:13:40.688Z"
   },
   {
    "duration": 188,
    "start_time": "2023-01-18T12:13:40.703Z"
   },
   {
    "duration": 16623,
    "start_time": "2023-01-18T12:13:53.047Z"
   },
   {
    "duration": 708,
    "start_time": "2023-01-18T12:14:15.320Z"
   },
   {
    "duration": 28,
    "start_time": "2023-01-18T12:20:18.520Z"
   },
   {
    "duration": 22,
    "start_time": "2023-01-18T12:21:32.915Z"
   },
   {
    "duration": 36,
    "start_time": "2023-01-18T12:22:36.816Z"
   },
   {
    "duration": 24,
    "start_time": "2023-01-18T12:22:54.739Z"
   },
   {
    "duration": 54,
    "start_time": "2023-01-18T12:24:23.407Z"
   },
   {
    "duration": 45,
    "start_time": "2023-01-18T12:25:19.916Z"
   },
   {
    "duration": 20,
    "start_time": "2023-01-18T12:25:34.526Z"
   },
   {
    "duration": 157,
    "start_time": "2023-01-18T12:25:41.749Z"
   },
   {
    "duration": 2909,
    "start_time": "2023-01-18T12:26:02.844Z"
   },
   {
    "duration": 23,
    "start_time": "2023-01-18T12:26:14.532Z"
   },
   {
    "duration": 15,
    "start_time": "2023-01-18T12:26:35.006Z"
   },
   {
    "duration": 22,
    "start_time": "2023-01-18T12:26:50.811Z"
   },
   {
    "duration": 17,
    "start_time": "2023-01-18T12:27:01.427Z"
   },
   {
    "duration": 22,
    "start_time": "2023-01-18T12:27:35.918Z"
   },
   {
    "duration": 297,
    "start_time": "2023-01-18T12:28:14.869Z"
   },
   {
    "duration": 11,
    "start_time": "2023-01-18T12:29:41.995Z"
   },
   {
    "duration": 244,
    "start_time": "2023-01-18T12:29:47.512Z"
   },
   {
    "duration": 24,
    "start_time": "2023-01-18T12:29:58.238Z"
   },
   {
    "duration": 37,
    "start_time": "2023-01-18T12:30:43.832Z"
   },
   {
    "duration": 620,
    "start_time": "2023-01-18T12:31:40.310Z"
   },
   {
    "duration": 48,
    "start_time": "2023-01-18T12:31:48.953Z"
   },
   {
    "duration": 3,
    "start_time": "2023-01-18T12:39:31.119Z"
   },
   {
    "duration": 36,
    "start_time": "2023-01-18T12:39:44.714Z"
   },
   {
    "duration": 24,
    "start_time": "2023-01-18T12:40:36.429Z"
   },
   {
    "duration": 704,
    "start_time": "2023-01-18T12:45:46.160Z"
   },
   {
    "duration": 29,
    "start_time": "2023-01-18T12:46:38.890Z"
   },
   {
    "duration": 26,
    "start_time": "2023-01-18T12:46:44.643Z"
   },
   {
    "duration": 26,
    "start_time": "2023-01-18T12:47:00.427Z"
   },
   {
    "duration": 551,
    "start_time": "2023-01-18T12:47:56.841Z"
   },
   {
    "duration": 681,
    "start_time": "2023-01-18T12:48:23.685Z"
   },
   {
    "duration": 574,
    "start_time": "2023-01-18T12:48:41.951Z"
   },
   {
    "duration": 590,
    "start_time": "2023-01-18T12:48:47.626Z"
   },
   {
    "duration": 33,
    "start_time": "2023-01-18T12:48:59.214Z"
   },
   {
    "duration": 782,
    "start_time": "2023-01-18T12:49:20.439Z"
   },
   {
    "duration": 43,
    "start_time": "2023-01-18T12:49:31.132Z"
   },
   {
    "duration": 568,
    "start_time": "2023-01-18T12:49:41.205Z"
   },
   {
    "duration": 21,
    "start_time": "2023-01-18T12:49:49.768Z"
   },
   {
    "duration": 615,
    "start_time": "2023-01-18T12:49:56.644Z"
   },
   {
    "duration": 875,
    "start_time": "2023-01-18T12:50:03.177Z"
   },
   {
    "duration": 37,
    "start_time": "2023-01-18T12:50:12.747Z"
   },
   {
    "duration": 807,
    "start_time": "2023-01-18T12:50:19.128Z"
   },
   {
    "duration": 44,
    "start_time": "2023-01-18T12:50:26.325Z"
   },
   {
    "duration": 21,
    "start_time": "2023-01-18T12:50:37.007Z"
   },
   {
    "duration": 52,
    "start_time": "2023-01-18T12:51:03.421Z"
   },
   {
    "duration": 51,
    "start_time": "2023-01-18T12:51:08.861Z"
   },
   {
    "duration": 38,
    "start_time": "2023-01-18T12:51:12.269Z"
   },
   {
    "duration": 19,
    "start_time": "2023-01-18T12:51:25.558Z"
   },
   {
    "duration": 21,
    "start_time": "2023-01-18T12:53:45.978Z"
   },
   {
    "duration": 18,
    "start_time": "2023-01-18T12:55:11.561Z"
   },
   {
    "duration": 39,
    "start_time": "2023-01-18T12:55:15.903Z"
   },
   {
    "duration": 28,
    "start_time": "2023-01-18T12:55:44.944Z"
   },
   {
    "duration": 27,
    "start_time": "2023-01-18T12:56:53.277Z"
   },
   {
    "duration": 16,
    "start_time": "2023-01-18T12:57:05.825Z"
   },
   {
    "duration": 36,
    "start_time": "2023-01-18T12:57:09.944Z"
   },
   {
    "duration": 19,
    "start_time": "2023-01-18T13:05:37.144Z"
   },
   {
    "duration": 22,
    "start_time": "2023-01-18T13:06:03.132Z"
   },
   {
    "duration": 26,
    "start_time": "2023-01-18T13:06:26.503Z"
   },
   {
    "duration": 192,
    "start_time": "2023-01-18T13:06:46.234Z"
   },
   {
    "duration": 166,
    "start_time": "2023-01-18T13:07:22.269Z"
   },
   {
    "duration": 157,
    "start_time": "2023-01-18T13:08:17.870Z"
   },
   {
    "duration": 867,
    "start_time": "2023-01-18T13:08:29.465Z"
   },
   {
    "duration": 104,
    "start_time": "2023-01-18T13:09:01.690Z"
   },
   {
    "duration": 158,
    "start_time": "2023-01-18T13:13:13.083Z"
   },
   {
    "duration": 135,
    "start_time": "2023-01-18T13:13:50.833Z"
   },
   {
    "duration": 140,
    "start_time": "2023-01-18T13:13:58.515Z"
   },
   {
    "duration": 28,
    "start_time": "2023-01-18T13:14:22.132Z"
   },
   {
    "duration": 919,
    "start_time": "2023-01-18T13:15:04.465Z"
   },
   {
    "duration": 132,
    "start_time": "2023-01-18T13:17:45.909Z"
   },
   {
    "duration": 505,
    "start_time": "2023-01-18T13:18:11.478Z"
   },
   {
    "duration": 51,
    "start_time": "2023-01-18T13:18:29.654Z"
   },
   {
    "duration": 26,
    "start_time": "2023-01-18T13:18:34.803Z"
   },
   {
    "duration": 740,
    "start_time": "2023-01-18T13:19:45.325Z"
   },
   {
    "duration": 274,
    "start_time": "2023-01-18T13:20:34.441Z"
   },
   {
    "duration": 145,
    "start_time": "2023-01-18T13:21:50.415Z"
   },
   {
    "duration": 238,
    "start_time": "2023-01-18T13:23:06.814Z"
   },
   {
    "duration": 13,
    "start_time": "2023-01-18T13:24:31.919Z"
   },
   {
    "duration": 3,
    "start_time": "2023-01-18T13:24:32.321Z"
   },
   {
    "duration": 344,
    "start_time": "2023-01-18T13:24:33.119Z"
   },
   {
    "duration": 27,
    "start_time": "2023-01-18T13:25:55.052Z"
   },
   {
    "duration": 337,
    "start_time": "2023-01-18T13:26:55.276Z"
   },
   {
    "duration": 308,
    "start_time": "2023-01-18T13:27:00.909Z"
   },
   {
    "duration": 329,
    "start_time": "2023-01-18T13:27:10.252Z"
   },
   {
    "duration": 337,
    "start_time": "2023-01-18T13:27:24.665Z"
   },
   {
    "duration": 339,
    "start_time": "2023-01-18T13:28:15.603Z"
   },
   {
    "duration": 220,
    "start_time": "2023-01-18T13:36:36.989Z"
   },
   {
    "duration": 205,
    "start_time": "2023-01-18T13:36:44.877Z"
   },
   {
    "duration": 250,
    "start_time": "2023-01-18T13:36:52.266Z"
   },
   {
    "duration": 217,
    "start_time": "2023-01-18T13:37:27.285Z"
   },
   {
    "duration": 331,
    "start_time": "2023-01-18T13:43:24.577Z"
   },
   {
    "duration": 159,
    "start_time": "2023-01-18T13:53:38.921Z"
   },
   {
    "duration": 57,
    "start_time": "2023-01-18T13:56:24.186Z"
   },
   {
    "duration": 10,
    "start_time": "2023-01-18T13:56:29.083Z"
   },
   {
    "duration": 167,
    "start_time": "2023-01-18T13:56:35.081Z"
   },
   {
    "duration": 18,
    "start_time": "2023-01-18T13:56:55.027Z"
   },
   {
    "duration": 192,
    "start_time": "2023-01-18T13:57:20.680Z"
   },
   {
    "duration": 221,
    "start_time": "2023-01-18T13:57:40.082Z"
   },
   {
    "duration": 202,
    "start_time": "2023-01-18T13:57:57.217Z"
   },
   {
    "duration": 11,
    "start_time": "2023-01-18T14:21:19.148Z"
   },
   {
    "duration": 2,
    "start_time": "2023-01-18T14:21:19.480Z"
   },
   {
    "duration": 415,
    "start_time": "2023-01-18T14:21:20.339Z"
   },
   {
    "duration": 16,
    "start_time": "2023-01-18T14:39:20.790Z"
   },
   {
    "duration": 357,
    "start_time": "2023-01-18T14:41:34.784Z"
   },
   {
    "duration": 18,
    "start_time": "2023-01-18T14:52:55.556Z"
   },
   {
    "duration": 119,
    "start_time": "2023-01-18T14:54:58.637Z"
   },
   {
    "duration": 0,
    "start_time": "2023-01-18T14:59:34.406Z"
   },
   {
    "duration": 113,
    "start_time": "2023-01-18T15:01:01.852Z"
   },
   {
    "duration": 23,
    "start_time": "2023-01-18T15:02:26.906Z"
   },
   {
    "duration": 16,
    "start_time": "2023-01-18T15:02:34.069Z"
   },
   {
    "duration": 604,
    "start_time": "2023-01-18T15:02:46.736Z"
   },
   {
    "duration": 15,
    "start_time": "2023-01-18T15:03:03.101Z"
   },
   {
    "duration": 504,
    "start_time": "2023-01-18T15:04:19.674Z"
   },
   {
    "duration": 459,
    "start_time": "2023-01-18T15:04:39.689Z"
   },
   {
    "duration": 263,
    "start_time": "2023-01-18T15:12:07.415Z"
   },
   {
    "duration": 248,
    "start_time": "2023-01-18T15:13:46.368Z"
   },
   {
    "duration": 259,
    "start_time": "2023-01-18T15:14:14.651Z"
   },
   {
    "duration": 279,
    "start_time": "2023-01-18T15:19:07.103Z"
   },
   {
    "duration": 310,
    "start_time": "2023-01-18T15:19:17.783Z"
   },
   {
    "duration": 243,
    "start_time": "2023-01-18T15:19:26.080Z"
   },
   {
    "duration": 261,
    "start_time": "2023-01-18T15:19:35.960Z"
   },
   {
    "duration": 242,
    "start_time": "2023-01-18T15:19:44.939Z"
   },
   {
    "duration": 250,
    "start_time": "2023-01-18T15:19:54.174Z"
   },
   {
    "duration": 248,
    "start_time": "2023-01-18T15:20:00.431Z"
   },
   {
    "duration": 261,
    "start_time": "2023-01-18T15:20:11.014Z"
   },
   {
    "duration": 911,
    "start_time": "2023-01-18T15:24:03.676Z"
   },
   {
    "duration": 251,
    "start_time": "2023-01-18T15:24:35.322Z"
   },
   {
    "duration": 43,
    "start_time": "2023-01-18T15:24:54.270Z"
   },
   {
    "duration": 373,
    "start_time": "2023-01-18T15:24:57.776Z"
   },
   {
    "duration": 142,
    "start_time": "2023-01-18T15:25:12.673Z"
   },
   {
    "duration": 367,
    "start_time": "2023-01-18T15:26:04.270Z"
   },
   {
    "duration": 15,
    "start_time": "2023-01-18T15:37:09.135Z"
   },
   {
    "duration": 689,
    "start_time": "2023-01-18T15:38:26.664Z"
   },
   {
    "duration": 708,
    "start_time": "2023-01-18T15:38:40.344Z"
   },
   {
    "duration": 987,
    "start_time": "2023-01-18T15:38:51.813Z"
   },
   {
    "duration": 10,
    "start_time": "2023-01-18T15:38:57.309Z"
   },
   {
    "duration": 867,
    "start_time": "2023-01-18T15:39:16.804Z"
   },
   {
    "duration": 15,
    "start_time": "2023-01-18T15:39:22.176Z"
   },
   {
    "duration": 15,
    "start_time": "2023-01-18T15:39:37.242Z"
   },
   {
    "duration": 15,
    "start_time": "2023-01-18T15:43:54.977Z"
   },
   {
    "duration": 500,
    "start_time": "2023-01-18T15:46:37.849Z"
   },
   {
    "duration": 468,
    "start_time": "2023-01-18T15:46:45.183Z"
   },
   {
    "duration": 754,
    "start_time": "2023-01-18T15:47:12.077Z"
   },
   {
    "duration": 730,
    "start_time": "2023-01-18T15:47:24.489Z"
   },
   {
    "duration": 136,
    "start_time": "2023-01-18T15:49:15.884Z"
   },
   {
    "duration": 137,
    "start_time": "2023-01-18T15:49:42.967Z"
   },
   {
    "duration": 150,
    "start_time": "2023-01-18T15:49:55.330Z"
   },
   {
    "duration": 263,
    "start_time": "2023-01-18T15:50:18.595Z"
   },
   {
    "duration": 264,
    "start_time": "2023-01-18T15:50:24.773Z"
   },
   {
    "duration": 282,
    "start_time": "2023-01-18T15:50:31.507Z"
   },
   {
    "duration": 266,
    "start_time": "2023-01-18T15:50:48.889Z"
   },
   {
    "duration": 885,
    "start_time": "2023-01-18T15:51:32.856Z"
   },
   {
    "duration": 15,
    "start_time": "2023-01-18T15:51:59.432Z"
   },
   {
    "duration": 269,
    "start_time": "2023-01-18T15:53:38.217Z"
   },
   {
    "duration": 17,
    "start_time": "2023-01-18T15:56:02.545Z"
   },
   {
    "duration": 30,
    "start_time": "2023-01-18T15:57:45.856Z"
   },
   {
    "duration": 847,
    "start_time": "2023-01-18T15:57:54.572Z"
   },
   {
    "duration": 706,
    "start_time": "2023-01-18T15:59:35.507Z"
   },
   {
    "duration": 13,
    "start_time": "2023-01-18T16:01:47.942Z"
   },
   {
    "duration": 643,
    "start_time": "2023-01-18T16:01:54.009Z"
   },
   {
    "duration": 43,
    "start_time": "2023-01-18T16:02:31.914Z"
   },
   {
    "duration": 178,
    "start_time": "2023-01-18T16:02:36.737Z"
   },
   {
    "duration": 281,
    "start_time": "2023-01-18T16:03:01.087Z"
   },
   {
    "duration": 14,
    "start_time": "2023-01-18T16:03:20.381Z"
   },
   {
    "duration": 13,
    "start_time": "2023-01-18T16:03:42.993Z"
   },
   {
    "duration": 15,
    "start_time": "2023-01-18T16:04:07.836Z"
   },
   {
    "duration": 13,
    "start_time": "2023-01-18T16:04:23.564Z"
   },
   {
    "duration": 12,
    "start_time": "2023-01-18T16:04:33.286Z"
   },
   {
    "duration": 13,
    "start_time": "2023-01-18T16:10:35.644Z"
   },
   {
    "duration": 14,
    "start_time": "2023-01-18T16:11:10.678Z"
   },
   {
    "duration": 13,
    "start_time": "2023-01-18T16:11:11.050Z"
   },
   {
    "duration": 13,
    "start_time": "2023-01-18T16:11:11.947Z"
   },
   {
    "duration": 12,
    "start_time": "2023-01-18T16:12:31.789Z"
   },
   {
    "duration": 13,
    "start_time": "2023-01-18T16:12:33.179Z"
   },
   {
    "duration": 13,
    "start_time": "2023-01-18T16:12:37.788Z"
   },
   {
    "duration": 12,
    "start_time": "2023-01-18T16:12:46.399Z"
   },
   {
    "duration": 658,
    "start_time": "2023-01-18T16:13:04.233Z"
   },
   {
    "duration": 52,
    "start_time": "2023-01-18T16:15:15.950Z"
   },
   {
    "duration": 732,
    "start_time": "2023-01-18T16:15:50.465Z"
   },
   {
    "duration": 687,
    "start_time": "2023-01-18T16:16:45.613Z"
   },
   {
    "duration": 8,
    "start_time": "2023-01-18T16:18:06.292Z"
   },
   {
    "duration": 11,
    "start_time": "2023-01-18T16:19:54.587Z"
   },
   {
    "duration": 9,
    "start_time": "2023-01-18T16:20:04.784Z"
   },
   {
    "duration": 15,
    "start_time": "2023-01-18T16:20:10.091Z"
   },
   {
    "duration": 17,
    "start_time": "2023-01-18T16:22:20.960Z"
   },
   {
    "duration": 20,
    "start_time": "2023-01-18T16:22:40.593Z"
   },
   {
    "duration": 17,
    "start_time": "2023-01-18T16:22:57.344Z"
   },
   {
    "duration": 17,
    "start_time": "2023-01-18T16:23:15.062Z"
   },
   {
    "duration": 257,
    "start_time": "2023-01-18T16:25:49.944Z"
   },
   {
    "duration": 234,
    "start_time": "2023-01-18T16:26:01.661Z"
   },
   {
    "duration": 251,
    "start_time": "2023-01-18T16:27:32.080Z"
   },
   {
    "duration": 288,
    "start_time": "2023-01-18T16:27:46.438Z"
   },
   {
    "duration": 297,
    "start_time": "2023-01-18T16:29:56.446Z"
   },
   {
    "duration": 381,
    "start_time": "2023-01-18T16:30:32.273Z"
   },
   {
    "duration": 10,
    "start_time": "2023-01-18T16:33:10.510Z"
   },
   {
    "duration": 14,
    "start_time": "2023-01-18T16:33:25.122Z"
   },
   {
    "duration": 14,
    "start_time": "2023-01-18T16:33:28.997Z"
   },
   {
    "duration": 14,
    "start_time": "2023-01-18T16:33:33.594Z"
   },
   {
    "duration": 153,
    "start_time": "2023-01-18T16:37:26.057Z"
   },
   {
    "duration": 172,
    "start_time": "2023-01-18T16:37:43.438Z"
   },
   {
    "duration": 201,
    "start_time": "2023-01-18T16:37:54.180Z"
   },
   {
    "duration": 172,
    "start_time": "2023-01-18T16:38:34.924Z"
   },
   {
    "duration": 161,
    "start_time": "2023-01-18T16:38:41.554Z"
   },
   {
    "duration": 196,
    "start_time": "2023-01-18T16:38:45.502Z"
   },
   {
    "duration": 171,
    "start_time": "2023-01-18T16:39:14.825Z"
   },
   {
    "duration": 177,
    "start_time": "2023-01-18T16:39:18.405Z"
   },
   {
    "duration": 1782,
    "start_time": "2023-01-18T16:39:39.431Z"
   },
   {
    "duration": 273,
    "start_time": "2023-01-18T16:40:07.046Z"
   },
   {
    "duration": 204,
    "start_time": "2023-01-18T16:42:53.777Z"
   },
   {
    "duration": 207,
    "start_time": "2023-01-18T16:43:23.114Z"
   },
   {
    "duration": 167,
    "start_time": "2023-01-18T16:44:59.098Z"
   },
   {
    "duration": 177,
    "start_time": "2023-01-18T16:45:21.859Z"
   },
   {
    "duration": 183,
    "start_time": "2023-01-18T16:45:27.365Z"
   },
   {
    "duration": 204,
    "start_time": "2023-01-18T16:45:31.908Z"
   },
   {
    "duration": 768,
    "start_time": "2023-01-18T17:04:25.466Z"
   },
   {
    "duration": 15,
    "start_time": "2023-01-18T17:04:38.366Z"
   },
   {
    "duration": 15,
    "start_time": "2023-01-18T17:04:48.541Z"
   },
   {
    "duration": 15,
    "start_time": "2023-01-18T17:05:41.432Z"
   },
   {
    "duration": 14,
    "start_time": "2023-01-18T17:06:39.507Z"
   },
   {
    "duration": 13,
    "start_time": "2023-01-18T17:07:59.161Z"
   },
   {
    "duration": 15,
    "start_time": "2023-01-18T17:08:06.579Z"
   },
   {
    "duration": 17,
    "start_time": "2023-01-18T17:08:54.023Z"
   },
   {
    "duration": 15,
    "start_time": "2023-01-18T17:09:12.277Z"
   },
   {
    "duration": 15,
    "start_time": "2023-01-18T17:09:29.462Z"
   },
   {
    "duration": 15,
    "start_time": "2023-01-18T17:59:24.371Z"
   },
   {
    "duration": 22,
    "start_time": "2023-01-18T17:59:28.536Z"
   },
   {
    "duration": 14,
    "start_time": "2023-01-18T17:59:37.520Z"
   },
   {
    "duration": 4,
    "start_time": "2023-01-18T18:04:37.797Z"
   },
   {
    "duration": 9,
    "start_time": "2023-01-18T18:04:57.796Z"
   },
   {
    "duration": 21,
    "start_time": "2023-01-18T18:05:12.544Z"
   },
   {
    "duration": 13,
    "start_time": "2023-01-18T18:06:18.724Z"
   },
   {
    "duration": 16,
    "start_time": "2023-01-18T18:06:30.955Z"
   },
   {
    "duration": 15,
    "start_time": "2023-01-18T18:07:05.770Z"
   },
   {
    "duration": 15,
    "start_time": "2023-01-18T18:07:13.337Z"
   },
   {
    "duration": 13,
    "start_time": "2023-01-18T18:07:34.968Z"
   },
   {
    "duration": 16,
    "start_time": "2023-01-18T18:07:39.877Z"
   },
   {
    "duration": 13,
    "start_time": "2023-01-18T18:07:43.905Z"
   },
   {
    "duration": 14,
    "start_time": "2023-01-18T18:08:06.041Z"
   },
   {
    "duration": 14,
    "start_time": "2023-01-18T18:09:00.421Z"
   },
   {
    "duration": 16,
    "start_time": "2023-01-18T18:09:07.727Z"
   },
   {
    "duration": 14,
    "start_time": "2023-01-18T18:09:20.893Z"
   },
   {
    "duration": 14,
    "start_time": "2023-01-18T18:09:37.535Z"
   },
   {
    "duration": 14,
    "start_time": "2023-01-18T18:09:41.856Z"
   },
   {
    "duration": 29,
    "start_time": "2023-01-18T18:10:22.655Z"
   },
   {
    "duration": 27,
    "start_time": "2023-01-18T18:12:28.708Z"
   },
   {
    "duration": 34,
    "start_time": "2023-01-18T18:15:14.307Z"
   },
   {
    "duration": 29,
    "start_time": "2023-01-18T18:15:23.604Z"
   },
   {
    "duration": 33,
    "start_time": "2023-01-18T18:15:29.856Z"
   },
   {
    "duration": 33,
    "start_time": "2023-01-18T18:16:04.397Z"
   },
   {
    "duration": 16,
    "start_time": "2023-01-18T18:18:40.399Z"
   },
   {
    "duration": 16,
    "start_time": "2023-01-18T18:19:08.600Z"
   },
   {
    "duration": 16,
    "start_time": "2023-01-18T18:19:23.034Z"
   },
   {
    "duration": 19,
    "start_time": "2023-01-18T18:21:46.682Z"
   },
   {
    "duration": 17,
    "start_time": "2023-01-18T18:22:11.187Z"
   },
   {
    "duration": 15,
    "start_time": "2023-01-18T18:22:31.628Z"
   },
   {
    "duration": 47,
    "start_time": "2023-01-18T18:40:05.147Z"
   },
   {
    "duration": 413,
    "start_time": "2023-01-18T18:40:18.327Z"
   },
   {
    "duration": 53,
    "start_time": "2023-01-18T18:40:18.743Z"
   },
   {
    "duration": 22,
    "start_time": "2023-01-18T18:40:18.798Z"
   },
   {
    "duration": 15,
    "start_time": "2023-01-18T18:40:18.822Z"
   },
   {
    "duration": 4,
    "start_time": "2023-01-18T18:40:18.839Z"
   },
   {
    "duration": 11,
    "start_time": "2023-01-18T18:40:18.845Z"
   },
   {
    "duration": 14,
    "start_time": "2023-01-18T18:40:18.858Z"
   },
   {
    "duration": 6,
    "start_time": "2023-01-18T18:40:18.873Z"
   },
   {
    "duration": 7,
    "start_time": "2023-01-18T18:40:18.880Z"
   },
   {
    "duration": 8,
    "start_time": "2023-01-18T18:40:18.890Z"
   },
   {
    "duration": 11,
    "start_time": "2023-01-18T18:40:18.900Z"
   },
   {
    "duration": 5,
    "start_time": "2023-01-18T18:40:18.938Z"
   },
   {
    "duration": 9,
    "start_time": "2023-01-18T18:40:18.945Z"
   },
   {
    "duration": 10,
    "start_time": "2023-01-18T18:40:18.955Z"
   },
   {
    "duration": 28,
    "start_time": "2023-01-18T18:40:18.966Z"
   },
   {
    "duration": 19,
    "start_time": "2023-01-18T18:40:18.996Z"
   },
   {
    "duration": 4,
    "start_time": "2023-01-18T18:40:19.017Z"
   },
   {
    "duration": 10,
    "start_time": "2023-01-18T18:40:19.022Z"
   },
   {
    "duration": 9,
    "start_time": "2023-01-18T18:40:19.034Z"
   },
   {
    "duration": 7,
    "start_time": "2023-01-18T18:40:19.044Z"
   },
   {
    "duration": 401,
    "start_time": "2023-01-18T18:40:19.053Z"
   },
   {
    "duration": 165,
    "start_time": "2023-01-18T18:40:19.456Z"
   },
   {
    "duration": 19,
    "start_time": "2023-01-18T18:40:19.624Z"
   },
   {
    "duration": 19,
    "start_time": "2023-01-18T18:40:19.644Z"
   },
   {
    "duration": 4,
    "start_time": "2023-01-18T18:40:19.665Z"
   },
   {
    "duration": 12,
    "start_time": "2023-01-18T18:40:19.670Z"
   },
   {
    "duration": 203,
    "start_time": "2023-01-18T18:40:19.684Z"
   },
   {
    "duration": 5,
    "start_time": "2023-01-18T18:40:19.891Z"
   },
   {
    "duration": 185,
    "start_time": "2023-01-18T18:40:19.898Z"
   },
   {
    "duration": 16,
    "start_time": "2023-01-18T18:40:20.084Z"
   },
   {
    "duration": 13,
    "start_time": "2023-01-18T18:40:20.101Z"
   },
   {
    "duration": 600,
    "start_time": "2023-01-18T18:40:20.116Z"
   },
   {
    "duration": 321,
    "start_time": "2023-01-18T18:40:20.718Z"
   },
   {
    "duration": 3,
    "start_time": "2023-01-18T18:40:21.041Z"
   },
   {
    "duration": 26,
    "start_time": "2023-01-18T18:40:21.045Z"
   },
   {
    "duration": 372,
    "start_time": "2023-01-18T18:40:21.072Z"
   },
   {
    "duration": 359,
    "start_time": "2023-01-18T18:40:21.446Z"
   },
   {
    "duration": 250,
    "start_time": "2023-01-18T18:40:21.807Z"
   },
   {
    "duration": 13,
    "start_time": "2023-01-18T18:40:22.059Z"
   },
   {
    "duration": 790,
    "start_time": "2023-01-18T18:40:22.074Z"
   },
   {
    "duration": 13,
    "start_time": "2023-01-18T18:40:22.865Z"
   },
   {
    "duration": 14,
    "start_time": "2023-01-18T18:40:22.880Z"
   },
   {
    "duration": 12,
    "start_time": "2023-01-18T18:40:22.896Z"
   },
   {
    "duration": 178,
    "start_time": "2023-01-18T18:40:22.910Z"
   },
   {
    "duration": 183,
    "start_time": "2023-01-18T18:40:23.090Z"
   },
   {
    "duration": 205,
    "start_time": "2023-01-18T18:40:23.275Z"
   },
   {
    "duration": 381,
    "start_time": "2023-01-18T18:40:23.482Z"
   },
   {
    "duration": 29,
    "start_time": "2023-01-18T18:40:23.865Z"
   },
   {
    "duration": 43,
    "start_time": "2023-01-18T18:40:23.896Z"
   },
   {
    "duration": 17,
    "start_time": "2023-01-18T18:40:23.940Z"
   },
   {
    "duration": 24,
    "start_time": "2023-01-18T18:42:10.980Z"
   },
   {
    "duration": 18,
    "start_time": "2023-01-18T18:43:08.610Z"
   },
   {
    "duration": 124,
    "start_time": "2023-01-18T18:44:52.106Z"
   },
   {
    "duration": 19,
    "start_time": "2023-01-18T18:45:21.263Z"
   },
   {
    "duration": 21,
    "start_time": "2023-01-18T18:45:34.227Z"
   },
   {
    "duration": 19,
    "start_time": "2023-01-18T18:51:15.658Z"
   },
   {
    "duration": 22,
    "start_time": "2023-01-18T18:51:42.214Z"
   },
   {
    "duration": 204,
    "start_time": "2023-01-18T18:54:49.438Z"
   },
   {
    "duration": 175,
    "start_time": "2023-01-18T18:55:26.248Z"
   },
   {
    "duration": 189,
    "start_time": "2023-01-18T18:55:38.751Z"
   },
   {
    "duration": 186,
    "start_time": "2023-01-18T18:57:25.315Z"
   },
   {
    "duration": 19,
    "start_time": "2023-01-18T19:00:22.913Z"
   },
   {
    "duration": 13,
    "start_time": "2023-01-18T19:00:35.759Z"
   },
   {
    "duration": 20,
    "start_time": "2023-01-18T19:00:52.699Z"
   },
   {
    "duration": 49,
    "start_time": "2023-01-18T19:03:43.871Z"
   },
   {
    "duration": 11,
    "start_time": "2023-01-18T19:03:47.576Z"
   },
   {
    "duration": 50,
    "start_time": "2023-01-18T19:03:52.676Z"
   },
   {
    "duration": 37,
    "start_time": "2023-01-18T19:04:08.068Z"
   },
   {
    "duration": 18,
    "start_time": "2023-01-18T19:05:31.443Z"
   },
   {
    "duration": 46,
    "start_time": "2023-01-18T19:06:04.107Z"
   },
   {
    "duration": 28,
    "start_time": "2023-01-18T19:06:10.878Z"
   },
   {
    "duration": 17,
    "start_time": "2023-01-18T19:08:55.699Z"
   },
   {
    "duration": 302,
    "start_time": "2023-01-18T19:10:13.266Z"
   },
   {
    "duration": 182,
    "start_time": "2023-01-18T19:10:27.723Z"
   },
   {
    "duration": 19,
    "start_time": "2023-01-18T19:10:55.705Z"
   },
   {
    "duration": 18,
    "start_time": "2023-01-18T19:11:52.979Z"
   },
   {
    "duration": 251,
    "start_time": "2023-01-18T19:12:01.708Z"
   },
   {
    "duration": 173,
    "start_time": "2023-01-18T19:12:25.930Z"
   },
   {
    "duration": 286,
    "start_time": "2023-01-18T19:12:40.275Z"
   },
   {
    "duration": 20,
    "start_time": "2023-01-18T19:13:09.513Z"
   },
   {
    "duration": 256,
    "start_time": "2023-01-18T19:15:53.696Z"
   },
   {
    "duration": 784,
    "start_time": "2023-01-18T19:17:02.731Z"
   },
   {
    "duration": 170,
    "start_time": "2023-01-18T19:17:08.580Z"
   },
   {
    "duration": 214,
    "start_time": "2023-01-18T19:17:46.944Z"
   },
   {
    "duration": 251,
    "start_time": "2023-01-18T19:17:52.434Z"
   },
   {
    "duration": 8,
    "start_time": "2023-01-18T19:21:41.790Z"
   },
   {
    "duration": 13,
    "start_time": "2023-01-18T19:21:55.025Z"
   },
   {
    "duration": 18,
    "start_time": "2023-01-18T19:22:02.475Z"
   },
   {
    "duration": 9,
    "start_time": "2023-01-18T19:22:41.937Z"
   },
   {
    "duration": 9,
    "start_time": "2023-01-18T19:23:16.894Z"
   },
   {
    "duration": 17,
    "start_time": "2023-01-18T19:23:30.342Z"
   },
   {
    "duration": 18,
    "start_time": "2023-01-18T19:23:40.744Z"
   },
   {
    "duration": 9,
    "start_time": "2023-01-18T19:24:02.686Z"
   },
   {
    "duration": 8,
    "start_time": "2023-01-18T19:24:44.626Z"
   },
   {
    "duration": 16,
    "start_time": "2023-01-18T19:25:35.298Z"
   },
   {
    "duration": 8,
    "start_time": "2023-01-18T19:25:52.774Z"
   },
   {
    "duration": 15,
    "start_time": "2023-01-18T19:25:54.901Z"
   },
   {
    "duration": 23,
    "start_time": "2023-01-18T19:26:43.341Z"
   },
   {
    "duration": 242,
    "start_time": "2023-01-18T19:31:05.354Z"
   },
   {
    "duration": 244,
    "start_time": "2023-01-18T19:31:09.196Z"
   },
   {
    "duration": 256,
    "start_time": "2023-01-18T19:31:58.068Z"
   },
   {
    "duration": 136,
    "start_time": "2023-01-18T19:32:46.413Z"
   },
   {
    "duration": 23,
    "start_time": "2023-01-18T19:32:55.816Z"
   },
   {
    "duration": 977,
    "start_time": "2023-01-18T19:33:12.861Z"
   },
   {
    "duration": 19,
    "start_time": "2023-01-18T19:33:44.457Z"
   },
   {
    "duration": 244,
    "start_time": "2023-01-18T19:34:04.303Z"
   },
   {
    "duration": 145,
    "start_time": "2023-01-18T19:34:38.092Z"
   },
   {
    "duration": 326,
    "start_time": "2023-01-18T19:35:55.357Z"
   },
   {
    "duration": 935,
    "start_time": "2023-01-18T19:36:03.732Z"
   },
   {
    "duration": 412,
    "start_time": "2023-01-18T19:36:12.592Z"
   },
   {
    "duration": 369,
    "start_time": "2023-01-18T19:36:34.399Z"
   },
   {
    "duration": 390,
    "start_time": "2023-01-18T19:36:44.300Z"
   },
   {
    "duration": 523,
    "start_time": "2023-01-18T19:37:59.495Z"
   },
   {
    "duration": 394,
    "start_time": "2023-01-18T19:38:55.555Z"
   },
   {
    "duration": 380,
    "start_time": "2023-01-18T19:39:40.566Z"
   },
   {
    "duration": 177,
    "start_time": "2023-01-18T19:47:07.047Z"
   },
   {
    "duration": 176,
    "start_time": "2023-01-18T19:47:28.750Z"
   },
   {
    "duration": 16,
    "start_time": "2023-01-18T19:48:25.329Z"
   },
   {
    "duration": 265,
    "start_time": "2023-01-18T19:48:51.492Z"
   },
   {
    "duration": 3,
    "start_time": "2023-01-18T19:49:47.929Z"
   },
   {
    "duration": 48,
    "start_time": "2023-01-18T19:49:47.954Z"
   },
   {
    "duration": 13,
    "start_time": "2023-01-18T19:49:48.004Z"
   },
   {
    "duration": 13,
    "start_time": "2023-01-18T19:49:48.029Z"
   },
   {
    "duration": 4,
    "start_time": "2023-01-18T19:49:48.110Z"
   },
   {
    "duration": 5,
    "start_time": "2023-01-18T19:49:48.186Z"
   },
   {
    "duration": 7,
    "start_time": "2023-01-18T19:49:48.257Z"
   },
   {
    "duration": 4,
    "start_time": "2023-01-18T19:49:48.298Z"
   },
   {
    "duration": 5,
    "start_time": "2023-01-18T19:49:48.366Z"
   },
   {
    "duration": 8,
    "start_time": "2023-01-18T19:49:48.437Z"
   },
   {
    "duration": 7,
    "start_time": "2023-01-18T19:49:48.524Z"
   },
   {
    "duration": 5,
    "start_time": "2023-01-18T19:49:48.555Z"
   },
   {
    "duration": 4,
    "start_time": "2023-01-18T19:49:48.626Z"
   },
   {
    "duration": 7,
    "start_time": "2023-01-18T19:49:48.699Z"
   },
   {
    "duration": 9,
    "start_time": "2023-01-18T19:49:48.771Z"
   },
   {
    "duration": 8,
    "start_time": "2023-01-18T19:49:48.808Z"
   },
   {
    "duration": 2,
    "start_time": "2023-01-18T19:49:48.882Z"
   },
   {
    "duration": 4,
    "start_time": "2023-01-18T19:49:48.921Z"
   },
   {
    "duration": 4,
    "start_time": "2023-01-18T19:49:48.957Z"
   },
   {
    "duration": 7,
    "start_time": "2023-01-18T19:49:48.993Z"
   },
   {
    "duration": 158,
    "start_time": "2023-01-18T19:49:49.069Z"
   },
   {
    "duration": 149,
    "start_time": "2023-01-18T19:49:49.229Z"
   },
   {
    "duration": 14,
    "start_time": "2023-01-18T19:49:49.380Z"
   },
   {
    "duration": 15,
    "start_time": "2023-01-18T19:49:49.396Z"
   },
   {
    "duration": 25,
    "start_time": "2023-01-18T19:49:49.413Z"
   },
   {
    "duration": 4,
    "start_time": "2023-01-18T19:49:49.439Z"
   },
   {
    "duration": 307,
    "start_time": "2023-01-18T19:49:49.445Z"
   },
   {
    "duration": 5,
    "start_time": "2023-01-18T19:49:49.754Z"
   },
   {
    "duration": 189,
    "start_time": "2023-01-18T19:49:49.761Z"
   },
   {
    "duration": 16,
    "start_time": "2023-01-18T19:49:49.952Z"
   },
   {
    "duration": 13,
    "start_time": "2023-01-18T19:49:49.969Z"
   },
   {
    "duration": 3,
    "start_time": "2023-01-18T19:49:49.984Z"
   },
   {
    "duration": 343,
    "start_time": "2023-01-18T19:49:49.988Z"
   },
   {
    "duration": 3,
    "start_time": "2023-01-18T19:49:50.339Z"
   },
   {
    "duration": 19,
    "start_time": "2023-01-18T19:49:50.343Z"
   },
   {
    "duration": 380,
    "start_time": "2023-01-18T19:49:50.364Z"
   },
   {
    "duration": 249,
    "start_time": "2023-01-18T19:49:50.746Z"
   },
   {
    "duration": 278,
    "start_time": "2023-01-18T19:49:50.997Z"
   },
   {
    "duration": 15,
    "start_time": "2023-01-18T19:49:51.277Z"
   },
   {
    "duration": 881,
    "start_time": "2023-01-18T19:49:51.294Z"
   },
   {
    "duration": 14,
    "start_time": "2023-01-18T19:49:52.177Z"
   },
   {
    "duration": 32,
    "start_time": "2023-01-18T19:49:52.192Z"
   },
   {
    "duration": 17,
    "start_time": "2023-01-18T19:49:52.226Z"
   },
   {
    "duration": 194,
    "start_time": "2023-01-18T19:49:52.245Z"
   },
   {
    "duration": 228,
    "start_time": "2023-01-18T19:49:52.441Z"
   },
   {
    "duration": 214,
    "start_time": "2023-01-18T19:49:52.672Z"
   },
   {
    "duration": 316,
    "start_time": "2023-01-18T19:49:52.888Z"
   },
   {
    "duration": 41,
    "start_time": "2023-01-18T19:49:53.206Z"
   },
   {
    "duration": 419,
    "start_time": "2023-01-18T19:49:53.249Z"
   },
   {
    "duration": 78,
    "start_time": "2023-01-18T19:49:53.670Z"
   },
   {
    "duration": 470,
    "start_time": "2023-01-18T19:49:53.750Z"
   },
   {
    "duration": 26,
    "start_time": "2023-01-18T19:49:54.222Z"
   },
   {
    "duration": 254,
    "start_time": "2023-01-18T19:49:54.250Z"
   },
   {
    "duration": 177,
    "start_time": "2023-01-18T19:49:54.505Z"
   },
   {
    "duration": 3,
    "start_time": "2023-01-18T19:51:14.365Z"
   },
   {
    "duration": 51,
    "start_time": "2023-01-18T19:51:14.555Z"
   },
   {
    "duration": 14,
    "start_time": "2023-01-18T19:51:14.717Z"
   },
   {
    "duration": 14,
    "start_time": "2023-01-18T19:51:14.878Z"
   },
   {
    "duration": 3,
    "start_time": "2023-01-18T19:51:15.217Z"
   },
   {
    "duration": 5,
    "start_time": "2023-01-18T19:51:15.528Z"
   },
   {
    "duration": 7,
    "start_time": "2023-01-18T19:51:15.880Z"
   },
   {
    "duration": 5,
    "start_time": "2023-01-18T19:51:16.059Z"
   },
   {
    "duration": 5,
    "start_time": "2023-01-18T19:51:16.718Z"
   },
   {
    "duration": 7,
    "start_time": "2023-01-18T19:51:16.791Z"
   },
   {
    "duration": 8,
    "start_time": "2023-01-18T19:51:16.868Z"
   },
   {
    "duration": 17,
    "start_time": "2023-01-18T19:51:16.901Z"
   },
   {
    "duration": 5,
    "start_time": "2023-01-18T19:51:16.980Z"
   },
   {
    "duration": 7,
    "start_time": "2023-01-18T19:51:17.059Z"
   },
   {
    "duration": 10,
    "start_time": "2023-01-18T19:51:17.129Z"
   },
   {
    "duration": 10,
    "start_time": "2023-01-18T19:51:17.164Z"
   },
   {
    "duration": 5,
    "start_time": "2023-01-18T19:51:17.234Z"
   },
   {
    "duration": 5,
    "start_time": "2023-01-18T19:51:17.283Z"
   },
   {
    "duration": 11,
    "start_time": "2023-01-18T19:51:17.312Z"
   },
   {
    "duration": 17,
    "start_time": "2023-01-18T19:51:17.356Z"
   },
   {
    "duration": 186,
    "start_time": "2023-01-18T19:51:17.428Z"
   },
   {
    "duration": 321,
    "start_time": "2023-01-18T19:51:17.616Z"
   },
   {
    "duration": 13,
    "start_time": "2023-01-18T19:51:17.939Z"
   },
   {
    "duration": 47,
    "start_time": "2023-01-18T19:51:17.954Z"
   },
   {
    "duration": 31,
    "start_time": "2023-01-18T19:51:18.002Z"
   },
   {
    "duration": 37,
    "start_time": "2023-01-18T19:51:18.035Z"
   },
   {
    "duration": 247,
    "start_time": "2023-01-18T19:51:18.074Z"
   },
   {
    "duration": 6,
    "start_time": "2023-01-18T19:51:18.323Z"
   },
   {
    "duration": 198,
    "start_time": "2023-01-18T19:51:18.339Z"
   },
   {
    "duration": 16,
    "start_time": "2023-01-18T19:51:18.539Z"
   },
   {
    "duration": 42,
    "start_time": "2023-01-18T19:51:18.557Z"
   },
   {
    "duration": 50,
    "start_time": "2023-01-18T19:51:18.601Z"
   },
   {
    "duration": 351,
    "start_time": "2023-01-18T19:51:18.653Z"
   },
   {
    "duration": 2,
    "start_time": "2023-01-18T19:51:19.006Z"
   },
   {
    "duration": 28,
    "start_time": "2023-01-18T19:51:19.010Z"
   },
   {
    "duration": 350,
    "start_time": "2023-01-18T19:51:19.041Z"
   },
   {
    "duration": 279,
    "start_time": "2023-01-18T19:51:19.556Z"
   },
   {
    "duration": 264,
    "start_time": "2023-01-18T19:51:19.837Z"
   },
   {
    "duration": 15,
    "start_time": "2023-01-18T19:51:20.103Z"
   },
   {
    "duration": 886,
    "start_time": "2023-01-18T19:51:20.125Z"
   },
   {
    "duration": 26,
    "start_time": "2023-01-18T19:51:21.013Z"
   },
   {
    "duration": 16,
    "start_time": "2023-01-18T19:51:21.041Z"
   },
   {
    "duration": 51,
    "start_time": "2023-01-18T19:51:21.059Z"
   },
   {
    "duration": 182,
    "start_time": "2023-01-18T19:51:21.112Z"
   },
   {
    "duration": 182,
    "start_time": "2023-01-18T19:51:21.871Z"
   },
   {
    "duration": 214,
    "start_time": "2023-01-18T19:51:22.055Z"
   },
   {
    "duration": 341,
    "start_time": "2023-01-18T19:51:22.271Z"
   },
   {
    "duration": 51,
    "start_time": "2023-01-18T19:51:22.615Z"
   },
   {
    "duration": 396,
    "start_time": "2023-01-18T19:51:22.668Z"
   },
   {
    "duration": 30,
    "start_time": "2023-01-18T19:51:23.066Z"
   },
   {
    "duration": 420,
    "start_time": "2023-01-18T19:51:23.098Z"
   },
   {
    "duration": 29,
    "start_time": "2023-01-18T19:51:23.519Z"
   },
   {
    "duration": 280,
    "start_time": "2023-01-18T19:51:23.550Z"
   },
   {
    "duration": 198,
    "start_time": "2023-01-18T19:51:23.831Z"
   },
   {
    "duration": 4,
    "start_time": "2023-01-18T19:53:51.547Z"
   },
   {
    "duration": 5,
    "start_time": "2023-01-18T19:53:51.918Z"
   },
   {
    "duration": 5,
    "start_time": "2023-01-18T19:53:56.096Z"
   },
   {
    "duration": 7,
    "start_time": "2023-01-18T19:54:04.543Z"
   },
   {
    "duration": 347,
    "start_time": "2023-01-18T19:54:06.293Z"
   },
   {
    "duration": 180,
    "start_time": "2023-01-18T19:54:06.642Z"
   },
   {
    "duration": 23,
    "start_time": "2023-01-18T19:54:06.824Z"
   },
   {
    "duration": 15,
    "start_time": "2023-01-18T19:54:06.849Z"
   },
   {
    "duration": 7,
    "start_time": "2023-01-18T19:54:06.866Z"
   },
   {
    "duration": 8,
    "start_time": "2023-01-18T19:54:06.875Z"
   },
   {
    "duration": 225,
    "start_time": "2023-01-18T19:54:06.884Z"
   },
   {
    "duration": 7,
    "start_time": "2023-01-18T19:54:07.111Z"
   },
   {
    "duration": 199,
    "start_time": "2023-01-18T19:54:07.119Z"
   },
   {
    "duration": 24,
    "start_time": "2023-01-18T19:54:07.321Z"
   },
   {
    "duration": 13,
    "start_time": "2023-01-18T19:54:07.346Z"
   },
   {
    "duration": 3,
    "start_time": "2023-01-18T19:54:07.361Z"
   },
   {
    "duration": 341,
    "start_time": "2023-01-18T19:54:07.366Z"
   },
   {
    "duration": 3,
    "start_time": "2023-01-18T19:54:07.709Z"
   },
   {
    "duration": 29,
    "start_time": "2023-01-18T19:54:07.714Z"
   },
   {
    "duration": 370,
    "start_time": "2023-01-18T19:54:07.745Z"
   },
   {
    "duration": 291,
    "start_time": "2023-01-18T19:54:08.117Z"
   },
   {
    "duration": 272,
    "start_time": "2023-01-18T19:54:08.410Z"
   },
   {
    "duration": 13,
    "start_time": "2023-01-18T19:54:08.684Z"
   },
   {
    "duration": 887,
    "start_time": "2023-01-18T19:54:08.699Z"
   },
   {
    "duration": 13,
    "start_time": "2023-01-18T19:54:09.588Z"
   },
   {
    "duration": 31,
    "start_time": "2023-01-18T19:54:09.604Z"
   },
   {
    "duration": 15,
    "start_time": "2023-01-18T19:54:09.637Z"
   },
   {
    "duration": 193,
    "start_time": "2023-01-18T19:54:09.653Z"
   },
   {
    "duration": 194,
    "start_time": "2023-01-18T19:54:09.848Z"
   },
   {
    "duration": 217,
    "start_time": "2023-01-18T19:54:10.044Z"
   },
   {
    "duration": 284,
    "start_time": "2023-01-18T19:54:10.263Z"
   },
   {
    "duration": 29,
    "start_time": "2023-01-18T19:54:10.549Z"
   },
   {
    "duration": 398,
    "start_time": "2023-01-18T19:54:10.579Z"
   },
   {
    "duration": 32,
    "start_time": "2023-01-18T19:54:10.980Z"
   },
   {
    "duration": 436,
    "start_time": "2023-01-18T19:54:11.014Z"
   },
   {
    "duration": 19,
    "start_time": "2023-01-18T19:54:11.451Z"
   },
   {
    "duration": 273,
    "start_time": "2023-01-18T19:54:11.472Z"
   },
   {
    "duration": 346,
    "start_time": "2023-01-18T19:54:11.746Z"
   },
   {
    "duration": 358,
    "start_time": "2023-01-18T19:56:15.138Z"
   },
   {
    "duration": 591,
    "start_time": "2023-01-18T19:56:31.051Z"
   },
   {
    "duration": 639,
    "start_time": "2023-01-18T19:56:45.436Z"
   },
   {
    "duration": 557,
    "start_time": "2023-01-18T19:57:40.451Z"
   },
   {
    "duration": 754,
    "start_time": "2023-01-18T19:58:17.389Z"
   },
   {
    "duration": 548,
    "start_time": "2023-01-18T19:59:10.321Z"
   },
   {
    "duration": 587,
    "start_time": "2023-01-18T19:59:20.456Z"
   },
   {
    "duration": 14,
    "start_time": "2023-01-18T19:59:28.010Z"
   },
   {
    "duration": 308,
    "start_time": "2023-01-18T19:59:33.120Z"
   },
   {
    "duration": 443,
    "start_time": "2023-01-18T20:00:26.825Z"
   },
   {
    "duration": 244,
    "start_time": "2023-01-18T20:01:01.876Z"
   },
   {
    "duration": 247,
    "start_time": "2023-01-18T20:02:26.703Z"
   },
   {
    "duration": 225,
    "start_time": "2023-01-18T20:02:44.928Z"
   },
   {
    "duration": 221,
    "start_time": "2023-01-18T20:02:55.830Z"
   },
   {
    "duration": 228,
    "start_time": "2023-01-18T20:03:33.734Z"
   },
   {
    "duration": 11,
    "start_time": "2023-01-18T20:07:38.414Z"
   },
   {
    "duration": 9,
    "start_time": "2023-01-18T20:08:50.306Z"
   },
   {
    "duration": 3,
    "start_time": "2023-01-18T20:11:28.003Z"
   },
   {
    "duration": 14,
    "start_time": "2023-01-18T20:13:05.741Z"
   },
   {
    "duration": 10,
    "start_time": "2023-01-18T20:13:10.099Z"
   },
   {
    "duration": 11,
    "start_time": "2023-01-18T20:13:49.588Z"
   },
   {
    "duration": 5,
    "start_time": "2023-01-18T20:13:52.652Z"
   },
   {
    "duration": 9,
    "start_time": "2023-01-18T20:13:58.988Z"
   },
   {
    "duration": 3,
    "start_time": "2023-01-18T20:14:00.106Z"
   },
   {
    "duration": 5,
    "start_time": "2023-01-18T20:14:00.660Z"
   },
   {
    "duration": 6,
    "start_time": "2023-01-18T20:14:20.783Z"
   },
   {
    "duration": 11,
    "start_time": "2023-01-18T20:15:30.990Z"
   },
   {
    "duration": 12,
    "start_time": "2023-01-18T20:16:35.312Z"
   },
   {
    "duration": 12,
    "start_time": "2023-01-18T20:16:46.411Z"
   },
   {
    "duration": 14,
    "start_time": "2023-01-18T20:16:56.016Z"
   },
   {
    "duration": 15,
    "start_time": "2023-01-18T20:17:11.256Z"
   },
   {
    "duration": 2,
    "start_time": "2023-01-18T20:17:18.021Z"
   },
   {
    "duration": 5,
    "start_time": "2023-01-18T20:17:18.747Z"
   },
   {
    "duration": 5,
    "start_time": "2023-01-18T20:20:03.954Z"
   },
   {
    "duration": 7,
    "start_time": "2023-01-18T20:20:16.989Z"
   },
   {
    "duration": 6,
    "start_time": "2023-01-18T20:21:32.482Z"
   },
   {
    "duration": 5,
    "start_time": "2023-01-18T20:21:37.942Z"
   },
   {
    "duration": 13,
    "start_time": "2023-01-18T20:23:39.682Z"
   },
   {
    "duration": 14,
    "start_time": "2023-01-18T20:23:56.585Z"
   },
   {
    "duration": 16,
    "start_time": "2023-01-18T20:26:17.626Z"
   },
   {
    "duration": 7,
    "start_time": "2023-01-18T20:27:31.880Z"
   },
   {
    "duration": 12,
    "start_time": "2023-01-18T20:28:05.798Z"
   },
   {
    "duration": 45,
    "start_time": "2023-01-19T11:38:50.136Z"
   },
   {
    "duration": 386,
    "start_time": "2023-01-19T11:38:57.524Z"
   },
   {
    "duration": 91,
    "start_time": "2023-01-19T11:38:57.912Z"
   },
   {
    "duration": 20,
    "start_time": "2023-01-19T11:38:58.005Z"
   },
   {
    "duration": 23,
    "start_time": "2023-01-19T11:38:58.027Z"
   },
   {
    "duration": 4,
    "start_time": "2023-01-19T11:38:58.052Z"
   },
   {
    "duration": 8,
    "start_time": "2023-01-19T11:38:58.058Z"
   },
   {
    "duration": 102,
    "start_time": "2023-01-19T11:38:58.068Z"
   },
   {
    "duration": 7,
    "start_time": "2023-01-19T11:38:58.172Z"
   },
   {
    "duration": 9,
    "start_time": "2023-01-19T11:38:58.181Z"
   },
   {
    "duration": 14,
    "start_time": "2023-01-19T11:38:58.192Z"
   },
   {
    "duration": 8,
    "start_time": "2023-01-19T11:38:59.723Z"
   },
   {
    "duration": 5,
    "start_time": "2023-01-19T11:38:59.927Z"
   },
   {
    "duration": 7,
    "start_time": "2023-01-19T11:39:00.286Z"
   },
   {
    "duration": 8,
    "start_time": "2023-01-19T11:39:00.743Z"
   },
   {
    "duration": 12,
    "start_time": "2023-01-19T11:39:01.196Z"
   },
   {
    "duration": 10,
    "start_time": "2023-01-19T11:39:01.420Z"
   },
   {
    "duration": 5,
    "start_time": "2023-01-19T11:39:02.269Z"
   },
   {
    "duration": 5,
    "start_time": "2023-01-19T11:39:02.573Z"
   },
   {
    "duration": 5,
    "start_time": "2023-01-19T11:39:03.146Z"
   },
   {
    "duration": 7,
    "start_time": "2023-01-19T11:39:03.379Z"
   },
   {
    "duration": 568,
    "start_time": "2023-01-19T11:39:04.170Z"
   },
   {
    "duration": 134,
    "start_time": "2023-01-19T11:39:09.391Z"
   },
   {
    "duration": 139,
    "start_time": "2023-01-19T11:39:12.158Z"
   },
   {
    "duration": 13,
    "start_time": "2023-01-19T11:39:18.229Z"
   },
   {
    "duration": 16,
    "start_time": "2023-01-19T11:39:19.613Z"
   },
   {
    "duration": 5,
    "start_time": "2023-01-19T11:39:21.167Z"
   },
   {
    "duration": 4,
    "start_time": "2023-01-19T11:39:28.570Z"
   },
   {
    "duration": 168,
    "start_time": "2023-01-19T11:39:36.926Z"
   },
   {
    "duration": 6,
    "start_time": "2023-01-19T11:39:48.344Z"
   },
   {
    "duration": 245,
    "start_time": "2023-01-19T11:39:57.943Z"
   },
   {
    "duration": 18,
    "start_time": "2023-01-19T11:41:02.993Z"
   },
   {
    "duration": 11,
    "start_time": "2023-01-19T11:41:06.243Z"
   },
   {
    "duration": 476,
    "start_time": "2023-01-19T11:41:11.661Z"
   },
   {
    "duration": 305,
    "start_time": "2023-01-19T11:41:18.843Z"
   },
   {
    "duration": 31,
    "start_time": "2023-01-19T11:57:34.351Z"
   },
   {
    "duration": 468,
    "start_time": "2023-01-19T11:57:39.129Z"
   },
   {
    "duration": 72,
    "start_time": "2023-01-19T12:19:13.726Z"
   },
   {
    "duration": 18,
    "start_time": "2023-01-19T12:19:19.785Z"
   },
   {
    "duration": 242,
    "start_time": "2023-01-19T12:19:19.830Z"
   },
   {
    "duration": 3,
    "start_time": "2023-01-19T12:19:20.074Z"
   },
   {
    "duration": 37,
    "start_time": "2023-01-19T12:19:20.078Z"
   },
   {
    "duration": 22,
    "start_time": "2023-01-19T12:19:20.117Z"
   },
   {
    "duration": 30,
    "start_time": "2023-01-19T12:19:20.140Z"
   },
   {
    "duration": 2,
    "start_time": "2023-01-19T12:59:50.751Z"
   },
   {
    "duration": 46,
    "start_time": "2023-01-19T12:59:51.521Z"
   },
   {
    "duration": 13,
    "start_time": "2023-01-19T12:59:52.570Z"
   },
   {
    "duration": 14,
    "start_time": "2023-01-19T12:59:58.295Z"
   },
   {
    "duration": 3,
    "start_time": "2023-01-19T13:00:10.706Z"
   },
   {
    "duration": 5,
    "start_time": "2023-01-19T13:00:12.571Z"
   },
   {
    "duration": 7,
    "start_time": "2023-01-19T13:00:14.682Z"
   },
   {
    "duration": 5,
    "start_time": "2023-01-19T13:00:15.248Z"
   },
   {
    "duration": 6,
    "start_time": "2023-01-19T13:00:16.349Z"
   },
   {
    "duration": 7,
    "start_time": "2023-01-19T13:00:22.187Z"
   },
   {
    "duration": 10,
    "start_time": "2023-01-19T13:00:36.349Z"
   },
   {
    "duration": 5,
    "start_time": "2023-01-19T13:00:37.024Z"
   },
   {
    "duration": 5,
    "start_time": "2023-01-19T13:00:38.896Z"
   },
   {
    "duration": 7,
    "start_time": "2023-01-19T13:00:40.698Z"
   },
   {
    "duration": 10,
    "start_time": "2023-01-19T13:00:54.450Z"
   },
   {
    "duration": 9,
    "start_time": "2023-01-19T13:00:55.355Z"
   },
   {
    "duration": 5,
    "start_time": "2023-01-19T13:00:57.100Z"
   },
   {
    "duration": 5,
    "start_time": "2023-01-19T13:00:57.752Z"
   },
   {
    "duration": 5,
    "start_time": "2023-01-19T13:00:58.473Z"
   },
   {
    "duration": 8,
    "start_time": "2023-01-19T13:00:59.276Z"
   },
   {
    "duration": 164,
    "start_time": "2023-01-19T13:01:01.251Z"
   },
   {
    "duration": 211,
    "start_time": "2023-01-19T13:01:04.539Z"
   },
   {
    "duration": 11,
    "start_time": "2023-01-19T13:01:07.950Z"
   },
   {
    "duration": 15,
    "start_time": "2023-01-19T13:01:12.251Z"
   },
   {
    "duration": 5,
    "start_time": "2023-01-19T13:01:15.057Z"
   },
   {
    "duration": 4,
    "start_time": "2023-01-19T13:01:16.758Z"
   },
   {
    "duration": 181,
    "start_time": "2023-01-19T13:01:16.990Z"
   },
   {
    "duration": 164,
    "start_time": "2023-01-19T13:01:18.150Z"
   },
   {
    "duration": 17,
    "start_time": "2023-01-19T13:01:18.882Z"
   },
   {
    "duration": 11,
    "start_time": "2023-01-19T13:01:19.157Z"
   },
   {
    "duration": 3,
    "start_time": "2023-01-19T13:01:19.347Z"
   },
   {
    "duration": 291,
    "start_time": "2023-01-19T13:01:19.548Z"
   },
   {
    "duration": 2,
    "start_time": "2023-01-19T13:01:20.552Z"
   },
   {
    "duration": 15,
    "start_time": "2023-01-19T13:01:20.957Z"
   },
   {
    "duration": 358,
    "start_time": "2023-01-19T13:01:21.160Z"
   },
   {
    "duration": 274,
    "start_time": "2023-01-19T13:01:21.600Z"
   },
   {
    "duration": 315,
    "start_time": "2023-01-19T13:01:22.601Z"
   },
   {
    "duration": 12,
    "start_time": "2023-01-19T13:01:23.051Z"
   },
   {
    "duration": 628,
    "start_time": "2023-01-19T13:01:23.249Z"
   },
   {
    "duration": 18,
    "start_time": "2023-01-19T13:01:23.879Z"
   },
   {
    "duration": 12,
    "start_time": "2023-01-19T13:01:23.898Z"
   },
   {
    "duration": 13,
    "start_time": "2023-01-19T13:01:24.303Z"
   },
   {
    "duration": 156,
    "start_time": "2023-01-19T13:01:24.877Z"
   },
   {
    "duration": 169,
    "start_time": "2023-01-19T13:01:25.533Z"
   },
   {
    "duration": 191,
    "start_time": "2023-01-19T13:01:26.253Z"
   },
   {
    "duration": 268,
    "start_time": "2023-01-19T13:01:28.106Z"
   },
   {
    "duration": 28,
    "start_time": "2023-01-19T13:01:35.987Z"
   },
   {
    "duration": 454,
    "start_time": "2023-01-19T13:01:38.651Z"
   },
   {
    "duration": 26,
    "start_time": "2023-01-19T13:01:42.019Z"
   },
   {
    "duration": 382,
    "start_time": "2023-01-19T13:01:42.950Z"
   },
   {
    "duration": 18,
    "start_time": "2023-01-19T13:01:45.355Z"
   },
   {
    "duration": 238,
    "start_time": "2023-01-19T13:01:46.248Z"
   },
   {
    "duration": 2,
    "start_time": "2023-01-19T13:01:51.313Z"
   },
   {
    "duration": 12,
    "start_time": "2023-01-19T13:01:52.148Z"
   },
   {
    "duration": 5,
    "start_time": "2023-01-19T13:01:52.974Z"
   },
   {
    "duration": 13,
    "start_time": "2023-01-19T13:01:54.878Z"
   },
   {
    "duration": 373,
    "start_time": "2023-01-19T13:33:07.716Z"
   },
   {
    "duration": 46,
    "start_time": "2023-01-19T13:33:08.091Z"
   },
   {
    "duration": 21,
    "start_time": "2023-01-19T13:33:08.139Z"
   },
   {
    "duration": 18,
    "start_time": "2023-01-19T13:33:08.163Z"
   },
   {
    "duration": 4,
    "start_time": "2023-01-19T13:33:08.182Z"
   },
   {
    "duration": 13,
    "start_time": "2023-01-19T13:33:08.188Z"
   },
   {
    "duration": 14,
    "start_time": "2023-01-19T13:33:08.203Z"
   },
   {
    "duration": 13,
    "start_time": "2023-01-19T13:33:08.219Z"
   },
   {
    "duration": 9,
    "start_time": "2023-01-19T13:33:08.234Z"
   },
   {
    "duration": 12,
    "start_time": "2023-01-19T13:33:08.245Z"
   },
   {
    "duration": 16,
    "start_time": "2023-01-19T13:33:08.259Z"
   },
   {
    "duration": 14,
    "start_time": "2023-01-19T13:33:08.276Z"
   },
   {
    "duration": 16,
    "start_time": "2023-01-19T13:33:08.292Z"
   },
   {
    "duration": 12,
    "start_time": "2023-01-19T13:33:08.309Z"
   },
   {
    "duration": 14,
    "start_time": "2023-01-19T13:33:08.322Z"
   },
   {
    "duration": 15,
    "start_time": "2023-01-19T13:33:08.338Z"
   },
   {
    "duration": 8,
    "start_time": "2023-01-19T13:33:08.355Z"
   },
   {
    "duration": 9,
    "start_time": "2023-01-19T13:33:08.365Z"
   },
   {
    "duration": 13,
    "start_time": "2023-01-19T13:33:08.375Z"
   },
   {
    "duration": 13,
    "start_time": "2023-01-19T13:33:08.390Z"
   },
   {
    "duration": 390,
    "start_time": "2023-01-19T13:33:08.405Z"
   },
   {
    "duration": 152,
    "start_time": "2023-01-19T13:33:08.797Z"
   },
   {
    "duration": 11,
    "start_time": "2023-01-19T13:33:08.951Z"
   },
   {
    "duration": 28,
    "start_time": "2023-01-19T13:33:08.963Z"
   },
   {
    "duration": 5,
    "start_time": "2023-01-19T13:33:08.992Z"
   },
   {
    "duration": 8,
    "start_time": "2023-01-19T13:33:08.999Z"
   },
   {
    "duration": 191,
    "start_time": "2023-01-19T13:33:09.009Z"
   },
   {
    "duration": 169,
    "start_time": "2023-01-19T13:33:09.204Z"
   },
   {
    "duration": 21,
    "start_time": "2023-01-19T13:33:09.375Z"
   },
   {
    "duration": 21,
    "start_time": "2023-01-19T13:33:09.398Z"
   },
   {
    "duration": 516,
    "start_time": "2023-01-19T13:33:09.420Z"
   },
   {
    "duration": 296,
    "start_time": "2023-01-19T13:33:09.938Z"
   },
   {
    "duration": 3,
    "start_time": "2023-01-19T13:33:10.236Z"
   },
   {
    "duration": 27,
    "start_time": "2023-01-19T13:33:10.240Z"
   },
   {
    "duration": 315,
    "start_time": "2023-01-19T13:33:10.268Z"
   },
   {
    "duration": 333,
    "start_time": "2023-01-19T13:33:10.586Z"
   },
   {
    "duration": 245,
    "start_time": "2023-01-19T13:33:10.921Z"
   },
   {
    "duration": 24,
    "start_time": "2023-01-19T13:33:11.169Z"
   },
   {
    "duration": 665,
    "start_time": "2023-01-19T13:33:11.195Z"
   },
   {
    "duration": 12,
    "start_time": "2023-01-19T13:33:11.862Z"
   },
   {
    "duration": 13,
    "start_time": "2023-01-19T13:33:11.875Z"
   },
   {
    "duration": 12,
    "start_time": "2023-01-19T13:33:11.889Z"
   },
   {
    "duration": 173,
    "start_time": "2023-01-19T13:33:11.902Z"
   },
   {
    "duration": 169,
    "start_time": "2023-01-19T13:33:12.077Z"
   },
   {
    "duration": 197,
    "start_time": "2023-01-19T13:33:12.248Z"
   },
   {
    "duration": 371,
    "start_time": "2023-01-19T13:33:12.446Z"
   },
   {
    "duration": 29,
    "start_time": "2023-01-19T13:33:12.819Z"
   },
   {
    "duration": 397,
    "start_time": "2023-01-19T13:33:12.850Z"
   },
   {
    "duration": 39,
    "start_time": "2023-01-19T13:33:13.249Z"
   },
   {
    "duration": 366,
    "start_time": "2023-01-19T13:33:13.290Z"
   },
   {
    "duration": 16,
    "start_time": "2023-01-19T13:33:13.658Z"
   },
   {
    "duration": 243,
    "start_time": "2023-01-19T13:33:13.686Z"
   },
   {
    "duration": 3,
    "start_time": "2023-01-19T13:33:13.931Z"
   },
   {
    "duration": 16,
    "start_time": "2023-01-19T13:33:13.935Z"
   },
   {
    "duration": 5,
    "start_time": "2023-01-19T13:33:13.953Z"
   },
   {
    "duration": 31,
    "start_time": "2023-01-19T13:33:13.960Z"
   },
   {
    "duration": 353,
    "start_time": "2023-01-19T14:00:00.838Z"
   },
   {
    "duration": 49,
    "start_time": "2023-01-19T14:00:01.194Z"
   },
   {
    "duration": 20,
    "start_time": "2023-01-19T14:00:01.244Z"
   },
   {
    "duration": 38,
    "start_time": "2023-01-19T14:00:01.265Z"
   },
   {
    "duration": 39,
    "start_time": "2023-01-19T14:00:01.305Z"
   },
   {
    "duration": 40,
    "start_time": "2023-01-19T14:00:01.345Z"
   },
   {
    "duration": 25,
    "start_time": "2023-01-19T14:00:01.386Z"
   },
   {
    "duration": 25,
    "start_time": "2023-01-19T14:00:01.413Z"
   },
   {
    "duration": 35,
    "start_time": "2023-01-19T14:00:01.440Z"
   },
   {
    "duration": 36,
    "start_time": "2023-01-19T14:00:01.477Z"
   },
   {
    "duration": 298,
    "start_time": "2023-01-19T14:00:01.514Z"
   },
   {
    "duration": 38,
    "start_time": "2023-01-19T14:00:01.813Z"
   },
   {
    "duration": 45,
    "start_time": "2023-01-19T14:00:01.853Z"
   },
   {
    "duration": 43,
    "start_time": "2023-01-19T14:00:01.901Z"
   },
   {
    "duration": 57,
    "start_time": "2023-01-19T14:00:01.946Z"
   },
   {
    "duration": 39,
    "start_time": "2023-01-19T14:00:02.005Z"
   },
   {
    "duration": 30,
    "start_time": "2023-01-19T14:00:02.045Z"
   },
   {
    "duration": 57,
    "start_time": "2023-01-19T14:00:02.078Z"
   },
   {
    "duration": 45,
    "start_time": "2023-01-19T14:00:02.136Z"
   },
   {
    "duration": 43,
    "start_time": "2023-01-19T14:00:02.182Z"
   },
   {
    "duration": 416,
    "start_time": "2023-01-19T14:00:02.227Z"
   },
   {
    "duration": 152,
    "start_time": "2023-01-19T14:00:02.645Z"
   },
   {
    "duration": 11,
    "start_time": "2023-01-19T14:00:02.799Z"
   },
   {
    "duration": 56,
    "start_time": "2023-01-19T14:00:02.811Z"
   },
   {
    "duration": 47,
    "start_time": "2023-01-19T14:00:02.868Z"
   },
   {
    "duration": 30,
    "start_time": "2023-01-19T14:00:02.916Z"
   },
   {
    "duration": 247,
    "start_time": "2023-01-19T14:00:02.947Z"
   },
   {
    "duration": 174,
    "start_time": "2023-01-19T14:00:03.196Z"
   },
   {
    "duration": 23,
    "start_time": "2023-01-19T14:00:03.373Z"
   },
   {
    "duration": 223,
    "start_time": "2023-01-19T14:00:03.397Z"
   },
   {
    "duration": 507,
    "start_time": "2023-01-19T14:00:03.622Z"
   },
   {
    "duration": 281,
    "start_time": "2023-01-19T14:00:04.131Z"
   },
   {
    "duration": 2,
    "start_time": "2023-01-19T14:00:04.414Z"
   },
   {
    "duration": 40,
    "start_time": "2023-01-19T14:00:04.417Z"
   },
   {
    "duration": 305,
    "start_time": "2023-01-19T14:00:04.459Z"
   },
   {
    "duration": 299,
    "start_time": "2023-01-19T14:00:04.766Z"
   },
   {
    "duration": 221,
    "start_time": "2023-01-19T14:00:05.066Z"
   },
   {
    "duration": 11,
    "start_time": "2023-01-19T14:00:05.289Z"
   },
   {
    "duration": 695,
    "start_time": "2023-01-19T14:00:05.301Z"
   },
   {
    "duration": 13,
    "start_time": "2023-01-19T14:00:05.998Z"
   },
   {
    "duration": 14,
    "start_time": "2023-01-19T14:00:06.014Z"
   },
   {
    "duration": 19,
    "start_time": "2023-01-19T14:00:06.030Z"
   },
   {
    "duration": 155,
    "start_time": "2023-01-19T14:00:06.051Z"
   },
   {
    "duration": 158,
    "start_time": "2023-01-19T14:00:06.208Z"
   },
   {
    "duration": 190,
    "start_time": "2023-01-19T14:00:06.368Z"
   },
   {
    "duration": 360,
    "start_time": "2023-01-19T14:00:06.560Z"
   },
   {
    "duration": 26,
    "start_time": "2023-01-19T14:00:06.922Z"
   },
   {
    "duration": 376,
    "start_time": "2023-01-19T14:00:06.950Z"
   },
   {
    "duration": 27,
    "start_time": "2023-01-19T14:00:07.327Z"
   },
   {
    "duration": 389,
    "start_time": "2023-01-19T14:00:07.355Z"
   },
   {
    "duration": 17,
    "start_time": "2023-01-19T14:00:07.746Z"
   },
   {
    "duration": 238,
    "start_time": "2023-01-19T14:00:07.765Z"
   },
   {
    "duration": 3,
    "start_time": "2023-01-19T14:00:08.005Z"
   },
   {
    "duration": 27,
    "start_time": "2023-01-19T14:00:08.010Z"
   },
   {
    "duration": 21,
    "start_time": "2023-01-19T14:00:08.039Z"
   },
   {
    "duration": 28,
    "start_time": "2023-01-19T14:00:08.061Z"
   },
   {
    "duration": 48,
    "start_time": "2023-01-19T15:09:07.420Z"
   },
   {
    "duration": 9,
    "start_time": "2023-01-19T15:14:34.992Z"
   },
   {
    "duration": 1664,
    "start_time": "2023-01-19T15:15:46.290Z"
   },
   {
    "duration": 198,
    "start_time": "2023-01-19T15:15:47.957Z"
   },
   {
    "duration": 23,
    "start_time": "2023-01-19T15:15:48.157Z"
   },
   {
    "duration": 25,
    "start_time": "2023-01-19T15:15:48.181Z"
   },
   {
    "duration": 3,
    "start_time": "2023-01-19T15:15:48.209Z"
   },
   {
    "duration": 12,
    "start_time": "2023-01-19T15:15:48.215Z"
   },
   {
    "duration": 19,
    "start_time": "2023-01-19T15:15:48.229Z"
   },
   {
    "duration": 16,
    "start_time": "2023-01-19T15:15:48.250Z"
   },
   {
    "duration": 7,
    "start_time": "2023-01-19T15:15:48.268Z"
   },
   {
    "duration": 21,
    "start_time": "2023-01-19T15:15:48.277Z"
   },
   {
    "duration": 21,
    "start_time": "2023-01-19T15:15:48.300Z"
   },
   {
    "duration": 22,
    "start_time": "2023-01-19T15:15:48.323Z"
   },
   {
    "duration": 7,
    "start_time": "2023-01-19T15:15:48.348Z"
   },
   {
    "duration": 9,
    "start_time": "2023-01-19T15:15:48.360Z"
   },
   {
    "duration": 33,
    "start_time": "2023-01-19T15:15:48.371Z"
   },
   {
    "duration": 17,
    "start_time": "2023-01-19T15:15:48.406Z"
   },
   {
    "duration": 10,
    "start_time": "2023-01-19T15:15:48.425Z"
   },
   {
    "duration": 24,
    "start_time": "2023-01-19T15:15:48.438Z"
   },
   {
    "duration": 7,
    "start_time": "2023-01-19T15:15:48.464Z"
   },
   {
    "duration": 18,
    "start_time": "2023-01-19T15:15:48.473Z"
   },
   {
    "duration": 219,
    "start_time": "2023-01-19T15:15:48.493Z"
   },
   {
    "duration": 169,
    "start_time": "2023-01-19T15:15:48.714Z"
   },
   {
    "duration": 18,
    "start_time": "2023-01-19T15:15:48.891Z"
   },
   {
    "duration": 44,
    "start_time": "2023-01-19T15:15:48.912Z"
   },
   {
    "duration": 6,
    "start_time": "2023-01-19T15:15:48.958Z"
   },
   {
    "duration": 35,
    "start_time": "2023-01-19T15:15:48.966Z"
   },
   {
    "duration": 270,
    "start_time": "2023-01-19T15:15:49.004Z"
   },
   {
    "duration": 210,
    "start_time": "2023-01-19T15:15:49.276Z"
   },
   {
    "duration": 19,
    "start_time": "2023-01-19T15:15:49.487Z"
   },
   {
    "duration": 14,
    "start_time": "2023-01-19T15:15:49.507Z"
   },
   {
    "duration": 426,
    "start_time": "2023-01-19T15:15:49.523Z"
   },
   {
    "duration": 154,
    "start_time": "2023-01-19T15:15:49.951Z"
   },
   {
    "duration": 0,
    "start_time": "2023-01-19T15:15:50.109Z"
   },
   {
    "duration": 0,
    "start_time": "2023-01-19T15:15:50.111Z"
   },
   {
    "duration": 0,
    "start_time": "2023-01-19T15:15:50.112Z"
   },
   {
    "duration": 0,
    "start_time": "2023-01-19T15:15:50.114Z"
   },
   {
    "duration": 0,
    "start_time": "2023-01-19T15:15:50.115Z"
   },
   {
    "duration": 0,
    "start_time": "2023-01-19T15:15:50.117Z"
   },
   {
    "duration": 0,
    "start_time": "2023-01-19T15:15:50.118Z"
   },
   {
    "duration": 0,
    "start_time": "2023-01-19T15:15:50.120Z"
   },
   {
    "duration": 0,
    "start_time": "2023-01-19T15:15:50.122Z"
   },
   {
    "duration": 0,
    "start_time": "2023-01-19T15:15:50.124Z"
   },
   {
    "duration": 0,
    "start_time": "2023-01-19T15:15:50.125Z"
   },
   {
    "duration": 0,
    "start_time": "2023-01-19T15:15:50.127Z"
   },
   {
    "duration": 0,
    "start_time": "2023-01-19T15:15:50.129Z"
   },
   {
    "duration": 0,
    "start_time": "2023-01-19T15:15:50.130Z"
   },
   {
    "duration": 0,
    "start_time": "2023-01-19T15:15:50.131Z"
   },
   {
    "duration": 1,
    "start_time": "2023-01-19T15:15:50.132Z"
   },
   {
    "duration": 0,
    "start_time": "2023-01-19T15:15:50.133Z"
   },
   {
    "duration": 0,
    "start_time": "2023-01-19T15:15:50.134Z"
   },
   {
    "duration": 1,
    "start_time": "2023-01-19T15:15:50.135Z"
   },
   {
    "duration": 0,
    "start_time": "2023-01-19T15:15:50.137Z"
   },
   {
    "duration": 0,
    "start_time": "2023-01-19T15:15:50.139Z"
   },
   {
    "duration": 0,
    "start_time": "2023-01-19T15:15:50.191Z"
   },
   {
    "duration": 0,
    "start_time": "2023-01-19T15:15:50.193Z"
   },
   {
    "duration": 0,
    "start_time": "2023-01-19T15:15:50.194Z"
   },
   {
    "duration": 15,
    "start_time": "2023-01-19T15:18:32.949Z"
   },
   {
    "duration": 15,
    "start_time": "2023-01-19T15:19:13.677Z"
   },
   {
    "duration": 28,
    "start_time": "2023-01-19T15:21:41.350Z"
   },
   {
    "duration": 9,
    "start_time": "2023-01-19T15:22:05.861Z"
   },
   {
    "duration": 326,
    "start_time": "2023-01-19T15:22:14.824Z"
   },
   {
    "duration": 3,
    "start_time": "2023-01-19T15:29:11.462Z"
   },
   {
    "duration": 9,
    "start_time": "2023-01-19T15:31:25.898Z"
   },
   {
    "duration": 12,
    "start_time": "2023-01-19T15:31:46.990Z"
   },
   {
    "duration": 12,
    "start_time": "2023-01-19T15:32:14.105Z"
   },
   {
    "duration": 327,
    "start_time": "2023-01-19T15:32:38.606Z"
   },
   {
    "duration": 4,
    "start_time": "2023-01-19T15:33:09.000Z"
   },
   {
    "duration": 49,
    "start_time": "2023-01-19T15:33:09.280Z"
   },
   {
    "duration": 15,
    "start_time": "2023-01-19T15:33:09.641Z"
   },
   {
    "duration": 14,
    "start_time": "2023-01-19T15:33:10.057Z"
   },
   {
    "duration": 3,
    "start_time": "2023-01-19T15:33:11.620Z"
   },
   {
    "duration": 7,
    "start_time": "2023-01-19T15:33:13.096Z"
   },
   {
    "duration": 6,
    "start_time": "2023-01-19T15:33:15.532Z"
   },
   {
    "duration": 5,
    "start_time": "2023-01-19T15:33:16.530Z"
   },
   {
    "duration": 5,
    "start_time": "2023-01-19T15:33:17.451Z"
   },
   {
    "duration": 8,
    "start_time": "2023-01-19T15:33:18.683Z"
   },
   {
    "duration": 9,
    "start_time": "2023-01-19T15:33:20.955Z"
   },
   {
    "duration": 4,
    "start_time": "2023-01-19T15:33:21.265Z"
   },
   {
    "duration": 7,
    "start_time": "2023-01-19T15:33:21.642Z"
   },
   {
    "duration": 7,
    "start_time": "2023-01-19T15:33:21.988Z"
   },
   {
    "duration": 11,
    "start_time": "2023-01-19T15:33:22.327Z"
   },
   {
    "duration": 8,
    "start_time": "2023-01-19T15:33:22.482Z"
   },
   {
    "duration": 4,
    "start_time": "2023-01-19T15:33:22.830Z"
   },
   {
    "duration": 5,
    "start_time": "2023-01-19T15:33:23.009Z"
   },
   {
    "duration": 5,
    "start_time": "2023-01-19T15:33:23.187Z"
   },
   {
    "duration": 6,
    "start_time": "2023-01-19T15:33:23.348Z"
   },
   {
    "duration": 165,
    "start_time": "2023-01-19T15:33:23.649Z"
   },
   {
    "duration": 242,
    "start_time": "2023-01-19T15:33:23.816Z"
   },
   {
    "duration": 12,
    "start_time": "2023-01-19T15:33:24.114Z"
   },
   {
    "duration": 16,
    "start_time": "2023-01-19T15:33:25.189Z"
   },
   {
    "duration": 5,
    "start_time": "2023-01-19T15:33:25.518Z"
   },
   {
    "duration": 5,
    "start_time": "2023-01-19T15:33:26.528Z"
   },
   {
    "duration": 181,
    "start_time": "2023-01-19T15:33:26.705Z"
   },
   {
    "duration": 180,
    "start_time": "2023-01-19T15:33:26.892Z"
   },
   {
    "duration": 21,
    "start_time": "2023-01-19T15:33:27.211Z"
   },
   {
    "duration": 13,
    "start_time": "2023-01-19T15:33:27.357Z"
   },
   {
    "duration": 318,
    "start_time": "2023-01-19T15:33:28.364Z"
   },
   {
    "duration": 9,
    "start_time": "2023-01-19T15:33:32.786Z"
   },
   {
    "duration": 7,
    "start_time": "2023-01-19T15:33:34.597Z"
   },
   {
    "duration": 12,
    "start_time": "2023-01-19T15:33:34.879Z"
   },
   {
    "duration": 359,
    "start_time": "2023-01-19T15:33:35.040Z"
   },
   {
    "duration": 14,
    "start_time": "2023-01-19T15:34:24.931Z"
   },
   {
    "duration": 259,
    "start_time": "2023-01-19T15:37:00.110Z"
   },
   {
    "duration": 267,
    "start_time": "2023-01-19T15:39:06.184Z"
   },
   {
    "duration": 274,
    "start_time": "2023-01-19T15:39:21.196Z"
   },
   {
    "duration": 317,
    "start_time": "2023-01-19T15:39:35.213Z"
   },
   {
    "duration": 256,
    "start_time": "2023-01-19T15:40:03.055Z"
   },
   {
    "duration": 195,
    "start_time": "2023-01-19T15:40:10.335Z"
   },
   {
    "duration": 13,
    "start_time": "2023-01-19T15:41:28.846Z"
   },
   {
    "duration": 666,
    "start_time": "2023-01-19T15:41:59.875Z"
   },
   {
    "duration": 13,
    "start_time": "2023-01-19T15:42:52.486Z"
   },
   {
    "duration": 12,
    "start_time": "2023-01-19T15:42:54.460Z"
   },
   {
    "duration": 12,
    "start_time": "2023-01-19T15:43:44.958Z"
   },
   {
    "duration": 13,
    "start_time": "2023-01-19T15:43:47.199Z"
   },
   {
    "duration": 11,
    "start_time": "2023-01-19T15:43:56.290Z"
   },
   {
    "duration": 15,
    "start_time": "2023-01-19T15:45:47.451Z"
   },
   {
    "duration": 15,
    "start_time": "2023-01-19T15:45:53.483Z"
   },
   {
    "duration": 19,
    "start_time": "2023-01-19T15:46:13.106Z"
   },
   {
    "duration": 150,
    "start_time": "2023-01-19T15:47:02.994Z"
   },
   {
    "duration": 222,
    "start_time": "2023-01-19T15:47:18.913Z"
   },
   {
    "duration": 142,
    "start_time": "2023-01-19T15:47:38.729Z"
   },
   {
    "duration": 149,
    "start_time": "2023-01-19T15:49:09.095Z"
   },
   {
    "duration": 137,
    "start_time": "2023-01-19T15:49:46.625Z"
   },
   {
    "duration": 165,
    "start_time": "2023-01-19T15:50:07.192Z"
   },
   {
    "duration": 177,
    "start_time": "2023-01-19T15:53:05.173Z"
   },
   {
    "duration": 183,
    "start_time": "2023-01-19T15:53:31.001Z"
   },
   {
    "duration": 215,
    "start_time": "2023-01-19T15:53:47.064Z"
   },
   {
    "duration": 305,
    "start_time": "2023-01-19T15:54:06.758Z"
   },
   {
    "duration": 23,
    "start_time": "2023-01-19T15:58:05.132Z"
   },
   {
    "duration": 404,
    "start_time": "2023-01-19T15:59:18.075Z"
   },
   {
    "duration": 22,
    "start_time": "2023-01-19T16:03:31.725Z"
   },
   {
    "duration": 3,
    "start_time": "2023-01-19T16:03:44.631Z"
   },
   {
    "duration": 21,
    "start_time": "2023-01-19T16:03:50.963Z"
   },
   {
    "duration": 23,
    "start_time": "2023-01-19T16:05:00.124Z"
   },
   {
    "duration": 406,
    "start_time": "2023-01-19T16:05:38.271Z"
   },
   {
    "duration": 16,
    "start_time": "2023-01-19T16:06:57.884Z"
   },
   {
    "duration": 268,
    "start_time": "2023-01-19T16:07:21.004Z"
   },
   {
    "duration": 17,
    "start_time": "2023-01-19T16:09:08.490Z"
   },
   {
    "duration": 10,
    "start_time": "2023-01-19T16:11:07.905Z"
   },
   {
    "duration": 10,
    "start_time": "2023-01-19T16:11:41.825Z"
   },
   {
    "duration": 3,
    "start_time": "2023-01-19T16:12:05.703Z"
   },
   {
    "duration": 6,
    "start_time": "2023-01-19T16:12:19.863Z"
   },
   {
    "duration": 8,
    "start_time": "2023-01-19T16:18:47.558Z"
   },
   {
    "duration": 7,
    "start_time": "2023-01-19T16:19:13.801Z"
   },
   {
    "duration": 8,
    "start_time": "2023-01-19T16:19:29.764Z"
   },
   {
    "duration": 14,
    "start_time": "2023-01-19T16:25:57.295Z"
   },
   {
    "duration": 13,
    "start_time": "2023-01-19T16:26:29.231Z"
   },
   {
    "duration": 13,
    "start_time": "2023-01-19T16:27:02.842Z"
   },
   {
    "duration": 10,
    "start_time": "2023-01-19T16:56:46.309Z"
   },
   {
    "duration": 25,
    "start_time": "2023-01-19T16:56:49.412Z"
   },
   {
    "duration": 421,
    "start_time": "2023-01-19T16:57:31.294Z"
   },
   {
    "duration": 394,
    "start_time": "2023-01-19T16:57:35.177Z"
   },
   {
    "duration": 506,
    "start_time": "2023-01-19T16:59:13.224Z"
   },
   {
    "duration": 506,
    "start_time": "2023-01-19T16:59:44.196Z"
   },
   {
    "duration": 436,
    "start_time": "2023-01-19T17:01:51.608Z"
   },
   {
    "duration": 17,
    "start_time": "2023-01-19T17:02:10.622Z"
   },
   {
    "duration": 420,
    "start_time": "2023-01-19T17:02:27.556Z"
   },
   {
    "duration": 7,
    "start_time": "2023-01-19T17:02:40.451Z"
   },
   {
    "duration": 9,
    "start_time": "2023-01-19T17:02:54.997Z"
   },
   {
    "duration": 18,
    "start_time": "2023-01-19T17:03:05.969Z"
   },
   {
    "duration": 8,
    "start_time": "2023-01-19T17:03:13.538Z"
   },
   {
    "duration": 8,
    "start_time": "2023-01-19T17:03:33.821Z"
   },
   {
    "duration": 8,
    "start_time": "2023-01-19T17:03:40.807Z"
   },
   {
    "duration": 8,
    "start_time": "2023-01-19T17:04:30.777Z"
   },
   {
    "duration": 8,
    "start_time": "2023-01-19T17:05:01.900Z"
   },
   {
    "duration": 7,
    "start_time": "2023-01-19T17:05:11.793Z"
   },
   {
    "duration": 11,
    "start_time": "2023-01-19T17:06:31.320Z"
   },
   {
    "duration": 11,
    "start_time": "2023-01-19T17:06:42.154Z"
   },
   {
    "duration": 12,
    "start_time": "2023-01-19T17:06:47.293Z"
   },
   {
    "duration": 11,
    "start_time": "2023-01-19T17:06:57.063Z"
   },
   {
    "duration": 11,
    "start_time": "2023-01-19T17:07:03.090Z"
   },
   {
    "duration": 12,
    "start_time": "2023-01-19T17:07:06.088Z"
   },
   {
    "duration": 11,
    "start_time": "2023-01-19T17:07:20.754Z"
   },
   {
    "duration": 22,
    "start_time": "2023-01-19T17:08:54.052Z"
   },
   {
    "duration": 14,
    "start_time": "2023-01-19T17:09:03.830Z"
   },
   {
    "duration": 16,
    "start_time": "2023-01-19T17:09:15.340Z"
   },
   {
    "duration": 13,
    "start_time": "2023-01-19T17:09:26.303Z"
   },
   {
    "duration": 8,
    "start_time": "2023-01-19T17:14:15.801Z"
   },
   {
    "duration": 9,
    "start_time": "2023-01-19T17:17:00.251Z"
   },
   {
    "duration": 10,
    "start_time": "2023-01-19T17:17:17.337Z"
   },
   {
    "duration": 14,
    "start_time": "2023-01-19T17:17:42.449Z"
   },
   {
    "duration": 7,
    "start_time": "2023-01-19T17:18:18.383Z"
   },
   {
    "duration": 17,
    "start_time": "2023-01-19T17:19:29.779Z"
   },
   {
    "duration": 17,
    "start_time": "2023-01-19T17:19:42.578Z"
   },
   {
    "duration": 12,
    "start_time": "2023-01-19T17:19:58.011Z"
   },
   {
    "duration": 1203,
    "start_time": "2023-01-19T17:20:06.956Z"
   },
   {
    "duration": 811,
    "start_time": "2023-01-19T17:20:22.905Z"
   },
   {
    "duration": 834,
    "start_time": "2023-01-19T17:20:38.097Z"
   },
   {
    "duration": 9,
    "start_time": "2023-01-19T17:20:58.884Z"
   },
   {
    "duration": 408,
    "start_time": "2023-01-19T17:21:12.632Z"
   },
   {
    "duration": 10,
    "start_time": "2023-01-19T17:21:17.769Z"
   },
   {
    "duration": 17,
    "start_time": "2023-01-19T17:21:21.611Z"
   },
   {
    "duration": 6,
    "start_time": "2023-01-19T17:21:41.988Z"
   },
   {
    "duration": 452,
    "start_time": "2023-01-19T17:22:01.059Z"
   },
   {
    "duration": 12,
    "start_time": "2023-01-19T17:22:08.798Z"
   },
   {
    "duration": 12,
    "start_time": "2023-01-19T17:22:14.653Z"
   },
   {
    "duration": 17,
    "start_time": "2023-01-19T17:22:23.092Z"
   },
   {
    "duration": 27,
    "start_time": "2023-01-19T17:23:30.216Z"
   },
   {
    "duration": 15,
    "start_time": "2023-01-19T17:23:36.345Z"
   },
   {
    "duration": 17,
    "start_time": "2023-01-19T17:23:43.072Z"
   },
   {
    "duration": 23,
    "start_time": "2023-01-19T17:27:21.980Z"
   },
   {
    "duration": 20,
    "start_time": "2023-01-19T17:27:36.566Z"
   },
   {
    "duration": 18,
    "start_time": "2023-01-19T17:27:54.107Z"
   },
   {
    "duration": 14,
    "start_time": "2023-01-19T17:28:11.656Z"
   },
   {
    "duration": 14,
    "start_time": "2023-01-19T17:28:18.045Z"
   },
   {
    "duration": 13,
    "start_time": "2023-01-19T17:28:32.925Z"
   },
   {
    "duration": 13,
    "start_time": "2023-01-19T17:28:45.620Z"
   },
   {
    "duration": 12,
    "start_time": "2023-01-19T17:28:52.140Z"
   },
   {
    "duration": 20,
    "start_time": "2023-01-19T17:28:59.885Z"
   },
   {
    "duration": 13,
    "start_time": "2023-01-19T17:29:31.536Z"
   },
   {
    "duration": 11,
    "start_time": "2023-01-19T17:29:37.291Z"
   },
   {
    "duration": 19,
    "start_time": "2023-01-19T17:29:47.485Z"
   },
   {
    "duration": 17,
    "start_time": "2023-01-19T17:30:08.956Z"
   },
   {
    "duration": 21,
    "start_time": "2023-01-19T17:30:20.525Z"
   },
   {
    "duration": 5,
    "start_time": "2023-01-19T17:34:02.305Z"
   },
   {
    "duration": 21,
    "start_time": "2023-01-19T17:34:38.183Z"
   },
   {
    "duration": 26,
    "start_time": "2023-01-19T17:34:50.796Z"
   },
   {
    "duration": 107,
    "start_time": "2023-01-19T17:35:43.240Z"
   },
   {
    "duration": 4,
    "start_time": "2023-01-19T17:36:35.311Z"
   },
   {
    "duration": 290,
    "start_time": "2023-01-19T17:40:32.078Z"
   },
   {
    "duration": 420,
    "start_time": "2023-01-19T17:40:55.073Z"
   },
   {
    "duration": 295,
    "start_time": "2023-01-19T17:42:29.933Z"
   },
   {
    "duration": 22,
    "start_time": "2023-01-19T17:42:40.208Z"
   },
   {
    "duration": 284,
    "start_time": "2023-01-19T17:42:58.651Z"
   },
   {
    "duration": 1353,
    "start_time": "2023-01-20T14:01:27.805Z"
   },
   {
    "duration": 72,
    "start_time": "2023-01-20T14:01:29.169Z"
   },
   {
    "duration": 28,
    "start_time": "2023-01-20T14:01:29.243Z"
   },
   {
    "duration": 45,
    "start_time": "2023-01-20T14:01:29.273Z"
   },
   {
    "duration": 20,
    "start_time": "2023-01-20T14:01:29.320Z"
   },
   {
    "duration": 76,
    "start_time": "2023-01-20T14:01:29.342Z"
   },
   {
    "duration": 28,
    "start_time": "2023-01-20T14:01:29.420Z"
   },
   {
    "duration": 73,
    "start_time": "2023-01-20T14:01:29.451Z"
   },
   {
    "duration": 70,
    "start_time": "2023-01-20T14:01:29.526Z"
   },
   {
    "duration": 27,
    "start_time": "2023-01-20T14:01:29.599Z"
   },
   {
    "duration": 32,
    "start_time": "2023-01-20T14:01:29.629Z"
   },
   {
    "duration": 58,
    "start_time": "2023-01-20T14:01:29.663Z"
   },
   {
    "duration": 61,
    "start_time": "2023-01-20T14:01:29.724Z"
   },
   {
    "duration": 29,
    "start_time": "2023-01-20T14:01:29.786Z"
   },
   {
    "duration": 17,
    "start_time": "2023-01-20T14:01:29.818Z"
   },
   {
    "duration": 61,
    "start_time": "2023-01-20T14:01:29.837Z"
   },
   {
    "duration": 10,
    "start_time": "2023-01-20T14:01:29.905Z"
   },
   {
    "duration": 27,
    "start_time": "2023-01-20T14:01:29.918Z"
   },
   {
    "duration": 47,
    "start_time": "2023-01-20T14:01:29.950Z"
   },
   {
    "duration": 39,
    "start_time": "2023-01-20T14:01:29.999Z"
   },
   {
    "duration": 318,
    "start_time": "2023-01-20T14:01:30.041Z"
   },
   {
    "duration": 168,
    "start_time": "2023-01-20T14:01:30.361Z"
   },
   {
    "duration": 24,
    "start_time": "2023-01-20T14:01:30.531Z"
   },
   {
    "duration": 67,
    "start_time": "2023-01-20T14:01:30.559Z"
   },
   {
    "duration": 96,
    "start_time": "2023-01-20T14:01:30.628Z"
   },
   {
    "duration": 75,
    "start_time": "2023-01-20T14:01:30.726Z"
   },
   {
    "duration": 286,
    "start_time": "2023-01-20T14:01:30.803Z"
   },
   {
    "duration": 257,
    "start_time": "2023-01-20T14:01:31.096Z"
   },
   {
    "duration": 24,
    "start_time": "2023-01-20T14:01:31.355Z"
   },
   {
    "duration": 53,
    "start_time": "2023-01-20T14:01:31.381Z"
   },
   {
    "duration": 420,
    "start_time": "2023-01-20T14:01:31.436Z"
   },
   {
    "duration": 9,
    "start_time": "2023-01-20T14:01:31.858Z"
   },
   {
    "duration": 44,
    "start_time": "2023-01-20T14:01:31.869Z"
   },
   {
    "duration": 15,
    "start_time": "2023-01-20T14:01:31.915Z"
   },
   {
    "duration": 473,
    "start_time": "2023-01-20T14:01:31.933Z"
   },
   {
    "duration": 358,
    "start_time": "2023-01-20T14:01:32.408Z"
   },
   {
    "duration": 207,
    "start_time": "2023-01-20T14:01:32.768Z"
   },
   {
    "duration": 15,
    "start_time": "2023-01-20T14:01:32.976Z"
   },
   {
    "duration": 697,
    "start_time": "2023-01-20T14:01:32.992Z"
   },
   {
    "duration": 207,
    "start_time": "2023-01-20T14:01:33.692Z"
   },
   {
    "duration": 200,
    "start_time": "2023-01-20T14:01:33.901Z"
   },
   {
    "duration": 13,
    "start_time": "2023-01-20T14:01:34.103Z"
   },
   {
    "duration": 170,
    "start_time": "2023-01-20T14:01:34.118Z"
   },
   {
    "duration": 13,
    "start_time": "2023-01-20T14:01:34.290Z"
   },
   {
    "duration": 245,
    "start_time": "2023-01-20T14:01:34.306Z"
   },
   {
    "duration": 21,
    "start_time": "2023-01-20T14:01:34.553Z"
   },
   {
    "duration": 251,
    "start_time": "2023-01-20T14:01:34.579Z"
   },
   {
    "duration": 204,
    "start_time": "2023-01-20T14:01:34.831Z"
   },
   {
    "duration": 249,
    "start_time": "2023-01-20T14:01:35.037Z"
   },
   {
    "duration": 281,
    "start_time": "2023-01-20T14:01:35.288Z"
   },
   {
    "duration": 332,
    "start_time": "2023-01-20T14:01:35.572Z"
   },
   {
    "duration": 4,
    "start_time": "2023-01-20T14:01:35.906Z"
   },
   {
    "duration": 48,
    "start_time": "2023-01-20T14:01:35.912Z"
   },
   {
    "duration": 7,
    "start_time": "2023-01-20T14:01:35.967Z"
   },
   {
    "duration": 436,
    "start_time": "2023-01-20T14:01:35.976Z"
   },
   {
    "duration": 45,
    "start_time": "2023-01-20T14:01:36.414Z"
   },
   {
    "duration": 365,
    "start_time": "2023-01-20T14:01:36.461Z"
   },
   {
    "duration": 32,
    "start_time": "2023-01-20T14:01:36.828Z"
   },
   {
    "duration": 288,
    "start_time": "2023-01-20T14:01:36.868Z"
   },
   {
    "duration": 11,
    "start_time": "2023-01-20T14:01:37.160Z"
   },
   {
    "duration": 21,
    "start_time": "2023-01-20T14:01:37.172Z"
   },
   {
    "duration": 20,
    "start_time": "2023-01-20T14:01:37.195Z"
   }
  ],
  "kernelspec": {
   "display_name": "Python 3 (ipykernel)",
   "language": "python",
   "name": "python3"
  },
  "language_info": {
   "codemirror_mode": {
    "name": "ipython",
    "version": 3
   },
   "file_extension": ".py",
   "mimetype": "text/x-python",
   "name": "python",
   "nbconvert_exporter": "python",
   "pygments_lexer": "ipython3",
   "version": "3.9.5"
  },
  "toc": {
   "base_numbering": 1,
   "nav_menu": {},
   "number_sections": false,
   "sideBar": true,
   "skip_h1_title": true,
   "title_cell": "Table of Contents",
   "title_sidebar": "Contents",
   "toc_cell": false,
   "toc_position": {},
   "toc_section_display": true,
   "toc_window_display": true
  }
 },
 "nbformat": 4,
 "nbformat_minor": 2
}
